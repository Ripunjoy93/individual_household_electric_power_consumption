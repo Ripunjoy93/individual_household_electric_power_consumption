{
  "nbformat": 4,
  "nbformat_minor": 0,
  "metadata": {
    "colab": {
      "name": "9_Model_Hourly_Multivariate_Colab_4.ipynb",
      "provenance": [],
      "collapsed_sections": []
    },
    "kernelspec": {
      "name": "python3",
      "display_name": "Python 3"
    },
    "accelerator": "GPU"
  },
  "cells": [
    {
      "cell_type": "markdown",
      "metadata": {
        "id": "jSWpK9pF93mj",
        "colab_type": "text"
      },
      "source": [
        "## LSTM encoder-decoder with multivariate input (Training using google colab, uploading data from google drive)"
      ]
    },
    {
      "cell_type": "code",
      "metadata": {
        "id": "sqH5bOiExHlQ",
        "colab_type": "code",
        "colab": {
          "base_uri": "https://localhost:8080/",
          "height": 34
        },
        "outputId": "2d25dfe6-8517-435f-cb82-8472491b8a50"
      },
      "source": [
        "# Mounting google drive\n",
        "from google.colab import drive\n",
        "drive.mount(\"/content/google_drive/\")"
      ],
      "execution_count": 4,
      "outputs": [
        {
          "output_type": "stream",
          "text": [
            "Mounted at /content/google_drive/\n"
          ],
          "name": "stdout"
        }
      ]
    },
    {
      "cell_type": "code",
      "metadata": {
        "id": "yJNKSiOvqcqJ",
        "colab_type": "code",
        "colab": {
          "base_uri": "https://localhost:8080/",
          "height": 272
        },
        "outputId": "2e411b54-3754-453a-b248-5d82d3a6a57f"
      },
      "source": [
        "# checking if required files are available in my google drive project (I have uploaded my project to google drive)\n",
        "!ls -R \"/content/google_drive/My Drive/Colab Notebooks/individual_household_electric_power_consumption/\""
      ],
      "execution_count": 5,
      "outputs": [
        {
          "output_type": "stream",
          "text": [
            "'/content/google_drive/My Drive/Colab Notebooks/individual_household_electric_power_consumption/':\n",
            "data  hourly_models  requirements.txt  test_data.csv\n",
            "\n",
            "'/content/google_drive/My Drive/Colab Notebooks/individual_household_electric_power_consumption/data':\n",
            "cleaned_household_power_consumption.csv\n",
            "\n",
            "'/content/google_drive/My Drive/Colab Notebooks/individual_household_electric_power_consumption/hourly_models':\n",
            "eval_scaled_48_to_48.npy       test_scaled_48_to_48.npy\n",
            "eval_scaled_72_to_48.npy       test_scaled_72_to_48.npy\n",
            "min_max_all_feat_48_to_48.pkl  train_scaled_48_to_48.npy\n",
            "min_max_all_feat_72_to_48.pkl  train_scaled_72_to_48.npy\n",
            "model_4\n",
            "\n",
            "'/content/google_drive/My Drive/Colab Notebooks/individual_household_electric_power_consumption/hourly_models/model_4':\n",
            "weights_best.hdf5\n"
          ],
          "name": "stdout"
        }
      ]
    },
    {
      "cell_type": "markdown",
      "metadata": {
        "id": "j3PqsGDEvNxh",
        "colab_type": "text"
      },
      "source": [
        "#### All the required data is available. Download the project from [GitHub](https://github.com/Ripunjoy93/individual_household_electric_power_consumption), and saved it to your google drive and follow the above steps."
      ]
    },
    {
      "cell_type": "code",
      "metadata": {
        "id": "IGFRBzCCrtQx",
        "colab_type": "code",
        "colab": {}
      },
      "source": [
        "# change woeking directory to mounted google_drive project directory\n",
        "import os\n",
        "google_drive_root = \"/content/google_drive/My Drive/Colab Notebooks/individual_household_electric_power_consumption/\"\n",
        "os.chdir(google_drive_root)"
      ],
      "execution_count": 0,
      "outputs": []
    },
    {
      "cell_type": "markdown",
      "metadata": {
        "id": "-DlfnkfQwH7T",
        "colab_type": "text"
      },
      "source": [
        "#### Installing all requirements files:"
      ]
    },
    {
      "cell_type": "code",
      "metadata": {
        "id": "XlAVXYwlr5Yz",
        "colab_type": "code",
        "colab": {}
      },
      "source": [
        "# memory footprint support libraries/code\n",
        "!ln -sf /opt/bin/nvidia-smi /usr/bin/nvidia-smi\n",
        "!pip install gputil\n",
        "!pip install psutil\n",
        "!pip install humanize\n",
        "# installing requirements\n",
        "!pip install -r requirements.txt"
      ],
      "execution_count": 0,
      "outputs": []
    },
    {
      "cell_type": "code",
      "metadata": {
        "id": "1waeNHXEN4Yj",
        "colab_type": "code",
        "colab": {
          "base_uri": "https://localhost:8080/",
          "height": 289
        },
        "outputId": "6746eb4f-e46c-4764-957c-eba377ccfbd3"
      },
      "source": [
        "!nvidia-smi"
      ],
      "execution_count": 8,
      "outputs": [
        {
          "output_type": "stream",
          "text": [
            "Tue Oct  8 07:14:13 2019       \n",
            "+-----------------------------------------------------------------------------+\n",
            "| NVIDIA-SMI 418.67       Driver Version: 418.67       CUDA Version: 10.1     |\n",
            "|-------------------------------+----------------------+----------------------+\n",
            "| GPU  Name        Persistence-M| Bus-Id        Disp.A | Volatile Uncorr. ECC |\n",
            "| Fan  Temp  Perf  Pwr:Usage/Cap|         Memory-Usage | GPU-Util  Compute M. |\n",
            "|===============================+======================+======================|\n",
            "|   0  Tesla K80           Off  | 00000000:00:04.0 Off |                    0 |\n",
            "| N/A   73C    P0    75W / 149W |     69MiB / 11441MiB |      0%      Default |\n",
            "+-------------------------------+----------------------+----------------------+\n",
            "                                                                               \n",
            "+-----------------------------------------------------------------------------+\n",
            "| Processes:                                                       GPU Memory |\n",
            "|  GPU       PID   Type   Process name                             Usage      |\n",
            "|=============================================================================|\n",
            "+-----------------------------------------------------------------------------+\n"
          ],
          "name": "stdout"
        }
      ]
    },
    {
      "cell_type": "code",
      "metadata": {
        "id": "-6dwvU-Cw7Op",
        "colab_type": "code",
        "colab": {
          "base_uri": "https://localhost:8080/",
          "height": 68
        },
        "outputId": "815db9d3-e27a-4abc-def9-0783014ec2c1"
      },
      "source": [
        "# Check gpu is available or not\n",
        "# We need to change runtime type if not changed\n",
        "import tensorflow as tf\n",
        "print(\"Tensorflow version: \", tf.__version__)\n",
        "device_name = tf.test.gpu_device_name()\n",
        "print(device_name)\n",
        "if device_name != \"/device:GPU:0\":\n",
        "    #raise SystemError('GPU device not found')\n",
        "    print(\"GPU device not found\")\n",
        "print('Found GPU at: {}'.format(device_name))"
      ],
      "execution_count": 9,
      "outputs": [
        {
          "output_type": "stream",
          "text": [
            "Tensorflow version:  1.14.0\n",
            "/device:GPU:0\n",
            "Found GPU at: /device:GPU:0\n"
          ],
          "name": "stdout"
        }
      ]
    },
    {
      "cell_type": "code",
      "metadata": {
        "id": "YexerjuByx7X",
        "colab_type": "code",
        "colab": {
          "base_uri": "https://localhost:8080/",
          "height": 476
        },
        "outputId": "6940c949-d3f5-4999-fca2-c8d0ab72c08d"
      },
      "source": [
        "# My local device\n",
        "from tensorflow.python.client import device_lib\n",
        "device_lib.list_local_devices()"
      ],
      "execution_count": 10,
      "outputs": [
        {
          "output_type": "execute_result",
          "data": {
            "text/plain": [
              "[name: \"/device:CPU:0\"\n",
              " device_type: \"CPU\"\n",
              " memory_limit: 268435456\n",
              " locality {\n",
              " }\n",
              " incarnation: 959664670692676965, name: \"/device:XLA_CPU:0\"\n",
              " device_type: \"XLA_CPU\"\n",
              " memory_limit: 17179869184\n",
              " locality {\n",
              " }\n",
              " incarnation: 13598656956841584332\n",
              " physical_device_desc: \"device: XLA_CPU device\", name: \"/device:XLA_GPU:0\"\n",
              " device_type: \"XLA_GPU\"\n",
              " memory_limit: 17179869184\n",
              " locality {\n",
              " }\n",
              " incarnation: 10815189144306302665\n",
              " physical_device_desc: \"device: XLA_GPU device\", name: \"/device:GPU:0\"\n",
              " device_type: \"GPU\"\n",
              " memory_limit: 11330115994\n",
              " locality {\n",
              "   bus_id: 1\n",
              "   links {\n",
              "   }\n",
              " }\n",
              " incarnation: 13286909374603703833\n",
              " physical_device_desc: \"device: 0, name: Tesla K80, pci bus id: 0000:00:04.0, compute capability: 3.7\"]"
            ]
          },
          "metadata": {
            "tags": []
          },
          "execution_count": 10
        }
      ]
    },
    {
      "cell_type": "code",
      "metadata": {
        "id": "Sa6MXy_D-2mn",
        "colab_type": "code",
        "colab": {
          "base_uri": "https://localhost:8080/",
          "height": 51
        },
        "outputId": "bfd8bc30-c3dd-4b3e-ed84-87010221fcf5"
      },
      "source": [
        "# Checking GPU status\n",
        "import psutil\n",
        "import humanize\n",
        "import os\n",
        "import GPUtil as GPU\n",
        "GPUs = GPU.getGPUs()\n",
        "# XXX: only one GPU on Colab and isn’t guaranteed\n",
        "gpu = GPUs[0]\n",
        "def printm():\n",
        " process = psutil.Process(os.getpid())\n",
        " print(\"Gen RAM Free: \" + humanize.naturalsize( psutil.virtual_memory().available ), \" | Proc size: \" + humanize.naturalsize( process.memory_info().rss))\n",
        " print(\"GPU RAM Free: {0:.0f}MB | Used: {1:.0f}MB | Util {2:3.0f}% | Total {3:.0f}MB\".format(gpu.memoryFree, gpu.memoryUsed, gpu.memoryUtil*100, gpu.memoryTotal))\n",
        "printm()"
      ],
      "execution_count": 11,
      "outputs": [
        {
          "output_type": "stream",
          "text": [
            "Gen RAM Free: 12.6 GB  | Proc size: 443.7 MB\n",
            "GPU RAM Free: 11372MB | Used: 69MB | Util   1% | Total 11441MB\n"
          ],
          "name": "stdout"
        }
      ]
    },
    {
      "cell_type": "code",
      "metadata": {
        "id": "OLU64pfm_RD3",
        "colab_type": "code",
        "colab": {}
      },
      "source": [
        "# Test if files are being saved in google drive\n",
        "import pandas as pd\n",
        "df = pd.DataFrame({\"a\":[1,2,3], \"b\":[4,5,6]})\n",
        "df.to_csv(\"test_data.csv\")"
      ],
      "execution_count": 0,
      "outputs": []
    },
    {
      "cell_type": "markdown",
      "metadata": {
        "id": "v9k13IR1yOCa",
        "colab_type": "text"
      },
      "source": [
        "**Successfully able to add data to google drive**"
      ]
    },
    {
      "cell_type": "markdown",
      "metadata": {
        "id": "1g8FM5Pay6_C",
        "colab_type": "text"
      },
      "source": [
        "## Model building\n",
        "**As setup is complete (I am automating the setup so that it won't need much manual interaction afterwards, as after 12 hours we lost our runtime and need to do everything all over)**"
      ]
    },
    {
      "cell_type": "code",
      "metadata": {
        "id": "ZfA5J6LWyIG0",
        "colab_type": "code",
        "colab": {}
      },
      "source": [
        "# coding: utf-8\n",
        "# !/usr/bin/env python3\n",
        "import pandas as pd\n",
        "pd.set_option(\"display.max_columns\", None)\n",
        "import numpy as np\n",
        "import warnings\n",
        "warnings.filterwarnings(\"ignore\")\n",
        "import datetime\n",
        "from sklearn.metrics import mean_squared_error\n",
        "from sklearn.preprocessing import MinMaxScaler\n",
        "# from sklearn.externals import joblib\n",
        "import joblib\n",
        "import matplotlib.pyplot as plt\n",
        "from matplotlib.dates import DateFormatter, HourLocator\n",
        "import tensorflow as tf\n",
        "from tensorflow.keras.models import Sequential, model_from_json\n",
        "from tensorflow.keras.layers import LSTM, Dense, TimeDistributed, RepeatVector\n",
        "from tensorflow.keras.callbacks import ModelCheckpoint, Callback\n",
        "from tensorflow.keras import optimizers"
      ],
      "execution_count": 0,
      "outputs": []
    },
    {
      "cell_type": "markdown",
      "metadata": {
        "id": "vaO-7jdC6QvV",
        "colab_type": "text"
      },
      "source": [
        "### As running in Colab, we can get max 12 GB GPU instance for 12 hours if no other person is sharing with. So, changing the model parameters to be little more deeper.\n",
        "1. Suppose we want to input 3 days of data, 24*3 data points. We need to change our train, test, and eval split. And do the pre-process over again."
      ]
    },
    {
      "cell_type": "code",
      "metadata": {
        "id": "pQc2-z6a6dgF",
        "colab_type": "code",
        "colab": {
          "base_uri": "https://localhost:8080/",
          "height": 320
        },
        "outputId": "689aee10-aeb2-4d18-ba15-801118455f92"
      },
      "source": [
        "# read dataset, if file is not available run: 1_Exploratory_Analylis.ipynb\n",
        "df = pd.read_csv(\"./data/cleaned_household_power_consumption.csv\", infer_datetime_format=True, parse_dates=[\"local_time\"],\n",
        "                index_col=[\"local_time\"], dtype=np.float32)\n",
        "# Just to be safer, data is already sorted\n",
        "df.sort_index(inplace=True)\n",
        "df = df.resample(\"H\").sum()\n",
        "df.head()"
      ],
      "execution_count": 14,
      "outputs": [
        {
          "output_type": "execute_result",
          "data": {
            "text/html": [
              "<div>\n",
              "<style scoped>\n",
              "    .dataframe tbody tr th:only-of-type {\n",
              "        vertical-align: middle;\n",
              "    }\n",
              "\n",
              "    .dataframe tbody tr th {\n",
              "        vertical-align: top;\n",
              "    }\n",
              "\n",
              "    .dataframe thead th {\n",
              "        text-align: right;\n",
              "    }\n",
              "</style>\n",
              "<table border=\"1\" class=\"dataframe\">\n",
              "  <thead>\n",
              "    <tr style=\"text-align: right;\">\n",
              "      <th></th>\n",
              "      <th>global_active_power</th>\n",
              "      <th>global_reactive_power</th>\n",
              "      <th>voltage</th>\n",
              "      <th>global_intensity</th>\n",
              "      <th>sub_metering_1</th>\n",
              "      <th>sub_metering_2</th>\n",
              "      <th>sub_metering_3</th>\n",
              "      <th>sub_metering_other</th>\n",
              "    </tr>\n",
              "    <tr>\n",
              "      <th>local_time</th>\n",
              "      <th></th>\n",
              "      <th></th>\n",
              "      <th></th>\n",
              "      <th></th>\n",
              "      <th></th>\n",
              "      <th></th>\n",
              "      <th></th>\n",
              "      <th></th>\n",
              "    </tr>\n",
              "  </thead>\n",
              "  <tbody>\n",
              "    <tr>\n",
              "      <th>2006-12-16 17:00:00</th>\n",
              "      <td>152.024002</td>\n",
              "      <td>8.243999</td>\n",
              "      <td>8447.179688</td>\n",
              "      <td>651.599976</td>\n",
              "      <td>0.0</td>\n",
              "      <td>19.0</td>\n",
              "      <td>607.0</td>\n",
              "      <td>1907.733398</td>\n",
              "    </tr>\n",
              "    <tr>\n",
              "      <th>2006-12-16 18:00:00</th>\n",
              "      <td>217.932007</td>\n",
              "      <td>4.802000</td>\n",
              "      <td>14074.809570</td>\n",
              "      <td>936.000000</td>\n",
              "      <td>0.0</td>\n",
              "      <td>403.0</td>\n",
              "      <td>1012.0</td>\n",
              "      <td>2217.199951</td>\n",
              "    </tr>\n",
              "    <tr>\n",
              "      <th>2006-12-16 19:00:00</th>\n",
              "      <td>204.013992</td>\n",
              "      <td>5.114000</td>\n",
              "      <td>13993.950195</td>\n",
              "      <td>870.200012</td>\n",
              "      <td>0.0</td>\n",
              "      <td>86.0</td>\n",
              "      <td>1001.0</td>\n",
              "      <td>2313.233398</td>\n",
              "    </tr>\n",
              "    <tr>\n",
              "      <th>2006-12-16 20:00:00</th>\n",
              "      <td>196.113998</td>\n",
              "      <td>4.506000</td>\n",
              "      <td>14044.290039</td>\n",
              "      <td>835.000000</td>\n",
              "      <td>0.0</td>\n",
              "      <td>0.0</td>\n",
              "      <td>1007.0</td>\n",
              "      <td>2261.566650</td>\n",
              "    </tr>\n",
              "    <tr>\n",
              "      <th>2006-12-16 21:00:00</th>\n",
              "      <td>183.388000</td>\n",
              "      <td>4.600000</td>\n",
              "      <td>14229.519531</td>\n",
              "      <td>782.799988</td>\n",
              "      <td>0.0</td>\n",
              "      <td>25.0</td>\n",
              "      <td>1033.0</td>\n",
              "      <td>1998.466675</td>\n",
              "    </tr>\n",
              "  </tbody>\n",
              "</table>\n",
              "</div>"
            ],
            "text/plain": [
              "                     global_active_power  global_reactive_power       voltage  \\\n",
              "local_time                                                                      \n",
              "2006-12-16 17:00:00           152.024002               8.243999   8447.179688   \n",
              "2006-12-16 18:00:00           217.932007               4.802000  14074.809570   \n",
              "2006-12-16 19:00:00           204.013992               5.114000  13993.950195   \n",
              "2006-12-16 20:00:00           196.113998               4.506000  14044.290039   \n",
              "2006-12-16 21:00:00           183.388000               4.600000  14229.519531   \n",
              "\n",
              "                     global_intensity  sub_metering_1  sub_metering_2  \\\n",
              "local_time                                                              \n",
              "2006-12-16 17:00:00        651.599976             0.0            19.0   \n",
              "2006-12-16 18:00:00        936.000000             0.0           403.0   \n",
              "2006-12-16 19:00:00        870.200012             0.0            86.0   \n",
              "2006-12-16 20:00:00        835.000000             0.0             0.0   \n",
              "2006-12-16 21:00:00        782.799988             0.0            25.0   \n",
              "\n",
              "                     sub_metering_3  sub_metering_other  \n",
              "local_time                                               \n",
              "2006-12-16 17:00:00           607.0         1907.733398  \n",
              "2006-12-16 18:00:00          1012.0         2217.199951  \n",
              "2006-12-16 19:00:00          1001.0         2313.233398  \n",
              "2006-12-16 20:00:00          1007.0         2261.566650  \n",
              "2006-12-16 21:00:00          1033.0         1998.466675  "
            ]
          },
          "metadata": {
            "tags": []
          },
          "execution_count": 14
        }
      ]
    },
    {
      "cell_type": "code",
      "metadata": {
        "id": "2vL50WQE6sm0",
        "colab_type": "code",
        "colab": {
          "base_uri": "https://localhost:8080/",
          "height": 34
        },
        "outputId": "c1d51368-bd47-4009-db0a-241d28602de8"
      },
      "source": [
        "# removing first & last hour\n",
        "df = df[~df.index.isin([\"2006-12-16 17:00:00\", \"2010-11-26 21:00:00\"])]\n",
        "df.shape"
      ],
      "execution_count": 15,
      "outputs": [
        {
          "output_type": "execute_result",
          "data": {
            "text/plain": [
              "(34587, 8)"
            ]
          },
          "metadata": {
            "tags": []
          },
          "execution_count": 15
        }
      ]
    },
    {
      "cell_type": "code",
      "metadata": {
        "id": "4X3wDkcY6sio",
        "colab_type": "code",
        "colab": {
          "base_uri": "https://localhost:8080/",
          "height": 34
        },
        "outputId": "3159628a-8c1b-483c-84af-469d8cbbed71"
      },
      "source": [
        "print(\"Data Range: \", df.index.min(), \" to \", df.index.max())"
      ],
      "execution_count": 16,
      "outputs": [
        {
          "output_type": "stream",
          "text": [
            "Data Range:  2006-12-16 18:00:00  to  2010-11-26 20:00:00\n"
          ],
          "name": "stdout"
        }
      ]
    },
    {
      "cell_type": "markdown",
      "metadata": {
        "id": "EmvVK35n66q9",
        "colab_type": "text"
      },
      "source": [
        "### Strategy:\n",
        "1. Input 3 days of data (72 hours)\n",
        "2. Output 2 days (48 hours)\n",
        "3. Like before will keep the data completely separated.\n",
        "4. Test set will have last 5 days of data. (120 hours).\n",
        "5. Evaluate will have next last 33 days of data (792 hours).\n",
        "6. Train will get the remaining hours.\n",
        "\n",
        "### Train, Evaluate & Test Split"
      ]
    },
    {
      "cell_type": "code",
      "metadata": {
        "id": "GcxHoUhS6scf",
        "colab_type": "code",
        "colab": {
          "base_uri": "https://localhost:8080/",
          "height": 68
        },
        "outputId": "c79a9e8e-6e66-4317-af3b-07a345b72cd4"
      },
      "source": [
        "n_input = 3 * 24\n",
        "n_output = 2 * 24\n",
        "test_index_start = n_input + n_output\n",
        "# 30 evaluation days\n",
        "eval_days = 30\n",
        "eval_index_start = n_input + eval_days * 24 + test_index_start\n",
        "values = df.values\n",
        "train, evaluate, test = values[:-eval_index_start], values[-eval_index_start:-test_index_start], values[-test_index_start:]\n",
        "print(\"Training data shape: \", train.shape)\n",
        "print(\"Evaluation data shape: \", evaluate.shape)\n",
        "print(\"Test data shape: \", test.shape)"
      ],
      "execution_count": 17,
      "outputs": [
        {
          "output_type": "stream",
          "text": [
            "Training data shape:  (33675, 8)\n",
            "Evaluation data shape:  (792, 8)\n",
            "Test data shape:  (120, 8)\n"
          ],
          "name": "stdout"
        }
      ]
    },
    {
      "cell_type": "markdown",
      "metadata": {
        "id": "MlNo2UMV78hj",
        "colab_type": "text"
      },
      "source": [
        "#### It's matching the shape as we wanted in strategy\n",
        "### Pre-processing"
      ]
    },
    {
      "cell_type": "code",
      "metadata": {
        "id": "rv08QqmX6sYa",
        "colab_type": "code",
        "colab": {
          "base_uri": "https://localhost:8080/",
          "height": 68
        },
        "outputId": "a0f23523-7a01-41c1-8839-c5e4f5d3594a"
      },
      "source": [
        "scalar = MinMaxScaler()\n",
        "train_scaled = scalar.fit_transform(X=train)\n",
        "eval_scaled = scalar.transform(X=evaluate)\n",
        "test_scaled = scalar.transform(X=test)\n",
        "print(\"Training scaled data shape: \", train_scaled.shape)\n",
        "print(\"Evaluation scaled data shape: \", eval_scaled.shape)\n",
        "print(\"Test scaled data shape: \", test_scaled.shape)"
      ],
      "execution_count": 18,
      "outputs": [
        {
          "output_type": "stream",
          "text": [
            "Training scaled data shape:  (33675, 8)\n",
            "Evaluation scaled data shape:  (792, 8)\n",
            "Test scaled data shape:  (120, 8)\n"
          ],
          "name": "stdout"
        }
      ]
    },
    {
      "cell_type": "code",
      "metadata": {
        "id": "5Z6ea_YO6sNB",
        "colab_type": "code",
        "colab": {
          "base_uri": "https://localhost:8080/",
          "height": 34
        },
        "outputId": "e886374d-ba59-4201-8fb3-1ace16d0b803"
      },
      "source": [
        "# Saving this object for later use\n",
        "joblib.dump(scalar, \"./hourly_models/min_max_all_feat_72_to_48.pkl\")"
      ],
      "execution_count": 19,
      "outputs": [
        {
          "output_type": "execute_result",
          "data": {
            "text/plain": [
              "['./hourly_models/min_max_all_feat_72_to_48.pkl']"
            ]
          },
          "metadata": {
            "tags": []
          },
          "execution_count": 19
        }
      ]
    },
    {
      "cell_type": "code",
      "metadata": {
        "id": "YiNmFxjy6r4_",
        "colab_type": "code",
        "colab": {}
      },
      "source": [
        "# Saving train, eval, test for later use\n",
        "np.save(\"./hourly_models/train_scaled_72_to_48.npy\", train_scaled)\n",
        "np.save(\"./hourly_models/eval_scaled_72_to_48.npy\", eval_scaled)\n",
        "np.save(\"./hourly_models/test_scaled_72_to_48.npy\", test_scaled)"
      ],
      "execution_count": 0,
      "outputs": []
    },
    {
      "cell_type": "markdown",
      "metadata": {
        "id": "4sXBg4dr3BLZ",
        "colab_type": "text"
      },
      "source": [
        "### Preparing Input:\n",
        "**Unlike Univariate Input, here we are going to provide all 8 features including global active power from last few hours**"
      ]
    },
    {
      "cell_type": "code",
      "metadata": {
        "id": "iQHyPH-E3AfX",
        "colab_type": "code",
        "colab": {}
      },
      "source": [
        "# slight variation from the univariate function, here I am taking all 8 feature, we can combine both the functions\n",
        "# by using a flag like univariate = True\n",
        "def get_X_y(data, n_in, n_out):\n",
        "    X, y = list(), list()\n",
        "    in_start = 0\n",
        "    # step over the entire history one time step at a time\n",
        "    for _ in range(len(data)):\n",
        "        # define the end of the input sequence\n",
        "        in_end = in_start + n_in\n",
        "        out_end = in_end + n_out\n",
        "        # ensuring that we have enough data for this instance\n",
        "        if out_end <= len(data):\n",
        "            # need only 1 feature\n",
        "            x_input = data[in_start:in_end, :]\n",
        "            # it will give [samples, timestemps, features]\n",
        "            X.append(x_input)\n",
        "            # [samples, output]\n",
        "            y_output = data[in_end:out_end, 0]\n",
        "            y.append(y_output)\n",
        "        # move along one time step\n",
        "        in_start += 1\n",
        "    return np.array(X), np.array(y)"
      ],
      "execution_count": 0,
      "outputs": []
    },
    {
      "cell_type": "code",
      "metadata": {
        "id": "DgoOdODz4cFG",
        "colab_type": "code",
        "colab": {
          "base_uri": "https://localhost:8080/",
          "height": 119
        },
        "outputId": "cbe2a156-bb72-47d8-fe5d-2e06c3174676"
      },
      "source": [
        "# Process X and y\n",
        "n_input = 72\n",
        "n_output = 48\n",
        "X_train, y_train = get_X_y(data=train_scaled, n_in=n_input, n_out=n_output)\n",
        "X_eval, y_eval = get_X_y(data=eval_scaled, n_in=n_input, n_out=n_output)\n",
        "X_test, y_test = get_X_y(data=test_scaled, n_in=n_input, n_out=n_output)\n",
        "print(\"Train X shape: \", X_train.shape)\n",
        "print(\"Train y shape: \", y_train.shape)\n",
        "print(\"Evaluation X shape: \", X_eval.shape)\n",
        "print(\"Evaluation y shape: \", y_eval.shape)\n",
        "print(\"Test X shape: \", X_test.shape)\n",
        "print(\"Test y shape: \", y_test.shape)"
      ],
      "execution_count": 22,
      "outputs": [
        {
          "output_type": "stream",
          "text": [
            "Train X shape:  (33556, 72, 8)\n",
            "Train y shape:  (33556, 48)\n",
            "Evaluation X shape:  (673, 72, 8)\n",
            "Evaluation y shape:  (673, 48)\n",
            "Test X shape:  (1, 72, 8)\n",
            "Test y shape:  (1, 48)\n"
          ],
          "name": "stdout"
        }
      ]
    },
    {
      "cell_type": "markdown",
      "metadata": {
        "id": "tDkhZeqv9YQk",
        "colab_type": "text"
      },
      "source": [
        "### Reshape y value so that encoder decoder model can understand"
      ]
    },
    {
      "cell_type": "code",
      "metadata": {
        "id": "Jlo581M39ERF",
        "colab_type": "code",
        "colab": {
          "base_uri": "https://localhost:8080/",
          "height": 34
        },
        "outputId": "5f3a8030-60fa-4012-d1ec-9fdd04e8640d"
      },
      "source": [
        "# reshape output into [samples, timesteps, features] \n",
        "# unlike to the other model this model needs the shape to be 3 dimensional\n",
        "y_train = y_train.reshape((y_train.shape[0], y_train.shape[1], 1))\n",
        "print(y_train.shape)\n",
        "# not reshaping y for evaluate & test, becasue we are going to process that manually not by the fitted model"
      ],
      "execution_count": 23,
      "outputs": [
        {
          "output_type": "stream",
          "text": [
            "(33556, 48, 1)\n"
          ],
          "name": "stdout"
        }
      ]
    },
    {
      "cell_type": "markdown",
      "metadata": {
        "id": "ZRLN-rCoEvfZ",
        "colab_type": "text"
      },
      "source": [
        "## Build Model"
      ]
    },
    {
      "cell_type": "code",
      "metadata": {
        "id": "fRbxEZGq9uYt",
        "colab_type": "code",
        "colab": {
          "base_uri": "https://localhost:8080/",
          "height": 443
        },
        "outputId": "f6019814-0a7f-4334-8565-47f335bf66f7"
      },
      "source": [
        "# seeding the random number generation\n",
        "seed = 101\n",
        "np.random.seed(seed)\n",
        "tf.set_random_seed(seed)\n",
        "# defining parameters\n",
        "# Reducing the learning rate further, last time we faceed exploiding gradient problems\n",
        "learning_rate = 0.001\n",
        "# because of CPU contraints, will run it for lesser number of epochs\n",
        "epochs = 50\n",
        "batch_size = 16\n",
        "verbose = 2\n",
        "n_timesteps, n_features, n_outputs = X_train.shape[1], X_train.shape[2], y_train.shape[1]\n",
        "\n",
        "# reshape output into [samples, timesteps, features] (unlike to the other model this model needs the shape to be 3 dimensional)\n",
        "y_train = y_train.reshape((y_train.shape[0], y_train.shape[1], 1))\n",
        "\n",
        "# define model\n",
        "model = Sequential()\n",
        "model.add(LSTM(200, activation=\"relu\", input_shape=(n_timesteps, n_features)))\n",
        "model.add(RepeatVector(n_outputs))\n",
        "model.add(LSTM(200, activation=\"relu\", return_sequences=True))\n",
        "model.add(TimeDistributed(Dense(100, activation=\"relu\")))\n",
        "model.add(TimeDistributed(Dense(1)))\n",
        "# create optimizer unit to define learning rate\n",
        "optmzr = optimizers.Adam(lr=learning_rate, clipnorm=1.0)\n",
        "# compile the model\n",
        "model.compile(loss=\"mse\", optimizer=optmzr,  metrics=[\"mse\"])\n",
        "tf.logging.set_verbosity(tf.logging.ERROR)\n",
        "\n",
        "# model checkpoint\n",
        "filepath=\"./hourly_models/model_4/weights_best.hdf5\"\n",
        "checkpoint = ModelCheckpoint(filepath, monitor=\"val_loss\", verbose=verbose, save_best_only=True, mode=\"min\")\n",
        "callbacks_list = [checkpoint]\n",
        "\n",
        "start = datetime.datetime.now()\n",
        "# Last time validation split was less, increasing (But here again by increasing we are reducing our training data)\n",
        "model.fit(X_train, y_train, validation_split=0.15, epochs=epochs, batch_size=batch_size, callbacks=callbacks_list, verbose=verbose)\n",
        "end = datetime.datetime.now()\n",
        "print(\"Model training started at: \", start, \" & ended at: \", end)"
      ],
      "execution_count": 24,
      "outputs": [
        {
          "output_type": "stream",
          "text": [
            "\n",
            "Epoch 00010: val_loss did not improve from 0.00763\n",
            "28522/28522 - 508s - loss: 0.0098 - mean_squared_error: 0.0098 - val_loss: 0.0084 - val_mean_squared_error: 0.0084\n",
            "Epoch 11/50\n"
          ],
          "name": "stdout"
        },
        {
          "output_type": "error",
          "ename": "KeyboardInterrupt",
          "evalue": "ignored",
          "traceback": [
            "\u001b[0;31m---------------------------------------------------------------------------\u001b[0m",
            "\u001b[0;31mKeyboardInterrupt\u001b[0m                         Traceback (most recent call last)",
            "\u001b[0;32m<ipython-input-24-40942328c91a>\u001b[0m in \u001b[0;36m<module>\u001b[0;34m()\u001b[0m\n\u001b[1;32m     35\u001b[0m \u001b[0mstart\u001b[0m \u001b[0;34m=\u001b[0m \u001b[0mdatetime\u001b[0m\u001b[0;34m.\u001b[0m\u001b[0mdatetime\u001b[0m\u001b[0;34m.\u001b[0m\u001b[0mnow\u001b[0m\u001b[0;34m(\u001b[0m\u001b[0;34m)\u001b[0m\u001b[0;34m\u001b[0m\u001b[0;34m\u001b[0m\u001b[0m\n\u001b[1;32m     36\u001b[0m \u001b[0;31m# Last time validation split was less, increasing (But here again by increasing we are reducing our training data)\u001b[0m\u001b[0;34m\u001b[0m\u001b[0;34m\u001b[0m\u001b[0;34m\u001b[0m\u001b[0m\n\u001b[0;32m---> 37\u001b[0;31m \u001b[0mmodel\u001b[0m\u001b[0;34m.\u001b[0m\u001b[0mfit\u001b[0m\u001b[0;34m(\u001b[0m\u001b[0mX_train\u001b[0m\u001b[0;34m,\u001b[0m \u001b[0my_train\u001b[0m\u001b[0;34m,\u001b[0m \u001b[0mvalidation_split\u001b[0m\u001b[0;34m=\u001b[0m\u001b[0;36m0.15\u001b[0m\u001b[0;34m,\u001b[0m \u001b[0mepochs\u001b[0m\u001b[0;34m=\u001b[0m\u001b[0mepochs\u001b[0m\u001b[0;34m,\u001b[0m \u001b[0mbatch_size\u001b[0m\u001b[0;34m=\u001b[0m\u001b[0mbatch_size\u001b[0m\u001b[0;34m,\u001b[0m \u001b[0mcallbacks\u001b[0m\u001b[0;34m=\u001b[0m\u001b[0mcallbacks_list\u001b[0m\u001b[0;34m,\u001b[0m \u001b[0mverbose\u001b[0m\u001b[0;34m=\u001b[0m\u001b[0mverbose\u001b[0m\u001b[0;34m)\u001b[0m\u001b[0;34m\u001b[0m\u001b[0;34m\u001b[0m\u001b[0m\n\u001b[0m\u001b[1;32m     38\u001b[0m \u001b[0mend\u001b[0m \u001b[0;34m=\u001b[0m \u001b[0mdatetime\u001b[0m\u001b[0;34m.\u001b[0m\u001b[0mdatetime\u001b[0m\u001b[0;34m.\u001b[0m\u001b[0mnow\u001b[0m\u001b[0;34m(\u001b[0m\u001b[0;34m)\u001b[0m\u001b[0;34m\u001b[0m\u001b[0;34m\u001b[0m\u001b[0m\n\u001b[1;32m     39\u001b[0m \u001b[0mprint\u001b[0m\u001b[0;34m(\u001b[0m\u001b[0;34m\"Model training started at: \"\u001b[0m\u001b[0;34m,\u001b[0m \u001b[0mstart\u001b[0m\u001b[0;34m,\u001b[0m \u001b[0;34m\" & ended at: \"\u001b[0m\u001b[0;34m,\u001b[0m \u001b[0mend\u001b[0m\u001b[0;34m)\u001b[0m\u001b[0;34m\u001b[0m\u001b[0;34m\u001b[0m\u001b[0m\n",
            "\u001b[0;32m/usr/local/lib/python3.6/dist-packages/tensorflow/python/keras/engine/training.py\u001b[0m in \u001b[0;36mfit\u001b[0;34m(self, x, y, batch_size, epochs, verbose, callbacks, validation_split, validation_data, shuffle, class_weight, sample_weight, initial_epoch, steps_per_epoch, validation_steps, validation_freq, max_queue_size, workers, use_multiprocessing, **kwargs)\u001b[0m\n\u001b[1;32m    778\u001b[0m           \u001b[0mvalidation_steps\u001b[0m\u001b[0;34m=\u001b[0m\u001b[0mvalidation_steps\u001b[0m\u001b[0;34m,\u001b[0m\u001b[0;34m\u001b[0m\u001b[0;34m\u001b[0m\u001b[0m\n\u001b[1;32m    779\u001b[0m           \u001b[0mvalidation_freq\u001b[0m\u001b[0;34m=\u001b[0m\u001b[0mvalidation_freq\u001b[0m\u001b[0;34m,\u001b[0m\u001b[0;34m\u001b[0m\u001b[0;34m\u001b[0m\u001b[0m\n\u001b[0;32m--> 780\u001b[0;31m           steps_name='steps_per_epoch')\n\u001b[0m\u001b[1;32m    781\u001b[0m \u001b[0;34m\u001b[0m\u001b[0m\n\u001b[1;32m    782\u001b[0m   def evaluate(self,\n",
            "\u001b[0;32m/usr/local/lib/python3.6/dist-packages/tensorflow/python/keras/engine/training_arrays.py\u001b[0m in \u001b[0;36mmodel_iteration\u001b[0;34m(model, inputs, targets, sample_weights, batch_size, epochs, verbose, callbacks, val_inputs, val_targets, val_sample_weights, shuffle, initial_epoch, steps_per_epoch, validation_steps, validation_freq, mode, validation_in_fit, prepared_feed_values_from_dataset, steps_name, **kwargs)\u001b[0m\n\u001b[1;32m    361\u001b[0m \u001b[0;34m\u001b[0m\u001b[0m\n\u001b[1;32m    362\u001b[0m         \u001b[0;31m# Get outputs.\u001b[0m\u001b[0;34m\u001b[0m\u001b[0;34m\u001b[0m\u001b[0;34m\u001b[0m\u001b[0m\n\u001b[0;32m--> 363\u001b[0;31m         \u001b[0mbatch_outs\u001b[0m \u001b[0;34m=\u001b[0m \u001b[0mf\u001b[0m\u001b[0;34m(\u001b[0m\u001b[0mins_batch\u001b[0m\u001b[0;34m)\u001b[0m\u001b[0;34m\u001b[0m\u001b[0;34m\u001b[0m\u001b[0m\n\u001b[0m\u001b[1;32m    364\u001b[0m         \u001b[0;32mif\u001b[0m \u001b[0;32mnot\u001b[0m \u001b[0misinstance\u001b[0m\u001b[0;34m(\u001b[0m\u001b[0mbatch_outs\u001b[0m\u001b[0;34m,\u001b[0m \u001b[0mlist\u001b[0m\u001b[0;34m)\u001b[0m\u001b[0;34m:\u001b[0m\u001b[0;34m\u001b[0m\u001b[0;34m\u001b[0m\u001b[0m\n\u001b[1;32m    365\u001b[0m           \u001b[0mbatch_outs\u001b[0m \u001b[0;34m=\u001b[0m \u001b[0;34m[\u001b[0m\u001b[0mbatch_outs\u001b[0m\u001b[0;34m]\u001b[0m\u001b[0;34m\u001b[0m\u001b[0;34m\u001b[0m\u001b[0m\n",
            "\u001b[0;32m/usr/local/lib/python3.6/dist-packages/tensorflow/python/keras/backend.py\u001b[0m in \u001b[0;36m__call__\u001b[0;34m(self, inputs)\u001b[0m\n\u001b[1;32m   3290\u001b[0m \u001b[0;34m\u001b[0m\u001b[0m\n\u001b[1;32m   3291\u001b[0m     fetched = self._callable_fn(*array_vals,\n\u001b[0;32m-> 3292\u001b[0;31m                                 run_metadata=self.run_metadata)\n\u001b[0m\u001b[1;32m   3293\u001b[0m     \u001b[0mself\u001b[0m\u001b[0;34m.\u001b[0m\u001b[0m_call_fetch_callbacks\u001b[0m\u001b[0;34m(\u001b[0m\u001b[0mfetched\u001b[0m\u001b[0;34m[\u001b[0m\u001b[0;34m-\u001b[0m\u001b[0mlen\u001b[0m\u001b[0;34m(\u001b[0m\u001b[0mself\u001b[0m\u001b[0;34m.\u001b[0m\u001b[0m_fetches\u001b[0m\u001b[0;34m)\u001b[0m\u001b[0;34m:\u001b[0m\u001b[0;34m]\u001b[0m\u001b[0;34m)\u001b[0m\u001b[0;34m\u001b[0m\u001b[0;34m\u001b[0m\u001b[0m\n\u001b[1;32m   3294\u001b[0m     output_structure = nest.pack_sequence_as(\n",
            "\u001b[0;32m/usr/local/lib/python3.6/dist-packages/tensorflow/python/client/session.py\u001b[0m in \u001b[0;36m__call__\u001b[0;34m(self, *args, **kwargs)\u001b[0m\n\u001b[1;32m   1456\u001b[0m         ret = tf_session.TF_SessionRunCallable(self._session._session,\n\u001b[1;32m   1457\u001b[0m                                                \u001b[0mself\u001b[0m\u001b[0;34m.\u001b[0m\u001b[0m_handle\u001b[0m\u001b[0;34m,\u001b[0m \u001b[0margs\u001b[0m\u001b[0;34m,\u001b[0m\u001b[0;34m\u001b[0m\u001b[0;34m\u001b[0m\u001b[0m\n\u001b[0;32m-> 1458\u001b[0;31m                                                run_metadata_ptr)\n\u001b[0m\u001b[1;32m   1459\u001b[0m         \u001b[0;32mif\u001b[0m \u001b[0mrun_metadata\u001b[0m\u001b[0;34m:\u001b[0m\u001b[0;34m\u001b[0m\u001b[0;34m\u001b[0m\u001b[0m\n\u001b[1;32m   1460\u001b[0m           \u001b[0mproto_data\u001b[0m \u001b[0;34m=\u001b[0m \u001b[0mtf_session\u001b[0m\u001b[0;34m.\u001b[0m\u001b[0mTF_GetBuffer\u001b[0m\u001b[0;34m(\u001b[0m\u001b[0mrun_metadata_ptr\u001b[0m\u001b[0;34m)\u001b[0m\u001b[0;34m\u001b[0m\u001b[0;34m\u001b[0m\u001b[0m\n",
            "\u001b[0;31mKeyboardInterrupt\u001b[0m: "
          ]
        }
      ]
    },
    {
      "cell_type": "markdown",
      "metadata": {
        "id": "OYlCFEF5ifei",
        "colab_type": "text"
      },
      "source": [
        "### I have stopped the execution manually after 11 th epoch as the model not showing any further improvements (Each epoch is taking approximately 10 minutes in GPU also, I was not getting full GPU memory, only 0.38GB of GPU is being used from total 12 GB, may be GPU is being shared with other people. Need further exploration on this).\n",
        "### I have the model checkpointed. Later I will run the model again from the trained weights using different set of hyperparameters."
      ]
    },
    {
      "cell_type": "code",
      "metadata": {
        "id": "6o-XKeZUj6rC",
        "colab_type": "code",
        "colab": {
          "base_uri": "https://localhost:8080/",
          "height": 51
        },
        "outputId": "6415096d-c8f2-4a44-c97c-f89e0c14e4f1"
      },
      "source": [
        "!pwd"
      ],
      "execution_count": 26,
      "outputs": [
        {
          "output_type": "stream",
          "text": [
            "shell-init: error retrieving current directory: getcwd: cannot access parent directories: Transport endpoint is not connected\n",
            "pwd: error retrieving current directory: getcwd: cannot access parent directories: Transport endpoint is not connected\n"
          ],
          "name": "stdout"
        }
      ]
    },
    {
      "cell_type": "markdown",
      "metadata": {
        "id": "T1ejvis8liSB",
        "colab_type": "text"
      },
      "source": [
        "### Need to change the working directory again as \"Transport endpoint is not connected\""
      ]
    },
    {
      "cell_type": "code",
      "metadata": {
        "id": "K_5VZN_Kkgn-",
        "colab_type": "code",
        "colab": {
          "base_uri": "https://localhost:8080/",
          "height": 34
        },
        "outputId": "b2f89671-52f4-455c-f74c-0b336a5e035f"
      },
      "source": [
        "# need to mount the drive again\n",
        "from google.colab import drive\n",
        "drive.mount(\"/content/google_drive/\")"
      ],
      "execution_count": 28,
      "outputs": [
        {
          "output_type": "stream",
          "text": [
            "Mounted at /content/google_drive/\n"
          ],
          "name": "stdout"
        }
      ]
    },
    {
      "cell_type": "code",
      "metadata": {
        "id": "hghUb-KFk866",
        "colab_type": "code",
        "colab": {}
      },
      "source": [
        "os.chdir(google_drive_root)"
      ],
      "execution_count": 0,
      "outputs": []
    },
    {
      "cell_type": "code",
      "metadata": {
        "id": "JzRib0r4lXwj",
        "colab_type": "code",
        "colab": {
          "base_uri": "https://localhost:8080/",
          "height": 272
        },
        "outputId": "cbbce6f2-6d9b-423e-d8e4-5c274e5136e1"
      },
      "source": [
        "!ls -R"
      ],
      "execution_count": 32,
      "outputs": [
        {
          "output_type": "stream",
          "text": [
            ".:\n",
            "data  hourly_models  requirements.txt  test_data.csv\n",
            "\n",
            "./data:\n",
            "cleaned_household_power_consumption.csv\n",
            "\n",
            "./hourly_models:\n",
            "eval_scaled_48_to_48.npy       test_scaled_48_to_48.npy\n",
            "eval_scaled_72_to_48.npy       test_scaled_72_to_48.npy\n",
            "min_max_all_feat_48_to_48.pkl  train_scaled_48_to_48.npy\n",
            "min_max_all_feat_72_to_48.pkl  train_scaled_72_to_48.npy\n",
            "model_4\n",
            "\n",
            "./hourly_models/model_4:\n",
            "weights_best.hdf5\n"
          ],
          "name": "stdout"
        }
      ]
    },
    {
      "cell_type": "code",
      "metadata": {
        "id": "IUjfXeQ7G2wH",
        "colab_type": "code",
        "colab": {}
      },
      "source": [
        "# Saving the model for later use\n",
        "# save model to JSON\n",
        "model_json = model.to_json()\n",
        "with open(\"./hourly_models/model_4/model.json\", \"w\") as json_file:\n",
        "    json_file.write(model_json)\n",
        "# we are not necessarily need to save weights, because already saving the best weights\n",
        "# but though saving the last trained weights\n",
        "# serialize weights to HDF5\n",
        "model.save_weights(\"./hourly_models/model_4/last_weights_first_train.h5\")"
      ],
      "execution_count": 0,
      "outputs": []
    },
    {
      "cell_type": "code",
      "metadata": {
        "id": "ypVdlvPfjyeP",
        "colab_type": "code",
        "colab": {
          "base_uri": "https://localhost:8080/",
          "height": 34
        },
        "outputId": "82e98251-938f-4a5a-b841-c3915466af32"
      },
      "source": [
        "model.history.history.keys()"
      ],
      "execution_count": 34,
      "outputs": [
        {
          "output_type": "execute_result",
          "data": {
            "text/plain": [
              "dict_keys(['loss', 'mean_squared_error', 'val_loss', 'val_mean_squared_error'])"
            ]
          },
          "metadata": {
            "tags": []
          },
          "execution_count": 34
        }
      ]
    },
    {
      "cell_type": "code",
      "metadata": {
        "id": "lzJ3MQT8mb9g",
        "colab_type": "code",
        "colab": {
          "base_uri": "https://localhost:8080/",
          "height": 71
        },
        "outputId": "85db2df9-c635-4005-b0b3-f8b69d84b334"
      },
      "source": [
        "print(model.history.history[\"loss\"])\n",
        "print(model.history.history[\"val_loss\"])"
      ],
      "execution_count": 45,
      "outputs": [
        {
          "output_type": "stream",
          "text": [
            "[182364011068.15665, 0.01511345667843303, 0.012897591656074582, 0.012538452872592556, 0.012066342697855188, 803771260.3946649, 0.011204938557142378, 0.011214478821255647, 0.010391941041145629, 0.009838254345886173]\n",
            "[0.010373360617252797, 0.007929546303046592, 0.007780415496064064, 0.007833804049775933, 0.008016287578757516, 0.0076292199739445565, 0.007802002916366371, 0.007966667347664238, 0.007968124280097966, 0.008413587110379787]\n"
          ],
          "name": "stdout"
        }
      ]
    },
    {
      "cell_type": "code",
      "metadata": {
        "id": "xkIwLG7BmtOD",
        "colab_type": "code",
        "colab": {
          "base_uri": "https://localhost:8080/",
          "height": 34
        },
        "outputId": "df107fa1-9138-4100-b211-ff6f7f914ff9"
      },
      "source": [
        "# removing 0th & 5th index because of high values\n",
        "loss = model.history.history[\"loss\"][1:]\n",
        "loss.pop(4)\n",
        "val_loss = model.history.history[\"val_loss\"][1:]\n",
        "val_loss.pop(4)"
      ],
      "execution_count": 50,
      "outputs": [
        {
          "output_type": "execute_result",
          "data": {
            "text/plain": [
              "0.0076292199739445565"
            ]
          },
          "metadata": {
            "tags": []
          },
          "execution_count": 50
        }
      ]
    },
    {
      "cell_type": "code",
      "metadata": {
        "id": "QBcQVj8Jlrak",
        "colab_type": "code",
        "colab": {
          "base_uri": "https://localhost:8080/",
          "height": 295
        },
        "outputId": "1b0f21f7-f5f8-4026-f416-df02aaf06842"
      },
      "source": [
        "plt.plot(loss)\n",
        "plt.plot(val_loss)\n",
        "plt.title(\"Training Loss\")\n",
        "plt.ylabel(\"mse_loss\")\n",
        "plt.xlabel(\"epoch\")\n",
        "plt.legend([\"train\", \"validation\"], loc='upper left');"
      ],
      "execution_count": 51,
      "outputs": [
        {
          "output_type": "display_data",
          "data": {
            "image/png": "[encoded data removed]",
            "text/plain": [
              "<Figure size 432x288 with 1 Axes>"
            ]
          },
          "metadata": {
            "tags": []
          }
        }
      ]
    },
    {
      "cell_type": "markdown",
      "metadata": {
        "id": "wLsj8Yc_oME3",
        "colab_type": "text"
      },
      "source": [
        "### Training looks better than previous"
      ]
    },
    {
      "cell_type": "code",
      "metadata": {
        "id": "YSVA6JWFl3RC",
        "colab_type": "code",
        "colab": {}
      },
      "source": [
        "# import the best model\n",
        "with open(\"./hourly_models/model_4/model.json\", \"r\") as json_file:\n",
        "    model_json = json_file.read()\n",
        "best_model = model_from_json(model_json)\n",
        "# load weights into the model\n",
        "best_model.load_weights(\"./hourly_models/model_4/weights_best.hdf5\")"
      ],
      "execution_count": 0,
      "outputs": []
    },
    {
      "cell_type": "code",
      "metadata": {
        "id": "tzCOnNfdoab_",
        "colab_type": "code",
        "colab": {
          "base_uri": "https://localhost:8080/",
          "height": 51
        },
        "outputId": "93d9124f-43e5-4e9b-80cb-54a47ac8aaac"
      },
      "source": [
        "predictions = []\n",
        "print(\"Start: \", datetime.datetime.now())\n",
        "for arr in X_eval:\n",
        "    # here array shape is (n_input_timestemps, n_features)\n",
        "    yhat = best_model.predict(arr.reshape(1, n_input, 8))\n",
        "    predictions.append(yhat)\n",
        "predictions = np.array(predictions)\n",
        "print(\"End: \", datetime.datetime.now())"
      ],
      "execution_count": 64,
      "outputs": [
        {
          "output_type": "stream",
          "text": [
            "Start:  2019-10-08 09:17:25.665846\n",
            "End:  2019-10-08 09:18:40.181235\n"
          ],
          "name": "stdout"
        }
      ]
    },
    {
      "cell_type": "code",
      "metadata": {
        "id": "RZRYYglVoduF",
        "colab_type": "code",
        "colab": {
          "base_uri": "https://localhost:8080/",
          "height": 51
        },
        "outputId": "8c301e22-e5aa-43d9-db45-4bd4e89fdb86"
      },
      "source": [
        "# Prediction is also taking time\n",
        "print(predictions.shape)\n",
        "print(y_eval.shape)"
      ],
      "execution_count": 65,
      "outputs": [
        {
          "output_type": "stream",
          "text": [
            "(673, 1, 48, 1)\n",
            "(673, 48)\n"
          ],
          "name": "stdout"
        }
      ]
    },
    {
      "cell_type": "markdown",
      "metadata": {
        "id": "6qYRPlCiqNlA",
        "colab_type": "text"
      },
      "source": [
        "### It took aproximately 75 seconds to give prediction for 673 instances."
      ]
    },
    {
      "cell_type": "code",
      "metadata": {
        "id": "lgPQy0n2pDdJ",
        "colab_type": "code",
        "colab": {}
      },
      "source": [
        "scores = list()\n",
        "# calculate an RMSE score for each hour\n",
        "# make the prediction shape as eval shape\n",
        "pred = predictions.reshape(predictions.shape[0], predictions.shape[2])\n",
        "#  0th index of scalar values will have details about global_active_power\n",
        "mult_range = scalar.data_range_[0]\n",
        "add_min = scalar.data_min_[0]\n",
        "for i in range(y_eval.shape[1]):\n",
        "    # convert to original scale, we have used MinMaxScalar\n",
        "    y_eval_inverse = y_eval[:, i] * mult_range + add_min\n",
        "    pred_inverse = pred[:, i] * mult_range + add_min\n",
        "    # calculate mse\n",
        "    mse = mean_squared_error(y_eval_inverse, pred_inverse)\n",
        "    # calculate rmse\n",
        "    rmse = np.sqrt(mse)\n",
        "    # store\n",
        "    scores.append(rmse)"
      ],
      "execution_count": 0,
      "outputs": []
    },
    {
      "cell_type": "code",
      "metadata": {
        "id": "p-3DhBx5pL6-",
        "colab_type": "code",
        "colab": {
          "base_uri": "https://localhost:8080/",
          "height": 298
        },
        "outputId": "367da719-b73d-4c60-a197-87487b9f5b08"
      },
      "source": [
        "hours = np.arange(1,49)\n",
        "plt.plot(hours, scores, marker='x', color=\"r\")\n",
        "plt.title(\"Hour wise RMSE extended for 48 hours\")\n",
        "plt.ylabel(\"RMSE global_active_power\")\n",
        "plt.ylabel(\"Prediction Hours\")"
      ],
      "execution_count": 67,
      "outputs": [
        {
          "output_type": "execute_result",
          "data": {
            "text/plain": [
              "Text(0, 0.5, 'Prediction Hours')"
            ]
          },
          "metadata": {
            "tags": []
          },
          "execution_count": 67
        },
        {
          "output_type": "display_data",
          "data": {
            "image/png": "[encoded data removed]",
            "text/plain": [
              "<Figure size 432x288 with 1 Axes>"
            ]
          },
          "metadata": {
            "tags": []
          }
        }
      ]
    },
    {
      "cell_type": "code",
      "metadata": {
        "id": "GwE50xvSpO5U",
        "colab_type": "code",
        "colab": {
          "base_uri": "https://localhost:8080/",
          "height": 34
        },
        "outputId": "55b6b2ca-31ac-40d0-9c0d-9c137da40563"
      },
      "source": [
        "# Checking overall RMSE\n",
        "mult_range = scalar.data_range_[0]\n",
        "add_min = scalar.data_min_[0]\n",
        "overall_mse = mean_squared_error(y_eval.flatten() * mult_range + add_min, pred.flatten() * mult_range + add_min)\n",
        "overall_rmse = np.sqrt(overall_mse)\n",
        "print(\"Overall RMSE for 1 months evaluation period is: {:.2f}\".format(overall_rmse))"
      ],
      "execution_count": 68,
      "outputs": [
        {
          "output_type": "stream",
          "text": [
            "Overall RMSE for 1 months evaluation period is: 44.72\n"
          ],
          "name": "stdout"
        }
      ]
    },
    {
      "cell_type": "markdown",
      "metadata": {
        "id": "z2vmIrVqpZdF",
        "colab_type": "text"
      },
      "source": [
        "### Predictions for last 48 hours"
      ]
    },
    {
      "cell_type": "code",
      "metadata": {
        "id": "FzYkPefBpV4h",
        "colab_type": "code",
        "colab": {
          "base_uri": "https://localhost:8080/",
          "height": 51
        },
        "outputId": "784044c8-4661-4b33-b934-d037a6745abf"
      },
      "source": [
        "X_pred, y_pred = X_test, y_test\n",
        "print(\"Pred X shape: \", X_pred.shape)\n",
        "print(\"Pred y shape (in reality it won't be there): \", y_pred.shape)"
      ],
      "execution_count": 69,
      "outputs": [
        {
          "output_type": "stream",
          "text": [
            "Pred X shape:  (1, 72, 8)\n",
            "Pred y shape (in reality it won't be there):  (1, 48)\n"
          ],
          "name": "stdout"
        }
      ]
    },
    {
      "cell_type": "code",
      "metadata": {
        "id": "QWvkBRDUplNQ",
        "colab_type": "code",
        "colab": {}
      },
      "source": [
        "# predict for next 48 hours\n",
        "predictions = []\n",
        "# looping so that we can have multiple prediction instances\n",
        "for arr in X_pred:\n",
        "    # here array shape is (n_input_timestemps, n_features)\n",
        "    yhat = best_model.predict(arr.reshape(1, n_input, 8))\n",
        "    predictions.append(yhat)\n",
        "predictions = np.array(predictions)"
      ],
      "execution_count": 0,
      "outputs": []
    },
    {
      "cell_type": "code",
      "metadata": {
        "id": "gw6LGRDzp1Wd",
        "colab_type": "code",
        "colab": {}
      },
      "source": [
        "# Convert to original scale\n",
        "mult_range = scalar.data_range_[0]\n",
        "add_min = scalar.data_min_[0]\n",
        "# just looping so that we can generate multiple prediction instance\n",
        "original_scale_pred = []\n",
        "for p in predictions:\n",
        "    inv_scale_pred = p.flatten() * mult_range + add_min\n",
        "    original_scale_pred.append(inv_scale_pred)"
      ],
      "execution_count": 0,
      "outputs": []
    },
    {
      "cell_type": "code",
      "metadata": {
        "id": "2T7iNeQrqqOo",
        "colab_type": "code",
        "colab": {}
      },
      "source": [
        "# Create a dataframe to share this (any other way)\n",
        "df = pd.DataFrame({\"local_time\": pd.date_range(start=\"2010-11-24 21:00:00\", end=\"2010-11-26 20:00:00\", freq=\"H\"), \n",
        "                   \"global_active_power\": original_scale_pred[0]})\n",
        "df.set_index(\"local_time\", inplace=True)"
      ],
      "execution_count": 0,
      "outputs": []
    },
    {
      "cell_type": "code",
      "metadata": {
        "id": "Ns2aewmCqvzZ",
        "colab_type": "code",
        "colab": {
          "base_uri": "https://localhost:8080/",
          "height": 235
        },
        "outputId": "7a270f5b-0d2b-4bdc-fd69-349e71f2f3e8"
      },
      "source": [
        "df.head()"
      ],
      "execution_count": 73,
      "outputs": [
        {
          "output_type": "execute_result",
          "data": {
            "text/html": [
              "<div>\n",
              "<style scoped>\n",
              "    .dataframe tbody tr th:only-of-type {\n",
              "        vertical-align: middle;\n",
              "    }\n",
              "\n",
              "    .dataframe tbody tr th {\n",
              "        vertical-align: top;\n",
              "    }\n",
              "\n",
              "    .dataframe thead th {\n",
              "        text-align: right;\n",
              "    }\n",
              "</style>\n",
              "<table border=\"1\" class=\"dataframe\">\n",
              "  <thead>\n",
              "    <tr style=\"text-align: right;\">\n",
              "      <th></th>\n",
              "      <th>global_active_power</th>\n",
              "    </tr>\n",
              "    <tr>\n",
              "      <th>local_time</th>\n",
              "      <th></th>\n",
              "    </tr>\n",
              "  </thead>\n",
              "  <tbody>\n",
              "    <tr>\n",
              "      <th>2010-11-24 21:00:00</th>\n",
              "      <td>117.712967</td>\n",
              "    </tr>\n",
              "    <tr>\n",
              "      <th>2010-11-24 22:00:00</th>\n",
              "      <td>78.179474</td>\n",
              "    </tr>\n",
              "    <tr>\n",
              "      <th>2010-11-24 23:00:00</th>\n",
              "      <td>46.239697</td>\n",
              "    </tr>\n",
              "    <tr>\n",
              "      <th>2010-11-25 00:00:00</th>\n",
              "      <td>29.862940</td>\n",
              "    </tr>\n",
              "    <tr>\n",
              "      <th>2010-11-25 01:00:00</th>\n",
              "      <td>24.423431</td>\n",
              "    </tr>\n",
              "  </tbody>\n",
              "</table>\n",
              "</div>"
            ],
            "text/plain": [
              "                     global_active_power\n",
              "local_time                              \n",
              "2010-11-24 21:00:00           117.712967\n",
              "2010-11-24 22:00:00            78.179474\n",
              "2010-11-24 23:00:00            46.239697\n",
              "2010-11-25 00:00:00            29.862940\n",
              "2010-11-25 01:00:00            24.423431"
            ]
          },
          "metadata": {
            "tags": []
          },
          "execution_count": 73
        }
      ]
    },
    {
      "cell_type": "code",
      "metadata": {
        "id": "GSb85viIqyEY",
        "colab_type": "code",
        "colab": {
          "base_uri": "https://localhost:8080/",
          "height": 391
        },
        "outputId": "41d1edff-8e31-43f7-d9dd-902602d527f0"
      },
      "source": [
        "# Can share the visualtization also as a prediction results\n",
        "fig, ax = plt.subplots(figsize=(15,5))\n",
        "ax.plot(\"global_active_power\", data=df, marker=\"o\")\n",
        "ax.set(xlabel=\"local_time\", ylabel=\"Predicted Global Active Power (kw)\",\n",
        "       title=\"Next 48 hours hourly prediction\")\n",
        "ax.xaxis.set_major_formatter(DateFormatter(\"%y-%m-%d %H\"))\n",
        "ax.xaxis.set_minor_locator(HourLocator())\n",
        "ax.xaxis.set_minor_formatter(DateFormatter(\"%H\"))\n",
        "plt.xticks(rotation=45);"
      ],
      "execution_count": 74,
      "outputs": [
        {
          "output_type": "display_data",
          "data": {
            "image/png": "[encoded data removed]",
            "text/plain": [
              "<Figure size 1080x360 with 1 Axes>"
            ]
          },
          "metadata": {
            "tags": []
          }
        }
      ]
    },
    {
      "cell_type": "markdown",
      "metadata": {
        "id": "LU5Yx_Cfq5h3",
        "colab_type": "text"
      },
      "source": [
        "### Compare Actual vs Predicted"
      ]
    },
    {
      "cell_type": "code",
      "metadata": {
        "id": "dxfZ2FtOq3e7",
        "colab_type": "code",
        "colab": {}
      },
      "source": [
        "df[\"actual_global_active_power\"] = y_pred.flatten() * mult_range + add_min"
      ],
      "execution_count": 0,
      "outputs": []
    },
    {
      "cell_type": "code",
      "metadata": {
        "id": "RJ0obgLErEEn",
        "colab_type": "code",
        "colab": {
          "base_uri": "https://localhost:8080/",
          "height": 391
        },
        "outputId": "3195e3a3-da4c-420b-90a0-ecd88808b745"
      },
      "source": [
        "fig, ax = plt.subplots(figsize=(15,5))\n",
        "ax.plot(\"global_active_power\", data=df, marker=\"o\")\n",
        "ax.plot(\"actual_global_active_power\", data=df, marker=\"x\")\n",
        "ax.set(xlabel=\"local_time\", ylabel=\"Global Active Power (kw)\",\n",
        "       title=\"Next 48 hours hourly prediction\")\n",
        "ax.xaxis.set_major_formatter(DateFormatter(\"%y-%m-%d %H\"))\n",
        "ax.xaxis.set_minor_locator(HourLocator())\n",
        "ax.xaxis.set_minor_formatter(DateFormatter(\"%H\"))\n",
        "plt.legend([\"predicted\", \"actual\"], loc='upper left')\n",
        "plt.xticks(rotation=45);"
      ],
      "execution_count": 76,
      "outputs": [
        {
          "output_type": "display_data",
          "data": {
            "image/png": "[encoded data removed]",
            "text/plain": [
              "<Figure size 1080x360 with 1 Axes>"
            ]
          },
          "metadata": {
            "tags": []
          }
        }
      ]
    },
    {
      "cell_type": "markdown",
      "metadata": {
        "id": "2wgbFncjrMRw",
        "colab_type": "text"
      },
      "source": [
        "### Compared to other univariate models we can see better results here. Still not very much better after adding 7 extra feature. Intuition is the other 7 extra features not helping much in getting a better model."
      ]
    },
    {
      "cell_type": "markdown",
      "metadata": {
        "id": "XYSSshHcreqN",
        "colab_type": "text"
      },
      "source": [
        "## Continue Training of the model by changing some parameters and checking if it improves further."
      ]
    },
    {
      "cell_type": "code",
      "metadata": {
        "id": "cEuQ6gp6rG8A",
        "colab_type": "code",
        "colab": {
          "base_uri": "https://localhost:8080/",
          "height": 323
        },
        "outputId": "9c1b1e71-167e-444c-cc02-5e9ed56fa996"
      },
      "source": [
        "# model is already imported and loaded with best weights in above section\n",
        "best_model.summary()"
      ],
      "execution_count": 78,
      "outputs": [
        {
          "output_type": "stream",
          "text": [
            "Model: \"sequential\"\n",
            "_________________________________________________________________\n",
            "Layer (type)                 Output Shape              Param #   \n",
            "=================================================================\n",
            "lstm (LSTM)                  (None, 200)               167200    \n",
            "_________________________________________________________________\n",
            "repeat_vector (RepeatVector) (None, 48, 200)           0         \n",
            "_________________________________________________________________\n",
            "lstm_1 (LSTM)                (None, 48, 200)           320800    \n",
            "_________________________________________________________________\n",
            "time_distributed (TimeDistri (None, 48, 100)           20100     \n",
            "_________________________________________________________________\n",
            "time_distributed_1 (TimeDist (None, 48, 1)             101       \n",
            "=================================================================\n",
            "Total params: 508,201\n",
            "Trainable params: 508,201\n",
            "Non-trainable params: 0\n",
            "_________________________________________________________________\n"
          ],
          "name": "stdout"
        }
      ]
    },
    {
      "cell_type": "code",
      "metadata": {
        "id": "SCQYvFTStkfQ",
        "colab_type": "code",
        "colab": {
          "base_uri": "https://localhost:8080/",
          "height": 731
        },
        "outputId": "7cf19e98-219d-44f9-f912-d7128dfb8933"
      },
      "source": [
        "# seeding the random number generation\n",
        "seed = 101\n",
        "np.random.seed(seed)\n",
        "tf.set_random_seed(seed)\n",
        "# defining parameters\n",
        "\n",
        "# CHANGING LEARNING rate\n",
        "learning_rate = 0.005\n",
        "# because of CPU contraints, will run it for lesser number of epochs\n",
        "epochs = 10\n",
        "# bigger batch size\n",
        "batch_size = 64\n",
        "verbose = 2\n",
        "n_timesteps, n_features, n_outputs = X_train.shape[1], X_train.shape[2], y_train.shape[1]\n",
        "y_train = y_train.reshape((y_train.shape[0], y_train.shape[1], 1))\n",
        "\n",
        "# model is already loaded\n",
        "best_model.load_weights(\"./hourly_models/model_4/weights_best.hdf5\")\n",
        "\n",
        "# create optimizer unit to define learning rate, this time no gradient clipping\n",
        "optmzr = optimizers.Adam(lr=learning_rate, clipnorm=1.0)\n",
        "# compile the model\n",
        "best_model.compile(loss=\"mse\", optimizer=optmzr,  metrics=[\"mse\"])\n",
        "tf.logging.set_verbosity(tf.logging.ERROR)\n",
        "\n",
        "# model checkpoint\n",
        "filepath=\"./hourly_models/model_4/weights_best_train_2.hdf5\"\n",
        "checkpoint = ModelCheckpoint(filepath, monitor=\"val_loss\", verbose=verbose, save_best_only=True, mode=\"min\")\n",
        "callbacks_list = [checkpoint]\n",
        "\n",
        "start = datetime.datetime.now()\n",
        "# Last time validation split was less, increasing (But here again by increasing we are reducing our training data)\n",
        "best_model.fit(X_train, y_train, validation_split=0.15, epochs=epochs, batch_size=batch_size, callbacks=callbacks_list, verbose=verbose)\n",
        "end = datetime.datetime.now()\n",
        "print(\"Model training started at: \", start, \" & ended at: \", end)"
      ],
      "execution_count": 90,
      "outputs": [
        {
          "output_type": "stream",
          "text": [
            "Train on 28522 samples, validate on 5034 samples\n",
            "Epoch 1/10\n",
            "\n",
            "Epoch 00001: val_loss improved from inf to 0.00780, saving model to ./hourly_models/model_4/weights_best_train_2.hdf5\n",
            "28522/28522 - 133s - loss: 6071.3004 - mean_squared_error: 6071.2930 - val_loss: 0.0078 - val_mean_squared_error: 0.0078\n",
            "Epoch 2/10\n",
            "\n",
            "Epoch 00002: val_loss improved from 0.00780 to 0.00778, saving model to ./hourly_models/model_4/weights_best_train_2.hdf5\n",
            "28522/28522 - 130s - loss: 0.0115 - mean_squared_error: 0.0115 - val_loss: 0.0078 - val_mean_squared_error: 0.0078\n",
            "Epoch 3/10\n",
            "\n",
            "Epoch 00003: val_loss did not improve from 0.00778\n",
            "28522/28522 - 128s - loss: 0.0110 - mean_squared_error: 0.0110 - val_loss: 0.0078 - val_mean_squared_error: 0.0078\n",
            "Epoch 4/10\n",
            "\n",
            "Epoch 00004: val_loss did not improve from 0.00778\n",
            "28522/28522 - 131s - loss: 0.0105 - mean_squared_error: 0.0105 - val_loss: 0.0079 - val_mean_squared_error: 0.0079\n",
            "Epoch 5/10\n",
            "\n",
            "Epoch 00005: val_loss improved from 0.00778 to 0.00777, saving model to ./hourly_models/model_4/weights_best_train_2.hdf5\n",
            "28522/28522 - 131s - loss: 9491523780.3240 - mean_squared_error: 9491523584.0000 - val_loss: 0.0078 - val_mean_squared_error: 0.0078\n",
            "Epoch 6/10\n",
            "\n",
            "Epoch 00006: val_loss did not improve from 0.00777\n",
            "28522/28522 - 132s - loss: 0.0102 - mean_squared_error: 0.0102 - val_loss: 0.0078 - val_mean_squared_error: 0.0078\n",
            "Epoch 7/10\n",
            "\n",
            "Epoch 00007: val_loss did not improve from 0.00777\n",
            "28522/28522 - 131s - loss: 0.0104 - mean_squared_error: 0.0104 - val_loss: 0.0079 - val_mean_squared_error: 0.0079\n",
            "Epoch 8/10\n",
            "\n",
            "Epoch 00008: val_loss did not improve from 0.00777\n",
            "28522/28522 - 132s - loss: 0.0095 - mean_squared_error: 0.0095 - val_loss: 0.0079 - val_mean_squared_error: 0.0079\n",
            "Epoch 9/10\n",
            "\n",
            "Epoch 00009: val_loss did not improve from 0.00777\n",
            "28522/28522 - 132s - loss: 0.0093 - mean_squared_error: 0.0093 - val_loss: 0.0081 - val_mean_squared_error: 0.0081\n",
            "Epoch 10/10\n",
            "\n",
            "Epoch 00010: val_loss did not improve from 0.00777\n",
            "28522/28522 - 132s - loss: 0.0091 - mean_squared_error: 0.0091 - val_loss: 0.0080 - val_mean_squared_error: 0.0080\n",
            "Model training started at:  2019-10-08 10:02:40.979337  & ended at:  2019-10-08 10:24:35.394437\n"
          ],
          "name": "stdout"
        }
      ]
    },
    {
      "cell_type": "code",
      "metadata": {
        "id": "RQCOFsll0XUl",
        "colab_type": "code",
        "colab": {}
      },
      "source": [
        "# serialize weights to HDF5\n",
        "best_model.save_weights(\"./hourly_models/model_4/last_weights_train_2.h5\")"
      ],
      "execution_count": 0,
      "outputs": []
    },
    {
      "cell_type": "code",
      "metadata": {
        "id": "3LU_SA227u_e",
        "colab_type": "code",
        "colab": {
          "base_uri": "https://localhost:8080/",
          "height": 34
        },
        "outputId": "4c325c80-73e8-457e-b497-6d31402ea14d"
      },
      "source": [
        "# removing 0th & 5th index because of high values\n",
        "loss = model.history.history[\"loss\"][1:]\n",
        "loss.pop(4)\n",
        "val_loss = model.history.history[\"val_loss\"][1:]\n",
        "val_loss.pop(4)"
      ],
      "execution_count": 94,
      "outputs": [
        {
          "output_type": "execute_result",
          "data": {
            "text/plain": [
              "0.0076292199739445565"
            ]
          },
          "metadata": {
            "tags": []
          },
          "execution_count": 94
        }
      ]
    },
    {
      "cell_type": "code",
      "metadata": {
        "id": "6IAzLHXb68sI",
        "colab_type": "code",
        "colab": {
          "base_uri": "https://localhost:8080/",
          "height": 295
        },
        "outputId": "c2e6d12d-f75c-4b7f-f8f9-a626fdde45e6"
      },
      "source": [
        "plt.plot(loss)\n",
        "plt.plot(val_loss)\n",
        "plt.title(\"Training Loss\")\n",
        "plt.ylabel(\"mse_loss\")\n",
        "plt.xlabel(\"epoch\")\n",
        "plt.legend([\"train\", \"validation\"], loc='upper left');"
      ],
      "execution_count": 95,
      "outputs": [
        {
          "output_type": "display_data",
          "data": {
            "image/png": "[encoded data removed]",
            "text/plain": [
              "<Figure size 432x288 with 1 Axes>"
            ]
          },
          "metadata": {
            "tags": []
          }
        }
      ]
    },
    {
      "cell_type": "markdown",
      "metadata": {
        "id": "wgdjVajF8fJH",
        "colab_type": "text"
      },
      "source": [
        "### Predicting with 10th epoch weights (last weights, instead of best weights).\n",
        "**Thogh validation loss didn't improve in last epoch, training error was minimized and both the error looks closer. It can be a better generalization. We need to check both the models, with best weights and this last model. Considering we have validation data as 15 % of the data.**"
      ]
    },
    {
      "cell_type": "code",
      "metadata": {
        "id": "F39DqBO27Lao",
        "colab_type": "code",
        "colab": {
          "base_uri": "https://localhost:8080/",
          "height": 51
        },
        "outputId": "373162fd-e1b5-4a6c-fbff-df36bf702ac2"
      },
      "source": [
        "predictions = []\n",
        "print(\"Start: \", datetime.datetime.now())\n",
        "for arr in X_eval:\n",
        "    # here array shape is (n_input_timestemps, n_features)\n",
        "    yhat = best_model.predict(arr.reshape(1, n_input, 8))\n",
        "    predictions.append(yhat)\n",
        "predictions = np.array(predictions)\n",
        "print(\"End: \", datetime.datetime.now())"
      ],
      "execution_count": 96,
      "outputs": [
        {
          "output_type": "stream",
          "text": [
            "Start:  2019-10-08 10:35:01.557986\n",
            "End:  2019-10-08 10:36:20.656626\n"
          ],
          "name": "stdout"
        }
      ]
    },
    {
      "cell_type": "code",
      "metadata": {
        "id": "BS6806tq78AT",
        "colab_type": "code",
        "colab": {}
      },
      "source": [
        "scores = list()\n",
        "# calculate an RMSE score for each hour\n",
        "# make the prediction shape as eval shape\n",
        "pred = predictions.reshape(predictions.shape[0], predictions.shape[2])\n",
        "#  0th index of scalar values will have details about global_active_power\n",
        "mult_range = scalar.data_range_[0]\n",
        "add_min = scalar.data_min_[0]\n",
        "for i in range(y_eval.shape[1]):\n",
        "    # convert to original scale, we have used MinMaxScalar\n",
        "    y_eval_inverse = y_eval[:, i] * mult_range + add_min\n",
        "    pred_inverse = pred[:, i] * mult_range + add_min\n",
        "    # calculate mse\n",
        "    mse = mean_squared_error(y_eval_inverse, pred_inverse)\n",
        "    # calculate rmse\n",
        "    rmse = np.sqrt(mse)\n",
        "    # store\n",
        "    scores.append(rmse)"
      ],
      "execution_count": 0,
      "outputs": []
    },
    {
      "cell_type": "code",
      "metadata": {
        "id": "RtlFgnS79PAo",
        "colab_type": "code",
        "colab": {
          "base_uri": "https://localhost:8080/",
          "height": 298
        },
        "outputId": "95044add-5a4e-4430-b2fc-42bdf3924e9b"
      },
      "source": [
        "hours = np.arange(1,49)\n",
        "plt.plot(hours, scores, marker='x', color=\"r\")\n",
        "plt.title(\"Hour wise RMSE extended for 48 hours\")\n",
        "plt.ylabel(\"RMSE global_active_power\")\n",
        "plt.ylabel(\"Prediction Hours\")"
      ],
      "execution_count": 98,
      "outputs": [
        {
          "output_type": "execute_result",
          "data": {
            "text/plain": [
              "Text(0, 0.5, 'Prediction Hours')"
            ]
          },
          "metadata": {
            "tags": []
          },
          "execution_count": 98
        },
        {
          "output_type": "display_data",
          "data": {
            "image/png": "[encoded data removed]",
            "text/plain": [
              "<Figure size 432x288 with 1 Axes>"
            ]
          },
          "metadata": {
            "tags": []
          }
        }
      ]
    },
    {
      "cell_type": "code",
      "metadata": {
        "id": "AILRnhY29W15",
        "colab_type": "code",
        "colab": {
          "base_uri": "https://localhost:8080/",
          "height": 34
        },
        "outputId": "7c18d72d-f2b6-42e7-8754-c3732bb278ef"
      },
      "source": [
        "# Checking overall RMSE\n",
        "mult_range = scalar.data_range_[0]\n",
        "add_min = scalar.data_min_[0]\n",
        "overall_mse = mean_squared_error(y_eval.flatten() * mult_range + add_min, pred.flatten() * mult_range + add_min)\n",
        "overall_rmse = np.sqrt(overall_mse)\n",
        "print(\"Overall RMSE for 1 months evaluation period is: {:.2f}\".format(overall_rmse))"
      ],
      "execution_count": 99,
      "outputs": [
        {
          "output_type": "stream",
          "text": [
            "Overall RMSE for 1 months evaluation period is: 48.85\n"
          ],
          "name": "stdout"
        }
      ]
    },
    {
      "cell_type": "markdown",
      "metadata": {
        "id": "zYshPirN9opF",
        "colab_type": "text"
      },
      "source": [
        "### Prediction for last 48 hours"
      ]
    },
    {
      "cell_type": "code",
      "metadata": {
        "id": "tfXhKRXY9dWF",
        "colab_type": "code",
        "colab": {
          "base_uri": "https://localhost:8080/",
          "height": 51
        },
        "outputId": "0fa9e147-dcbf-41d0-f84b-dcc45e3077fb"
      },
      "source": [
        "X_pred, y_pred = X_test, y_test\n",
        "print(\"Pred X shape: \", X_pred.shape)\n",
        "print(\"Pred y shape (in reality it won't be there): \", y_pred.shape)"
      ],
      "execution_count": 100,
      "outputs": [
        {
          "output_type": "stream",
          "text": [
            "Pred X shape:  (1, 72, 8)\n",
            "Pred y shape (in reality it won't be there):  (1, 48)\n"
          ],
          "name": "stdout"
        }
      ]
    },
    {
      "cell_type": "code",
      "metadata": {
        "id": "jL-ZW6dq9rgn",
        "colab_type": "code",
        "colab": {}
      },
      "source": [
        "# predict for next 48 hours\n",
        "predictions = []\n",
        "# looping so that we can have multiple prediction instances\n",
        "for arr in X_pred:\n",
        "    # here array shape is (n_input_timestemps, n_features)\n",
        "    yhat = best_model.predict(arr.reshape(1, n_input, 8))\n",
        "    predictions.append(yhat)\n",
        "predictions = np.array(predictions)"
      ],
      "execution_count": 0,
      "outputs": []
    },
    {
      "cell_type": "code",
      "metadata": {
        "id": "Hd91Q4599vva",
        "colab_type": "code",
        "colab": {}
      },
      "source": [
        "# Convert to original scale\n",
        "mult_range = scalar.data_range_[0]\n",
        "add_min = scalar.data_min_[0]\n",
        "# just looping so that we can generate multiple prediction instance\n",
        "original_scale_pred = []\n",
        "for p in predictions:\n",
        "    inv_scale_pred = p.flatten() * mult_range + add_min\n",
        "    original_scale_pred.append(inv_scale_pred)"
      ],
      "execution_count": 0,
      "outputs": []
    },
    {
      "cell_type": "code",
      "metadata": {
        "id": "VNDtfupH9zJi",
        "colab_type": "code",
        "colab": {}
      },
      "source": [
        "# Create a dataframe to share this (any other way)\n",
        "df = pd.DataFrame({\"local_time\": pd.date_range(start=\"2010-11-24 21:00:00\", end=\"2010-11-26 20:00:00\", freq=\"H\"), \n",
        "                   \"global_active_power\": original_scale_pred[0]})\n",
        "df.set_index(\"local_time\", inplace=True)"
      ],
      "execution_count": 0,
      "outputs": []
    },
    {
      "cell_type": "code",
      "metadata": {
        "id": "c3tCLWCG93x2",
        "colab_type": "code",
        "colab": {
          "base_uri": "https://localhost:8080/",
          "height": 235
        },
        "outputId": "d134854f-e565-4a20-f066-5f17ac344945"
      },
      "source": [
        "df.head()"
      ],
      "execution_count": 104,
      "outputs": [
        {
          "output_type": "execute_result",
          "data": {
            "text/html": [
              "<div>\n",
              "<style scoped>\n",
              "    .dataframe tbody tr th:only-of-type {\n",
              "        vertical-align: middle;\n",
              "    }\n",
              "\n",
              "    .dataframe tbody tr th {\n",
              "        vertical-align: top;\n",
              "    }\n",
              "\n",
              "    .dataframe thead th {\n",
              "        text-align: right;\n",
              "    }\n",
              "</style>\n",
              "<table border=\"1\" class=\"dataframe\">\n",
              "  <thead>\n",
              "    <tr style=\"text-align: right;\">\n",
              "      <th></th>\n",
              "      <th>global_active_power</th>\n",
              "    </tr>\n",
              "    <tr>\n",
              "      <th>local_time</th>\n",
              "      <th></th>\n",
              "    </tr>\n",
              "  </thead>\n",
              "  <tbody>\n",
              "    <tr>\n",
              "      <th>2010-11-24 21:00:00</th>\n",
              "      <td>134.116272</td>\n",
              "    </tr>\n",
              "    <tr>\n",
              "      <th>2010-11-24 22:00:00</th>\n",
              "      <td>89.268280</td>\n",
              "    </tr>\n",
              "    <tr>\n",
              "      <th>2010-11-24 23:00:00</th>\n",
              "      <td>44.047867</td>\n",
              "    </tr>\n",
              "    <tr>\n",
              "      <th>2010-11-25 00:00:00</th>\n",
              "      <td>26.121904</td>\n",
              "    </tr>\n",
              "    <tr>\n",
              "      <th>2010-11-25 01:00:00</th>\n",
              "      <td>24.519367</td>\n",
              "    </tr>\n",
              "  </tbody>\n",
              "</table>\n",
              "</div>"
            ],
            "text/plain": [
              "                     global_active_power\n",
              "local_time                              \n",
              "2010-11-24 21:00:00           134.116272\n",
              "2010-11-24 22:00:00            89.268280\n",
              "2010-11-24 23:00:00            44.047867\n",
              "2010-11-25 00:00:00            26.121904\n",
              "2010-11-25 01:00:00            24.519367"
            ]
          },
          "metadata": {
            "tags": []
          },
          "execution_count": 104
        }
      ]
    },
    {
      "cell_type": "code",
      "metadata": {
        "id": "EcuNsRkp94jz",
        "colab_type": "code",
        "colab": {
          "base_uri": "https://localhost:8080/",
          "height": 391
        },
        "outputId": "6b4a0460-3613-44e7-a26e-e5d8bf8ad7a0"
      },
      "source": [
        "fig, ax = plt.subplots(figsize=(15,5))\n",
        "ax.plot(\"global_active_power\", data=df, marker=\"o\")\n",
        "ax.set(xlabel=\"local_time\", ylabel=\"Predicted Global Active Power (kw)\",\n",
        "       title=\"Next 48 hours hourly prediction\")\n",
        "ax.xaxis.set_major_formatter(DateFormatter(\"%y-%m-%d %H\"))\n",
        "ax.xaxis.set_minor_locator(HourLocator())\n",
        "ax.xaxis.set_minor_formatter(DateFormatter(\"%H\"))\n",
        "plt.xticks(rotation=45);"
      ],
      "execution_count": 105,
      "outputs": [
        {
          "output_type": "display_data",
          "data": {
            "image/png": "[encoded data removed]",
            "text/plain": [
              "<Figure size 1080x360 with 1 Axes>"
            ]
          },
          "metadata": {
            "tags": []
          }
        }
      ]
    },
    {
      "cell_type": "markdown",
      "metadata": {
        "id": "t6vMzHUZ-Fxr",
        "colab_type": "text"
      },
      "source": [
        "### Actual vs Prediction"
      ]
    },
    {
      "cell_type": "code",
      "metadata": {
        "id": "AUFn48G79-d9",
        "colab_type": "code",
        "colab": {}
      },
      "source": [
        "df[\"actual_global_active_power\"] = y_pred.flatten() * mult_range + add_min"
      ],
      "execution_count": 0,
      "outputs": []
    },
    {
      "cell_type": "code",
      "metadata": {
        "id": "ZhF4NgYC-ISo",
        "colab_type": "code",
        "colab": {
          "base_uri": "https://localhost:8080/",
          "height": 391
        },
        "outputId": "3250baa1-b3e9-4837-a715-0a4982513db7"
      },
      "source": [
        "fig, ax = plt.subplots(figsize=(15,5))\n",
        "ax.plot(\"global_active_power\", data=df, marker=\"o\")\n",
        "ax.plot(\"actual_global_active_power\", data=df, marker=\"x\")\n",
        "ax.set(xlabel=\"local_time\", ylabel=\"Global Active Power (kw)\",\n",
        "       title=\"Next 48 hours hourly prediction\")\n",
        "ax.xaxis.set_major_formatter(DateFormatter(\"%y-%m-%d %H\"))\n",
        "ax.xaxis.set_minor_locator(HourLocator())\n",
        "ax.xaxis.set_minor_formatter(DateFormatter(\"%H\"))\n",
        "plt.legend([\"predicted\", \"actual\"], loc='upper left')\n",
        "plt.xticks(rotation=45);"
      ],
      "execution_count": 107,
      "outputs": [
        {
          "output_type": "display_data",
          "data": {
            "image/png": "[encoded data removed]",
            "text/plain": [
              "<Figure size 1080x360 with 1 Axes>"
            ]
          },
          "metadata": {
            "tags": []
          }
        }
      ]
    }
  ]
}