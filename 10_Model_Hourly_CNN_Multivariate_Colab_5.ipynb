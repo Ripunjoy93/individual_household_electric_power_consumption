{
  "nbformat": 4,
  "nbformat_minor": 0,
  "metadata": {
    "colab": {
      "name": "10_Model_Hourly_CNN_Multivariate_Colab_5.ipynb",
      "provenance": [],
      "collapsed_sections": []
    },
    "kernelspec": {
      "name": "python3",
      "display_name": "Python 3"
    },
    "accelerator": "GPU"
  },
  "cells": [
    {
      "cell_type": "markdown",
      "metadata": {
        "id": "39zDSi8L3FOR",
        "colab_type": "text"
      },
      "source": [
        "## CNN-LSTM model with Multivariate input\n",
        "**CNN expects the input data to have the same 3D structure as the LSTM model, although multiple features are read as different channels that ultimately have the same effect (1, num_timestemps, features). 1D CNN is capable of reading across sequence input and automatically learning the salient features.**     \n",
        "_We can try with univariate input also, where the features will be 1._"
      ]
    },
    {
      "cell_type": "markdown",
      "metadata": {
        "id": "DlOM8jQnEGbE",
        "colab_type": "text"
      },
      "source": [
        "## Setting Up Google Colab environment"
      ]
    },
    {
      "cell_type": "code",
      "metadata": {
        "id": "XUzdJjfB21bg",
        "colab_type": "code",
        "colab": {}
      },
      "source": [
        "# Mounting google drive\n",
        "from google.colab import drive\n",
        "drive.mount(\"/content/google_drive/\")"
      ],
      "execution_count": 0,
      "outputs": []
    },
    {
      "cell_type": "code",
      "metadata": {
        "id": "QQbV3hPWDc-t",
        "colab_type": "code",
        "colab": {
          "base_uri": "https://localhost:8080/",
          "height": 323
        },
        "outputId": "a4994ebd-277d-489d-e423-2c3910a18a05"
      },
      "source": [
        "# checking if required files are available in my google drive project (I have uploaded my project to google drive)\n",
        "!ls -R \"/content/google_drive/My Drive/Colab Notebooks/individual_household_electric_power_consumption/\""
      ],
      "execution_count": 2,
      "outputs": [
        {
          "output_type": "stream",
          "text": [
            "'/content/google_drive/My Drive/Colab Notebooks/individual_household_electric_power_consumption/':\n",
            "data  hourly_models  requirements.txt  test_data.csv\n",
            "\n",
            "'/content/google_drive/My Drive/Colab Notebooks/individual_household_electric_power_consumption/data':\n",
            "cleaned_household_power_consumption.csv\n",
            "\n",
            "'/content/google_drive/My Drive/Colab Notebooks/individual_household_electric_power_consumption/hourly_models':\n",
            "eval_scaled_48_to_48.npy       model_5\n",
            "eval_scaled_72_to_48.npy       test_scaled_48_to_48.npy\n",
            "min_max_all_feat_48_to_48.pkl  test_scaled_72_to_48.npy\n",
            "min_max_all_feat_72_to_48.pkl  train_scaled_48_to_48.npy\n",
            "model_4\t\t\t       train_scaled_72_to_48.npy\n",
            "\n",
            "'/content/google_drive/My Drive/Colab Notebooks/individual_household_electric_power_consumption/hourly_models/model_4':\n",
            "last_weights_first_train.h5  model.json\t\tweights_best_train_2.hdf5\n",
            "last_weights_train_2.h5      weights_best.hdf5\n",
            "\n",
            "'/content/google_drive/My Drive/Colab Notebooks/individual_household_electric_power_consumption/hourly_models/model_5':\n"
          ],
          "name": "stdout"
        }
      ]
    },
    {
      "cell_type": "code",
      "metadata": {
        "id": "gJyGzEX4DkQI",
        "colab_type": "code",
        "colab": {}
      },
      "source": [
        "# change woeking directory to mounted google_drive project directory\n",
        "import os\n",
        "google_drive_root = \"/content/google_drive/My Drive/Colab Notebooks/individual_household_electric_power_consumption/\"\n",
        "os.chdir(google_drive_root)"
      ],
      "execution_count": 0,
      "outputs": []
    },
    {
      "cell_type": "code",
      "metadata": {
        "id": "o1FLeyLODnfM",
        "colab_type": "code",
        "colab": {}
      },
      "source": [
        "# installing requirements\n",
        "# memory footprint support libraries/code\n",
        "!ln -sf /opt/bin/nvidia-smi /usr/bin/nvidia-smi\n",
        "!pip install gputil\n",
        "!pip install psutil\n",
        "!pip install humanize\n",
        "# installing requirements\n",
        "!pip install -r requirements.txt"
      ],
      "execution_count": 0,
      "outputs": []
    },
    {
      "cell_type": "code",
      "metadata": {
        "id": "NUbsRdDyDrs-",
        "colab_type": "code",
        "colab": {
          "base_uri": "https://localhost:8080/",
          "height": 306
        },
        "outputId": "1e2e63ee-4232-4afc-9be4-846ce8ad2430"
      },
      "source": [
        "!nvidia-smi"
      ],
      "execution_count": 5,
      "outputs": [
        {
          "output_type": "stream",
          "text": [
            "Tue Oct  8 11:09:19 2019       \n",
            "+-----------------------------------------------------------------------------+\n",
            "| NVIDIA-SMI 418.67       Driver Version: 418.67       CUDA Version: 10.1     |\n",
            "|-------------------------------+----------------------+----------------------+\n",
            "| GPU  Name        Persistence-M| Bus-Id        Disp.A | Volatile Uncorr. ECC |\n",
            "| Fan  Temp  Perf  Pwr:Usage/Cap|         Memory-Usage | GPU-Util  Compute M. |\n",
            "|===============================+======================+======================|\n",
            "|   0  Tesla K80           Off  | 00000000:00:04.0 Off |                    0 |\n",
            "| N/A   32C    P8    27W / 149W |      0MiB / 11441MiB |      0%      Default |\n",
            "+-------------------------------+----------------------+----------------------+\n",
            "                                                                               \n",
            "+-----------------------------------------------------------------------------+\n",
            "| Processes:                                                       GPU Memory |\n",
            "|  GPU       PID   Type   Process name                             Usage      |\n",
            "|=============================================================================|\n",
            "|  No running processes found                                                 |\n",
            "+-----------------------------------------------------------------------------+\n"
          ],
          "name": "stdout"
        }
      ]
    },
    {
      "cell_type": "code",
      "metadata": {
        "id": "fOBudEFADupm",
        "colab_type": "code",
        "colab": {
          "base_uri": "https://localhost:8080/",
          "height": 68
        },
        "outputId": "b4f4f526-8bf4-4f99-968c-448e37685b5e"
      },
      "source": [
        "# Check gpu is available or not\n",
        "# We need to change runtime type if not changed\n",
        "import tensorflow as tf\n",
        "print(\"Tensorflow version: \", tf.__version__)\n",
        "device_name = tf.test.gpu_device_name()\n",
        "print(device_name)\n",
        "if device_name != \"/device:GPU:0\":\n",
        "    #raise SystemError('GPU device not found')\n",
        "    print(\"GPU device not found\")\n",
        "print('Found GPU at: {}'.format(device_name))"
      ],
      "execution_count": 6,
      "outputs": [
        {
          "output_type": "stream",
          "text": [
            "Tensorflow version:  1.14.0\n",
            "/device:GPU:0\n",
            "Found GPU at: /device:GPU:0\n"
          ],
          "name": "stdout"
        }
      ]
    },
    {
      "cell_type": "code",
      "metadata": {
        "id": "ijgiBBXuDxx0",
        "colab_type": "code",
        "colab": {
          "base_uri": "https://localhost:8080/",
          "height": 476
        },
        "outputId": "7d6ed794-fc3b-4809-d391-884574a896d3"
      },
      "source": [
        "# My local device\n",
        "from tensorflow.python.client import device_lib\n",
        "device_lib.list_local_devices()"
      ],
      "execution_count": 7,
      "outputs": [
        {
          "output_type": "execute_result",
          "data": {
            "text/plain": [
              "[name: \"/device:CPU:0\"\n",
              " device_type: \"CPU\"\n",
              " memory_limit: 268435456\n",
              " locality {\n",
              " }\n",
              " incarnation: 4866790049473468141, name: \"/device:XLA_CPU:0\"\n",
              " device_type: \"XLA_CPU\"\n",
              " memory_limit: 17179869184\n",
              " locality {\n",
              " }\n",
              " incarnation: 803385617223855404\n",
              " physical_device_desc: \"device: XLA_CPU device\", name: \"/device:XLA_GPU:0\"\n",
              " device_type: \"XLA_GPU\"\n",
              " memory_limit: 17179869184\n",
              " locality {\n",
              " }\n",
              " incarnation: 14577160092348973130\n",
              " physical_device_desc: \"device: XLA_GPU device\", name: \"/device:GPU:0\"\n",
              " device_type: \"GPU\"\n",
              " memory_limit: 11330115994\n",
              " locality {\n",
              "   bus_id: 1\n",
              "   links {\n",
              "   }\n",
              " }\n",
              " incarnation: 2829323803687483990\n",
              " physical_device_desc: \"device: 0, name: Tesla K80, pci bus id: 0000:00:04.0, compute capability: 3.7\"]"
            ]
          },
          "metadata": {
            "tags": []
          },
          "execution_count": 7
        }
      ]
    },
    {
      "cell_type": "code",
      "metadata": {
        "id": "DAKheyDCD1E1",
        "colab_type": "code",
        "colab": {
          "base_uri": "https://localhost:8080/",
          "height": 51
        },
        "outputId": "a550c0fe-e206-49c3-9ad3-c5f978d5ca2e"
      },
      "source": [
        "# Checking GPU status\n",
        "import psutil\n",
        "import humanize\n",
        "import os\n",
        "import GPUtil as GPU\n",
        "GPUs = GPU.getGPUs()\n",
        "# XXX: only one GPU on Colab and isn’t guaranteed\n",
        "gpu = GPUs[0]\n",
        "def printm():\n",
        " process = psutil.Process(os.getpid())\n",
        " print(\"Gen RAM Free: \" + humanize.naturalsize( psutil.virtual_memory().available ), \" | Proc size: \" + humanize.naturalsize( process.memory_info().rss))\n",
        " print(\"GPU RAM Free: {0:.0f}MB | Used: {1:.0f}MB | Util {2:3.0f}% | Total {3:.0f}MB\".format(gpu.memoryFree, gpu.memoryUsed, gpu.memoryUtil*100, gpu.memoryTotal))\n",
        "printm()"
      ],
      "execution_count": 8,
      "outputs": [
        {
          "output_type": "stream",
          "text": [
            "Gen RAM Free: 12.6 GB  | Proc size: 442.3 MB\n",
            "GPU RAM Free: 11372MB | Used: 69MB | Util   1% | Total 11441MB\n"
          ],
          "name": "stdout"
        }
      ]
    },
    {
      "cell_type": "markdown",
      "metadata": {
        "id": "E66zwo7lEMn6",
        "colab_type": "text"
      },
      "source": [
        "## Model Building"
      ]
    },
    {
      "cell_type": "code",
      "metadata": {
        "id": "dRcqer5BD-83",
        "colab_type": "code",
        "colab": {}
      },
      "source": [
        "# coding: utf-8\n",
        "# !/usr/bin/env python3\n",
        "import pandas as pd\n",
        "pd.set_option(\"display.max_columns\", None)\n",
        "import numpy as np\n",
        "import warnings\n",
        "warnings.filterwarnings(\"ignore\")\n",
        "import datetime\n",
        "from sklearn.metrics import mean_squared_error\n",
        "from sklearn.preprocessing import MinMaxScaler\n",
        "# from sklearn.externals import joblib\n",
        "import joblib\n",
        "import matplotlib.pyplot as plt\n",
        "from matplotlib.dates import DateFormatter, HourLocator\n",
        "import tensorflow as tf\n",
        "from tensorflow.keras.models import Sequential, model_from_json\n",
        "from tensorflow.keras.layers import LSTM, Dense, TimeDistributed, RepeatVector, Conv1D, MaxPooling1D, Flatten\n",
        "from tensorflow.keras.callbacks import ModelCheckpoint, Callback\n",
        "from tensorflow.keras import optimizers"
      ],
      "execution_count": 0,
      "outputs": []
    },
    {
      "cell_type": "markdown",
      "metadata": {
        "id": "ElvzUuVOEVYU",
        "colab_type": "text"
      },
      "source": [
        "### Strategy for data preparation will same as model 4.\n",
        "## Here I will use CNN layer with multivariate inputs to see if the model can do better.\n",
        "### Scaled Train, Eval, Test is already avalable as numpy file"
      ]
    },
    {
      "cell_type": "code",
      "metadata": {
        "id": "7rBpRw8tEQxA",
        "colab_type": "code",
        "colab": {
          "base_uri": "https://localhost:8080/",
          "height": 68
        },
        "outputId": "1767bb50-1448-4eef-ccf1-794589b6e8fa"
      },
      "source": [
        "# load data, Instead of doing all the pre-processing, using the saved numpy arrays\n",
        "train_scaled = np.load(\"./hourly_models/train_scaled_72_to_48.npy\")\n",
        "eval_scaled = np.load(\"./hourly_models/eval_scaled_72_to_48.npy\")\n",
        "test_scaled = np.load(\"./hourly_models/test_scaled_72_to_48.npy\")\n",
        "print(\"Training scaled data shape: \", train_scaled.shape)\n",
        "print(\"Evaluation scaled data shape: \", eval_scaled.shape)\n",
        "print(\"Test scaled data shape: \", test_scaled.shape)"
      ],
      "execution_count": 10,
      "outputs": [
        {
          "output_type": "stream",
          "text": [
            "Training scaled data shape:  (33675, 8)\n",
            "Evaluation scaled data shape:  (792, 8)\n",
            "Test scaled data shape:  (120, 8)\n"
          ],
          "name": "stdout"
        }
      ]
    },
    {
      "cell_type": "markdown",
      "metadata": {
        "id": "DI0YiEO7FIJQ",
        "colab_type": "text"
      },
      "source": [
        "### Preparing Input & Output:\n",
        "Unlike Univariate Input, here we are going to provide all 8 features including global active power from last few hours"
      ]
    },
    {
      "cell_type": "code",
      "metadata": {
        "id": "AGJNcp_gE0H4",
        "colab_type": "code",
        "colab": {}
      },
      "source": [
        "# slight variation from the univariate function, here I am taking all 8 feature, we can combine both the functions\n",
        "# by using a flag like univariate = True\n",
        "def get_X_y(data, n_in, n_out):\n",
        "    X, y = list(), list()\n",
        "    in_start = 0\n",
        "    # step over the entire history one time step at a time\n",
        "    for _ in range(len(data)):\n",
        "        # define the end of the input sequence\n",
        "        in_end = in_start + n_in\n",
        "        out_end = in_end + n_out\n",
        "        # ensuring that we have enough data for this instance\n",
        "        if out_end <= len(data):\n",
        "            # need only 1 feature\n",
        "            x_input = data[in_start:in_end, :]\n",
        "            # it will give [samples, timestemps, features]\n",
        "            X.append(x_input)\n",
        "            # [samples, output]\n",
        "            y_output = data[in_end:out_end, 0]\n",
        "            y.append(y_output)\n",
        "        # move along one time step\n",
        "        in_start += 1\n",
        "    return np.array(X), np.array(y)"
      ],
      "execution_count": 0,
      "outputs": []
    },
    {
      "cell_type": "code",
      "metadata": {
        "id": "jx2GMqx9E-Jb",
        "colab_type": "code",
        "colab": {
          "base_uri": "https://localhost:8080/",
          "height": 119
        },
        "outputId": "04bd871b-2b4f-4eb7-95c4-01d995df3ff3"
      },
      "source": [
        "# Process X and y\n",
        "n_input = 72\n",
        "n_output = 48\n",
        "X_train, y_train = get_X_y(data=train_scaled, n_in=n_input, n_out=n_output)\n",
        "X_eval, y_eval = get_X_y(data=eval_scaled, n_in=n_input, n_out=n_output)\n",
        "X_test, y_test = get_X_y(data=test_scaled, n_in=n_input, n_out=n_output)\n",
        "print(\"Train X shape: \", X_train.shape)\n",
        "print(\"Train y shape: \", y_train.shape)\n",
        "print(\"Evaluation X shape: \", X_eval.shape)\n",
        "print(\"Evaluation y shape: \", y_eval.shape)\n",
        "print(\"Test X shape: \", X_test.shape)\n",
        "print(\"Test y shape: \", y_test.shape)"
      ],
      "execution_count": 12,
      "outputs": [
        {
          "output_type": "stream",
          "text": [
            "Train X shape:  (33556, 72, 8)\n",
            "Train y shape:  (33556, 48)\n",
            "Evaluation X shape:  (673, 72, 8)\n",
            "Evaluation y shape:  (673, 48)\n",
            "Test X shape:  (1, 72, 8)\n",
            "Test y shape:  (1, 48)\n"
          ],
          "name": "stdout"
        }
      ]
    },
    {
      "cell_type": "code",
      "metadata": {
        "id": "2DfY_0U1FB10",
        "colab_type": "code",
        "colab": {
          "base_uri": "https://localhost:8080/",
          "height": 34
        },
        "outputId": "34e52366-1d31-455c-b11d-dd146b00a391"
      },
      "source": [
        "# reshape output into [samples, timesteps, features] \n",
        "# unlike to the other model this model needs the shape to be 3 dimensional\n",
        "y_train = y_train.reshape((y_train.shape[0], y_train.shape[1], 1))\n",
        "print(y_train.shape)"
      ],
      "execution_count": 13,
      "outputs": [
        {
          "output_type": "stream",
          "text": [
            "(33556, 48, 1)\n"
          ],
          "name": "stdout"
        }
      ]
    },
    {
      "cell_type": "markdown",
      "metadata": {
        "id": "9n-xv7F2FZnX",
        "colab_type": "text"
      },
      "source": [
        "### Build Model"
      ]
    },
    {
      "cell_type": "code",
      "metadata": {
        "id": "irwNWJKZFXp9",
        "colab_type": "code",
        "colab": {
          "base_uri": "https://localhost:8080/",
          "height": 1000
        },
        "outputId": "b7e6f7e4-edc7-4423-d256-27fe7d6069e5"
      },
      "source": [
        "# seeding the random number generation\n",
        "seed = 101\n",
        "np.random.seed(seed)\n",
        "tf.set_random_seed(seed)\n",
        "# defining parameters\n",
        "learning_rate = 0.001\n",
        "epochs = 20\n",
        "batch_size = 64\n",
        "verbose = 2\n",
        "n_timesteps, n_features, n_outputs = X_train.shape[1], X_train.shape[2], y_train.shape[1]\n",
        "\n",
        "# define model\n",
        "model = Sequential()\n",
        "# defining Convolution\n",
        "model.add(Conv1D(filters=64, kernel_size=3, activation='relu', input_shape=(n_timesteps,n_features)))\n",
        "model.add(MaxPooling1D(pool_size=2))\n",
        "model.add(Conv1D(filters=64, kernel_size=3, activation='relu'))\n",
        "model.add(MaxPooling1D(pool_size=2))\n",
        "model.add(Flatten())\n",
        "# defining LSTM\n",
        "model.add(RepeatVector(n_outputs))\n",
        "model.add(LSTM(200, activation=\"relu\", return_sequences=True))\n",
        "model.add(TimeDistributed(Dense(100, activation=\"relu\")))\n",
        "model.add(TimeDistributed(Dense(1)))\n",
        "# create optimizer unit to define learning rate\n",
        "optmzr = optimizers.Adam(lr=learning_rate, clipnorm=1.0)\n",
        "# compile the model\n",
        "model.compile(loss=\"mse\", optimizer=optmzr,  metrics=[\"mse\"])\n",
        "tf.logging.set_verbosity(tf.logging.ERROR)\n",
        "\n",
        "# model checkpoint\n",
        "filepath=\"./hourly_models/model_5/weights_best.hdf5\"\n",
        "checkpoint = ModelCheckpoint(filepath, monitor=\"val_loss\", verbose=verbose, save_best_only=True, mode=\"min\")\n",
        "callbacks_list = [checkpoint]\n",
        "\n",
        "start = datetime.datetime.now()\n",
        "# Last time validation split was less, increasing (But here again by increasing we are reducing our training data)\n",
        "model.fit(X_train, y_train, validation_split=0.15, epochs=epochs, batch_size=batch_size, callbacks=callbacks_list, verbose=verbose)\n",
        "end = datetime.datetime.now()\n",
        "print(\"Model training started at: \", start, \" & ended at: \", end)"
      ],
      "execution_count": 16,
      "outputs": [
        {
          "output_type": "stream",
          "text": [
            "WARNING:tensorflow:From /usr/local/lib/python3.6/dist-packages/tensorflow/python/ops/init_ops.py:1251: calling VarianceScaling.__init__ (from tensorflow.python.ops.init_ops) with dtype is deprecated and will be removed in a future version.\n",
            "Instructions for updating:\n",
            "Call initializer instance with the dtype argument instead of passing it to the constructor\n",
            "Train on 28522 samples, validate on 5034 samples\n",
            "Epoch 1/20\n",
            "\n",
            "Epoch 00001: val_loss improved from inf to 0.00987, saving model to ./hourly_models/model_5/weights_best.hdf5\n",
            "28522/28522 - 67s - loss: 0.0187 - mean_squared_error: 0.0187 - val_loss: 0.0099 - val_mean_squared_error: 0.0099\n",
            "Epoch 2/20\n",
            "\n",
            "Epoch 00002: val_loss improved from 0.00987 to 0.00827, saving model to ./hourly_models/model_5/weights_best.hdf5\n",
            "28522/28522 - 64s - loss: 0.0169 - mean_squared_error: 0.0169 - val_loss: 0.0083 - val_mean_squared_error: 0.0083\n",
            "Epoch 3/20\n",
            "\n",
            "Epoch 00003: val_loss improved from 0.00827 to 0.00815, saving model to ./hourly_models/model_5/weights_best.hdf5\n",
            "28522/28522 - 64s - loss: 0.0132 - mean_squared_error: 0.0132 - val_loss: 0.0082 - val_mean_squared_error: 0.0082\n",
            "Epoch 4/20\n",
            "\n",
            "Epoch 00004: val_loss improved from 0.00815 to 0.00802, saving model to ./hourly_models/model_5/weights_best.hdf5\n",
            "28522/28522 - 64s - loss: 0.0131 - mean_squared_error: 0.0131 - val_loss: 0.0080 - val_mean_squared_error: 0.0080\n",
            "Epoch 5/20\n",
            "\n",
            "Epoch 00005: val_loss improved from 0.00802 to 0.00794, saving model to ./hourly_models/model_5/weights_best.hdf5\n",
            "28522/28522 - 63s - loss: 0.0124 - mean_squared_error: 0.0124 - val_loss: 0.0079 - val_mean_squared_error: 0.0079\n",
            "Epoch 6/20\n",
            "\n",
            "Epoch 00006: val_loss did not improve from 0.00794\n",
            "28522/28522 - 62s - loss: 0.0118 - mean_squared_error: 0.0118 - val_loss: 0.0080 - val_mean_squared_error: 0.0080\n",
            "Epoch 7/20\n",
            "\n",
            "Epoch 00007: val_loss did not improve from 0.00794\n",
            "28522/28522 - 62s - loss: 0.0112 - mean_squared_error: 0.0112 - val_loss: 0.0080 - val_mean_squared_error: 0.0080\n",
            "Epoch 8/20\n",
            "\n",
            "Epoch 00008: val_loss did not improve from 0.00794\n",
            "28522/28522 - 63s - loss: 0.0106 - mean_squared_error: 0.0106 - val_loss: 0.0082 - val_mean_squared_error: 0.0082\n",
            "Epoch 9/20\n",
            "\n",
            "Epoch 00009: val_loss did not improve from 0.00794\n",
            "28522/28522 - 63s - loss: 0.0101 - mean_squared_error: 0.0101 - val_loss: 0.0082 - val_mean_squared_error: 0.0082\n",
            "Epoch 10/20\n",
            "\n",
            "Epoch 00010: val_loss did not improve from 0.00794\n",
            "28522/28522 - 64s - loss: 0.0096 - mean_squared_error: 0.0096 - val_loss: 0.0082 - val_mean_squared_error: 0.0082\n",
            "Epoch 11/20\n",
            "\n",
            "Epoch 00011: val_loss did not improve from 0.00794\n",
            "28522/28522 - 63s - loss: 0.0091 - mean_squared_error: 0.0091 - val_loss: 0.0083 - val_mean_squared_error: 0.0083\n",
            "Epoch 12/20\n",
            "\n",
            "Epoch 00012: val_loss did not improve from 0.00794\n",
            "28522/28522 - 63s - loss: 0.0089 - mean_squared_error: 0.0089 - val_loss: 0.0084 - val_mean_squared_error: 0.0084\n",
            "Epoch 13/20\n",
            "\n",
            "Epoch 00013: val_loss did not improve from 0.00794\n",
            "28522/28522 - 63s - loss: 0.0084 - mean_squared_error: 0.0084 - val_loss: 0.0084 - val_mean_squared_error: 0.0084\n",
            "Epoch 14/20\n",
            "\n",
            "Epoch 00014: val_loss did not improve from 0.00794\n",
            "28522/28522 - 63s - loss: 0.0081 - mean_squared_error: 0.0081 - val_loss: 0.0085 - val_mean_squared_error: 0.0085\n",
            "Epoch 15/20\n",
            "\n",
            "Epoch 00015: val_loss did not improve from 0.00794\n",
            "28522/28522 - 64s - loss: 0.0077 - mean_squared_error: 0.0077 - val_loss: 0.0087 - val_mean_squared_error: 0.0087\n",
            "Epoch 16/20\n",
            "\n",
            "Epoch 00016: val_loss did not improve from 0.00794\n",
            "28522/28522 - 63s - loss: 0.0076 - mean_squared_error: 0.0076 - val_loss: 0.0087 - val_mean_squared_error: 0.0087\n",
            "Epoch 17/20\n",
            "\n",
            "Epoch 00017: val_loss did not improve from 0.00794\n",
            "28522/28522 - 63s - loss: 0.0077 - mean_squared_error: 0.0077 - val_loss: 0.0087 - val_mean_squared_error: 0.0087\n",
            "Epoch 18/20\n",
            "\n",
            "Epoch 00018: val_loss did not improve from 0.00794\n",
            "28522/28522 - 63s - loss: 0.0071 - mean_squared_error: 0.0071 - val_loss: 0.0104 - val_mean_squared_error: 0.0104\n",
            "Epoch 19/20\n",
            "\n",
            "Epoch 00019: val_loss did not improve from 0.00794\n",
            "28522/28522 - 63s - loss: 0.0084 - mean_squared_error: 0.0084 - val_loss: 0.0087 - val_mean_squared_error: 0.0087\n",
            "Epoch 20/20\n",
            "\n",
            "Epoch 00020: val_loss did not improve from 0.00794\n",
            "28522/28522 - 63s - loss: 0.0075 - mean_squared_error: 0.0075 - val_loss: 0.0088 - val_mean_squared_error: 0.0088\n",
            "Model training started at:  2019-10-08 11:25:49.239498  & ended at:  2019-10-08 11:47:02.839833\n"
          ],
          "name": "stdout"
        }
      ]
    },
    {
      "cell_type": "code",
      "metadata": {
        "id": "IK85LqY9Manx",
        "colab_type": "code",
        "colab": {
          "base_uri": "https://localhost:8080/",
          "height": 459
        },
        "outputId": "9be3e769-597d-476f-aa44-df5b0e8d2303"
      },
      "source": [
        "model.summary()"
      ],
      "execution_count": 17,
      "outputs": [
        {
          "output_type": "stream",
          "text": [
            "Model: \"sequential\"\n",
            "_________________________________________________________________\n",
            "Layer (type)                 Output Shape              Param #   \n",
            "=================================================================\n",
            "conv1d (Conv1D)              (None, 70, 64)            1600      \n",
            "_________________________________________________________________\n",
            "max_pooling1d (MaxPooling1D) (None, 35, 64)            0         \n",
            "_________________________________________________________________\n",
            "conv1d_1 (Conv1D)            (None, 33, 64)            12352     \n",
            "_________________________________________________________________\n",
            "max_pooling1d_1 (MaxPooling1 (None, 16, 64)            0         \n",
            "_________________________________________________________________\n",
            "flatten (Flatten)            (None, 1024)              0         \n",
            "_________________________________________________________________\n",
            "repeat_vector (RepeatVector) (None, 48, 1024)          0         \n",
            "_________________________________________________________________\n",
            "lstm (LSTM)                  (None, 48, 200)           980000    \n",
            "_________________________________________________________________\n",
            "time_distributed (TimeDistri (None, 48, 100)           20100     \n",
            "_________________________________________________________________\n",
            "time_distributed_1 (TimeDist (None, 48, 1)             101       \n",
            "=================================================================\n",
            "Total params: 1,014,153\n",
            "Trainable params: 1,014,153\n",
            "Non-trainable params: 0\n",
            "_________________________________________________________________\n"
          ],
          "name": "stdout"
        }
      ]
    },
    {
      "cell_type": "code",
      "metadata": {
        "id": "dkTULbkKHj53",
        "colab_type": "code",
        "colab": {}
      },
      "source": [
        "# save model to JSON\n",
        "model_json = model.to_json()\n",
        "with open(\"./hourly_models/model_5/model.json\", \"w\") as json_file:\n",
        "    json_file.write(model_json)\n",
        "# serialize weights to HDF5\n",
        "model.save_weights(\"./hourly_models/model_5/last_weights.h5\")"
      ],
      "execution_count": 0,
      "outputs": []
    },
    {
      "cell_type": "code",
      "metadata": {
        "id": "TVIT8SPaLhT8",
        "colab_type": "code",
        "colab": {
          "base_uri": "https://localhost:8080/",
          "height": 295
        },
        "outputId": "20cfae06-6ff4-4fad-c666-a33d5c790f21"
      },
      "source": [
        "plt.plot(model.history.history[\"loss\"])\n",
        "plt.plot(model.history.history[\"val_loss\"])\n",
        "plt.title(\"Training Loss\")\n",
        "plt.ylabel(\"mse_loss\")\n",
        "plt.xlabel(\"epoch\")\n",
        "plt.legend([\"train\", \"validation\"], loc='upper left');"
      ],
      "execution_count": 19,
      "outputs": [
        {
          "output_type": "display_data",
          "data": {
            "image/png": "[encoded data removed]",
            "text/plain": [
              "<Figure size 432x288 with 1 Axes>"
            ]
          },
          "metadata": {
            "tags": []
          }
        }
      ]
    },
    {
      "cell_type": "code",
      "metadata": {
        "id": "0SnSi-omLhLV",
        "colab_type": "code",
        "colab": {}
      },
      "source": [
        "# load best weights into the model\n",
        "model.load_weights(\"./hourly_models/model_5/weights_best.hdf5\")"
      ],
      "execution_count": 0,
      "outputs": []
    },
    {
      "cell_type": "code",
      "metadata": {
        "id": "enpHvYIDLhDa",
        "colab_type": "code",
        "colab": {
          "base_uri": "https://localhost:8080/",
          "height": 51
        },
        "outputId": "aa4e8af8-e51a-47ee-eade-9d542e25f88a"
      },
      "source": [
        "predictions = []\n",
        "print(\"Start: \", datetime.datetime.now())\n",
        "for arr in X_eval:\n",
        "    # here array shape is (n_input_timestemps, n_features)\n",
        "    yhat = model.predict(arr.reshape(1, n_input, 8))\n",
        "    predictions.append(yhat)\n",
        "predictions = np.array(predictions)\n",
        "print(\"End: \", datetime.datetime.now())"
      ],
      "execution_count": 24,
      "outputs": [
        {
          "output_type": "stream",
          "text": [
            "Start:  2019-10-08 11:51:15.912100\n",
            "End:  2019-10-08 11:51:50.549363\n"
          ],
          "name": "stdout"
        }
      ]
    },
    {
      "cell_type": "code",
      "metadata": {
        "id": "Bq_Gm15VLg3W",
        "colab_type": "code",
        "colab": {
          "base_uri": "https://localhost:8080/",
          "height": 51
        },
        "outputId": "b02078c3-c83b-4b49-d94f-354f65a320ec"
      },
      "source": [
        "# Prediction is also taking time\n",
        "print(predictions.shape)\n",
        "print(y_eval.shape)"
      ],
      "execution_count": 25,
      "outputs": [
        {
          "output_type": "stream",
          "text": [
            "(673, 1, 48, 1)\n",
            "(673, 48)\n"
          ],
          "name": "stdout"
        }
      ]
    },
    {
      "cell_type": "code",
      "metadata": {
        "id": "62WMxQ7FNpIr",
        "colab_type": "code",
        "colab": {}
      },
      "source": [
        "# load the scalar\n",
        "scalar = joblib.load(\"./hourly_models/min_max_all_feat_72_to_48.pkl\")"
      ],
      "execution_count": 0,
      "outputs": []
    },
    {
      "cell_type": "code",
      "metadata": {
        "id": "mAWwaYW3Lxjw",
        "colab_type": "code",
        "colab": {}
      },
      "source": [
        "scores = list()\n",
        "# calculate an RMSE score for each hour\n",
        "# make the prediction shape as eval shape\n",
        "pred = predictions.reshape(predictions.shape[0], predictions.shape[2])\n",
        "#  0th index of scalar values will have details about global_active_power\n",
        "mult_range = scalar.data_range_[0]\n",
        "add_min = scalar.data_min_[0]\n",
        "for i in range(y_eval.shape[1]):\n",
        "    # convert to original scale, we have used MinMaxScalar\n",
        "    y_eval_inverse = y_eval[:, i] * mult_range + add_min\n",
        "    pred_inverse = pred[:, i] * mult_range + add_min\n",
        "    # calculate mse\n",
        "    mse = mean_squared_error(y_eval_inverse, pred_inverse)\n",
        "    # calculate rmse\n",
        "    rmse = np.sqrt(mse)\n",
        "    # store\n",
        "    scores.append(rmse)"
      ],
      "execution_count": 0,
      "outputs": []
    },
    {
      "cell_type": "code",
      "metadata": {
        "id": "6wuiIp5ALxYl",
        "colab_type": "code",
        "colab": {
          "base_uri": "https://localhost:8080/",
          "height": 298
        },
        "outputId": "3765a531-e55d-439d-9e7e-e0f84ed60200"
      },
      "source": [
        "hours = np.arange(1,49)\n",
        "plt.plot(hours, scores, marker='x', color=\"r\")\n",
        "plt.title(\"Hour wise RMSE extended for 48 hours\")\n",
        "plt.ylabel(\"RMSE global_active_power\")\n",
        "plt.ylabel(\"Prediction Hours\")"
      ],
      "execution_count": 31,
      "outputs": [
        {
          "output_type": "execute_result",
          "data": {
            "text/plain": [
              "Text(0, 0.5, 'Prediction Hours')"
            ]
          },
          "metadata": {
            "tags": []
          },
          "execution_count": 31
        },
        {
          "output_type": "display_data",
          "data": {
            "image/png": "[encoded data removed]",
            "text/plain": [
              "<Figure size 432x288 with 1 Axes>"
            ]
          },
          "metadata": {
            "tags": []
          }
        }
      ]
    },
    {
      "cell_type": "markdown",
      "metadata": {
        "id": "CMdEtpWFOgVy",
        "colab_type": "text"
      },
      "source": [
        "### Unlike other models, we can see that prediction are good till moderately longer time than others. The model able to understand region wise importance because of convolution. We can try experimenting with more number of filters & also play around with other parameters."
      ]
    },
    {
      "cell_type": "code",
      "metadata": {
        "id": "Gdks2iQqLxRH",
        "colab_type": "code",
        "colab": {
          "base_uri": "https://localhost:8080/",
          "height": 34
        },
        "outputId": "9d6678d5-c2a1-4536-aad6-f08b22ecf1ef"
      },
      "source": [
        "# Checking overall RMSE\n",
        "mult_range = scalar.data_range_[0]\n",
        "add_min = scalar.data_min_[0]\n",
        "overall_mse = mean_squared_error(y_eval.flatten() * mult_range + add_min, pred.flatten() * mult_range + add_min)\n",
        "overall_rmse = np.sqrt(overall_mse)\n",
        "print(\"Overall RMSE for 1 months evaluation period is: {:.2f}\".format(overall_rmse))"
      ],
      "execution_count": 32,
      "outputs": [
        {
          "output_type": "stream",
          "text": [
            "Overall RMSE for 1 months evaluation period is: 44.99\n"
          ],
          "name": "stdout"
        }
      ]
    },
    {
      "cell_type": "markdown",
      "metadata": {
        "id": "mcBVZIOZN9L0",
        "colab_type": "text"
      },
      "source": [
        "### Prediction"
      ]
    },
    {
      "cell_type": "code",
      "metadata": {
        "id": "LTW5iPaaLxK_",
        "colab_type": "code",
        "colab": {
          "base_uri": "https://localhost:8080/",
          "height": 51
        },
        "outputId": "f7a4948d-2225-46c7-974d-73436cb43ee8"
      },
      "source": [
        "X_pred, y_pred = X_test, y_test\n",
        "print(\"Pred X shape: \", X_pred.shape)\n",
        "print(\"Pred y shape (in reality it won't be there): \", y_pred.shape)"
      ],
      "execution_count": 33,
      "outputs": [
        {
          "output_type": "stream",
          "text": [
            "Pred X shape:  (1, 72, 8)\n",
            "Pred y shape (in reality it won't be there):  (1, 48)\n"
          ],
          "name": "stdout"
        }
      ]
    },
    {
      "cell_type": "code",
      "metadata": {
        "id": "UpvVCBo-LxDw",
        "colab_type": "code",
        "colab": {}
      },
      "source": [
        "# predict for next 48 hours\n",
        "predictions = []\n",
        "# looping so that we can have multiple prediction instances\n",
        "for arr in X_pred:\n",
        "    # here array shape is (n_input_timestemps, n_features)\n",
        "    yhat = model.predict(arr.reshape(1, n_input, 8))\n",
        "    predictions.append(yhat)\n",
        "predictions = np.array(predictions)"
      ],
      "execution_count": 0,
      "outputs": []
    },
    {
      "cell_type": "code",
      "metadata": {
        "id": "SkBpJL96Lw6u",
        "colab_type": "code",
        "colab": {}
      },
      "source": [
        "# Convert to original scale\n",
        "mult_range = scalar.data_range_[0]\n",
        "add_min = scalar.data_min_[0]\n",
        "# just looping so that we can generate multiple prediction instance\n",
        "original_scale_pred = []\n",
        "for p in predictions:\n",
        "    inv_scale_pred = p.flatten() * mult_range + add_min\n",
        "    original_scale_pred.append(inv_scale_pred)"
      ],
      "execution_count": 0,
      "outputs": []
    },
    {
      "cell_type": "code",
      "metadata": {
        "id": "ZCoarTI4MAdT",
        "colab_type": "code",
        "colab": {}
      },
      "source": [
        "# Create a dataframe to share this (any other way)\n",
        "df = pd.DataFrame({\"local_time\": pd.date_range(start=\"2010-11-24 21:00:00\", end=\"2010-11-26 20:00:00\", freq=\"H\"), \n",
        "                   \"global_active_power\": original_scale_pred[0]})\n",
        "df.set_index(\"local_time\", inplace=True)"
      ],
      "execution_count": 0,
      "outputs": []
    },
    {
      "cell_type": "code",
      "metadata": {
        "id": "_9zfOcVIMATR",
        "colab_type": "code",
        "colab": {
          "base_uri": "https://localhost:8080/",
          "height": 235
        },
        "outputId": "f816e793-78e9-42a1-cc6b-07edfe5fb89d"
      },
      "source": [
        "df.head()"
      ],
      "execution_count": 37,
      "outputs": [
        {
          "output_type": "execute_result",
          "data": {
            "text/html": [
              "<div>\n",
              "<style scoped>\n",
              "    .dataframe tbody tr th:only-of-type {\n",
              "        vertical-align: middle;\n",
              "    }\n",
              "\n",
              "    .dataframe tbody tr th {\n",
              "        vertical-align: top;\n",
              "    }\n",
              "\n",
              "    .dataframe thead th {\n",
              "        text-align: right;\n",
              "    }\n",
              "</style>\n",
              "<table border=\"1\" class=\"dataframe\">\n",
              "  <thead>\n",
              "    <tr style=\"text-align: right;\">\n",
              "      <th></th>\n",
              "      <th>global_active_power</th>\n",
              "    </tr>\n",
              "    <tr>\n",
              "      <th>local_time</th>\n",
              "      <th></th>\n",
              "    </tr>\n",
              "  </thead>\n",
              "  <tbody>\n",
              "    <tr>\n",
              "      <th>2010-11-24 21:00:00</th>\n",
              "      <td>113.858047</td>\n",
              "    </tr>\n",
              "    <tr>\n",
              "      <th>2010-11-24 22:00:00</th>\n",
              "      <td>88.920792</td>\n",
              "    </tr>\n",
              "    <tr>\n",
              "      <th>2010-11-24 23:00:00</th>\n",
              "      <td>53.739319</td>\n",
              "    </tr>\n",
              "    <tr>\n",
              "      <th>2010-11-25 00:00:00</th>\n",
              "      <td>40.958588</td>\n",
              "    </tr>\n",
              "    <tr>\n",
              "      <th>2010-11-25 01:00:00</th>\n",
              "      <td>31.335535</td>\n",
              "    </tr>\n",
              "  </tbody>\n",
              "</table>\n",
              "</div>"
            ],
            "text/plain": [
              "                     global_active_power\n",
              "local_time                              \n",
              "2010-11-24 21:00:00           113.858047\n",
              "2010-11-24 22:00:00            88.920792\n",
              "2010-11-24 23:00:00            53.739319\n",
              "2010-11-25 00:00:00            40.958588\n",
              "2010-11-25 01:00:00            31.335535"
            ]
          },
          "metadata": {
            "tags": []
          },
          "execution_count": 37
        }
      ]
    },
    {
      "cell_type": "code",
      "metadata": {
        "id": "Tt_TZg9pMLIX",
        "colab_type": "code",
        "colab": {
          "base_uri": "https://localhost:8080/",
          "height": 391
        },
        "outputId": "aef1e2f1-81d2-4b33-d61a-cc0e624c826f"
      },
      "source": [
        "fig, ax = plt.subplots(figsize=(15,5))\n",
        "ax.plot(\"global_active_power\", data=df, marker=\"o\")\n",
        "ax.set(xlabel=\"local_time\", ylabel=\"Predicted Global Active Power (kw)\",\n",
        "       title=\"Next 48 hours hourly prediction\")\n",
        "ax.xaxis.set_major_formatter(DateFormatter(\"%y-%m-%d %H\"))\n",
        "ax.xaxis.set_minor_locator(HourLocator())\n",
        "ax.xaxis.set_minor_formatter(DateFormatter(\"%H\"))\n",
        "plt.xticks(rotation=45);"
      ],
      "execution_count": 38,
      "outputs": [
        {
          "output_type": "display_data",
          "data": {
            "image/png": "[encoded data removed]",
            "text/plain": [
              "<Figure size 1080x360 with 1 Axes>"
            ]
          },
          "metadata": {
            "tags": []
          }
        }
      ]
    },
    {
      "cell_type": "markdown",
      "metadata": {
        "id": "F7B-54LOOEpt",
        "colab_type": "text"
      },
      "source": [
        "### Actual vs Prediction"
      ]
    },
    {
      "cell_type": "code",
      "metadata": {
        "id": "koB-t2ZoMLF7",
        "colab_type": "code",
        "colab": {}
      },
      "source": [
        "df[\"actual_global_active_power\"] = y_pred.flatten() * mult_range + add_min"
      ],
      "execution_count": 0,
      "outputs": []
    },
    {
      "cell_type": "code",
      "metadata": {
        "id": "rlxP4XLhMLCC",
        "colab_type": "code",
        "colab": {
          "base_uri": "https://localhost:8080/",
          "height": 391
        },
        "outputId": "f8e3f97c-db72-4bd8-fb4f-f7228d16e217"
      },
      "source": [
        "fig, ax = plt.subplots(figsize=(15,5))\n",
        "ax.plot(\"global_active_power\", data=df, marker=\"o\")\n",
        "ax.plot(\"actual_global_active_power\", data=df, marker=\"x\")\n",
        "ax.set(xlabel=\"local_time\", ylabel=\"Global Active Power (kw)\",\n",
        "       title=\"Next 48 hours hourly prediction\")\n",
        "ax.xaxis.set_major_formatter(DateFormatter(\"%y-%m-%d %H\"))\n",
        "ax.xaxis.set_minor_locator(HourLocator())\n",
        "ax.xaxis.set_minor_formatter(DateFormatter(\"%H\"))\n",
        "plt.legend([\"predicted\", \"actual\"], loc='upper left')\n",
        "plt.xticks(rotation=45);"
      ],
      "execution_count": 40,
      "outputs": [
        {
          "output_type": "display_data",
          "data": {
            "image/png": "[encoded data removed]",
            "text/plain": [
              "<Figure size 1080x360 with 1 Axes>"
            ]
          },
          "metadata": {
            "tags": []
          }
        }
      ]
    },
    {
      "cell_type": "markdown",
      "metadata": {
        "id": "DzWF8zXDOM_N",
        "colab_type": "text"
      },
      "source": [
        "### Here we can see that model able to learn internal representation between features because of convolution layer. If we can provide better features, model will learn better."
      ]
    }
  ]
}