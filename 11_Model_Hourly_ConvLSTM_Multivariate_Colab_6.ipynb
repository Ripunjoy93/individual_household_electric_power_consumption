{
  "nbformat": 4,
  "nbformat_minor": 0,
  "metadata": {
    "colab": {
      "name": "11_Model_Hourly_ConvLSTM_Multivariate_Colab_6.ipynb",
      "provenance": [],
      "collapsed_sections": []
    },
    "kernelspec": {
      "name": "python3",
      "display_name": "Python 3"
    },
    "accelerator": "GPU"
  },
  "cells": [
    {
      "cell_type": "markdown",
      "metadata": {
        "id": "xKygGwuiaDaQ",
        "colab_type": "text"
      },
      "source": [
        "## ConvLSTM model with Multivariate Input\n",
        "1. LSTM reads the data in directly in order to calculate internal state and state transitions.\n",
        "2. CNN-LSTM interpret the output from CNN models.\n",
        "3. ConvLSTM is uses convolutions directly as part of reading input into the LSTM units themselves."
      ]
    },
    {
      "cell_type": "markdown",
      "metadata": {
        "id": "0mgwIx1abY1H",
        "colab_type": "text"
      },
      "source": [
        "### Strategy:\n",
        "1. Generaly convolution needs [height(rows), width(columns), channels]. But our sequence time-series data is 1 dimensional. We can consider the number of features as channels.\n",
        "2. Keras provides us ConvLSTM2D layer which expects [samples, timesteps, rows, columns, channels].\n",
        "3. We have 3 days of input data (72 hours). If we consider it as 1 row, then column number will be 72. This way also we can work, but better approach is to convert it for 3 days. Now we have 3 rows, each having 24 columns and 8 features. Now instead of 3 rows, we give 3 timestemps for each observation. Then row will become 1. Here convolution can read across timestemps.\n",
        "4. So, our input will be [n_samples, 3, 1, 24, 8]"
      ]
    },
    {
      "cell_type": "markdown",
      "metadata": {
        "id": "jT_Fp13NezY6",
        "colab_type": "text"
      },
      "source": [
        "### Setting up Colab Environment"
      ]
    },
    {
      "cell_type": "code",
      "metadata": {
        "id": "gc3irXVQZg6C",
        "colab_type": "code",
        "colab": {
          "base_uri": "https://localhost:8080/",
          "height": 34
        },
        "outputId": "ba788b23-e0dd-488c-8a9b-d893849eb871"
      },
      "source": [
        "# Mounting google drive\n",
        "from google.colab import drive\n",
        "drive.mount(\"/content/google_drive/\")"
      ],
      "execution_count": 1,
      "outputs": [
        {
          "output_type": "stream",
          "text": [
            "Mounted at /content/google_drive/\n"
          ],
          "name": "stdout"
        }
      ]
    },
    {
      "cell_type": "code",
      "metadata": {
        "id": "7GASTHu9e5CK",
        "colab_type": "code",
        "colab": {
          "base_uri": "https://localhost:8080/",
          "height": 391
        },
        "outputId": "d3d7fb89-f8a7-4e52-f2f1-1223fa7c36da"
      },
      "source": [
        "# checking if required files are available in my google drive project (I have uploaded my project to google drive)\n",
        "!ls -R \"/content/google_drive/My Drive/Colab Notebooks/individual_household_electric_power_consumption/\""
      ],
      "execution_count": 2,
      "outputs": [
        {
          "output_type": "stream",
          "text": [
            "'/content/google_drive/My Drive/Colab Notebooks/individual_household_electric_power_consumption/':\n",
            "data  hourly_models  requirements.txt  test_data.csv\n",
            "\n",
            "'/content/google_drive/My Drive/Colab Notebooks/individual_household_electric_power_consumption/data':\n",
            "cleaned_household_power_consumption.csv\n",
            "\n",
            "'/content/google_drive/My Drive/Colab Notebooks/individual_household_electric_power_consumption/hourly_models':\n",
            "eval_scaled_48_to_48.npy       model_6\n",
            "eval_scaled_72_to_48.npy       test_scaled_48_to_48.npy\n",
            "min_max_all_feat_48_to_48.pkl  test_scaled_72_to_48.npy\n",
            "min_max_all_feat_72_to_48.pkl  train_scaled_48_to_48.npy\n",
            "model_4\t\t\t       train_scaled_72_to_48.npy\n",
            "model_5\n",
            "\n",
            "'/content/google_drive/My Drive/Colab Notebooks/individual_household_electric_power_consumption/hourly_models/model_4':\n",
            "last_weights_first_train.h5  model.json\t\tweights_best_train_2.hdf5\n",
            "last_weights_train_2.h5      weights_best.hdf5\n",
            "\n",
            "'/content/google_drive/My Drive/Colab Notebooks/individual_household_electric_power_consumption/hourly_models/model_5':\n",
            "last_weights.h5  model.json  weights_best.hdf5\n",
            "\n",
            "'/content/google_drive/My Drive/Colab Notebooks/individual_household_electric_power_consumption/hourly_models/model_6':\n"
          ],
          "name": "stdout"
        }
      ]
    },
    {
      "cell_type": "code",
      "metadata": {
        "id": "2vDLYX8yfEGL",
        "colab_type": "code",
        "colab": {}
      },
      "source": [
        "# change woeking directory to mounted google_drive project directory\n",
        "import os\n",
        "google_drive_root = \"/content/google_drive/My Drive/Colab Notebooks/individual_household_electric_power_consumption/\"\n",
        "os.chdir(google_drive_root)"
      ],
      "execution_count": 0,
      "outputs": []
    },
    {
      "cell_type": "code",
      "metadata": {
        "id": "uiFUFNflfGrv",
        "colab_type": "code",
        "colab": {}
      },
      "source": [
        "# installing requirements\n",
        "# memory footprint support libraries/code\n",
        "!ln -sf /opt/bin/nvidia-smi /usr/bin/nvidia-smi\n",
        "!pip install gputil\n",
        "!pip install psutil\n",
        "!pip install humanize\n",
        "# installing requirements\n",
        "!pip install -r requirements.txt"
      ],
      "execution_count": 0,
      "outputs": []
    },
    {
      "cell_type": "code",
      "metadata": {
        "id": "DYfXI-o2fIcg",
        "colab_type": "code",
        "colab": {
          "base_uri": "https://localhost:8080/",
          "height": 306
        },
        "outputId": "461c7d59-1314-4ed2-ea74-58797fd85638"
      },
      "source": [
        "!nvidia-smi"
      ],
      "execution_count": 5,
      "outputs": [
        {
          "output_type": "stream",
          "text": [
            "Tue Oct  8 13:09:15 2019       \n",
            "+-----------------------------------------------------------------------------+\n",
            "| NVIDIA-SMI 418.67       Driver Version: 418.67       CUDA Version: 10.1     |\n",
            "|-------------------------------+----------------------+----------------------+\n",
            "| GPU  Name        Persistence-M| Bus-Id        Disp.A | Volatile Uncorr. ECC |\n",
            "| Fan  Temp  Perf  Pwr:Usage/Cap|         Memory-Usage | GPU-Util  Compute M. |\n",
            "|===============================+======================+======================|\n",
            "|   0  Tesla K80           Off  | 00000000:00:04.0 Off |                    0 |\n",
            "| N/A   48C    P8    31W / 149W |      0MiB / 11441MiB |      0%      Default |\n",
            "+-------------------------------+----------------------+----------------------+\n",
            "                                                                               \n",
            "+-----------------------------------------------------------------------------+\n",
            "| Processes:                                                       GPU Memory |\n",
            "|  GPU       PID   Type   Process name                             Usage      |\n",
            "|=============================================================================|\n",
            "|  No running processes found                                                 |\n",
            "+-----------------------------------------------------------------------------+\n"
          ],
          "name": "stdout"
        }
      ]
    },
    {
      "cell_type": "code",
      "metadata": {
        "id": "SZXY8SJ3fKxJ",
        "colab_type": "code",
        "colab": {
          "base_uri": "https://localhost:8080/",
          "height": 68
        },
        "outputId": "f4b5178e-82fa-4865-f34a-dcb1a00fd3cb"
      },
      "source": [
        "# Check gpu is available or not\n",
        "# We need to change runtime type if not changed\n",
        "import tensorflow as tf\n",
        "print(\"Tensorflow version: \", tf.__version__)\n",
        "device_name = tf.test.gpu_device_name()\n",
        "print(device_name)\n",
        "if device_name != \"/device:GPU:0\":\n",
        "    #raise SystemError('GPU device not found')\n",
        "    print(\"GPU device not found\")\n",
        "print('Found GPU at: {}'.format(device_name))"
      ],
      "execution_count": 6,
      "outputs": [
        {
          "output_type": "stream",
          "text": [
            "Tensorflow version:  1.14.0\n",
            "/device:GPU:0\n",
            "Found GPU at: /device:GPU:0\n"
          ],
          "name": "stdout"
        }
      ]
    },
    {
      "cell_type": "code",
      "metadata": {
        "id": "k9K5TOG_fMxO",
        "colab_type": "code",
        "colab": {
          "base_uri": "https://localhost:8080/",
          "height": 476
        },
        "outputId": "78be913e-1157-4033-ee33-386d0cdfcddb"
      },
      "source": [
        "# My local device\n",
        "from tensorflow.python.client import device_lib\n",
        "device_lib.list_local_devices()"
      ],
      "execution_count": 7,
      "outputs": [
        {
          "output_type": "execute_result",
          "data": {
            "text/plain": [
              "[name: \"/device:CPU:0\"\n",
              " device_type: \"CPU\"\n",
              " memory_limit: 268435456\n",
              " locality {\n",
              " }\n",
              " incarnation: 4379386532803665574, name: \"/device:XLA_CPU:0\"\n",
              " device_type: \"XLA_CPU\"\n",
              " memory_limit: 17179869184\n",
              " locality {\n",
              " }\n",
              " incarnation: 1773726860059061949\n",
              " physical_device_desc: \"device: XLA_CPU device\", name: \"/device:XLA_GPU:0\"\n",
              " device_type: \"XLA_GPU\"\n",
              " memory_limit: 17179869184\n",
              " locality {\n",
              " }\n",
              " incarnation: 8060466482845161613\n",
              " physical_device_desc: \"device: XLA_GPU device\", name: \"/device:GPU:0\"\n",
              " device_type: \"GPU\"\n",
              " memory_limit: 11330053735\n",
              " locality {\n",
              "   bus_id: 1\n",
              "   links {\n",
              "   }\n",
              " }\n",
              " incarnation: 18289759264021930624\n",
              " physical_device_desc: \"device: 0, name: Tesla K80, pci bus id: 0000:00:04.0, compute capability: 3.7\"]"
            ]
          },
          "metadata": {
            "tags": []
          },
          "execution_count": 7
        }
      ]
    },
    {
      "cell_type": "code",
      "metadata": {
        "id": "uBDSSfTzfO8k",
        "colab_type": "code",
        "colab": {
          "base_uri": "https://localhost:8080/",
          "height": 51
        },
        "outputId": "0d76244d-7765-4233-865a-8faab34b47b8"
      },
      "source": [
        "# Checking GPU status\n",
        "import psutil\n",
        "import humanize\n",
        "import os\n",
        "import GPUtil as GPU\n",
        "GPUs = GPU.getGPUs()\n",
        "# XXX: only one GPU on Colab and isn’t guaranteed\n",
        "gpu = GPUs[0]\n",
        "def printm():\n",
        " process = psutil.Process(os.getpid())\n",
        " print(\"Gen RAM Free: \" + humanize.naturalsize( psutil.virtual_memory().available ), \" | Proc size: \" + humanize.naturalsize( process.memory_info().rss))\n",
        " print(\"GPU RAM Free: {0:.0f}MB | Used: {1:.0f}MB | Util {2:3.0f}% | Total {3:.0f}MB\".format(gpu.memoryFree, gpu.memoryUsed, gpu.memoryUtil*100, gpu.memoryTotal))\n",
        "printm()"
      ],
      "execution_count": 8,
      "outputs": [
        {
          "output_type": "stream",
          "text": [
            "Gen RAM Free: 12.6 GB  | Proc size: 442.6 MB\n",
            "GPU RAM Free: 11372MB | Used: 69MB | Util   1% | Total 11441MB\n"
          ],
          "name": "stdout"
        }
      ]
    },
    {
      "cell_type": "markdown",
      "metadata": {
        "id": "ukXqfcjNfVzp",
        "colab_type": "text"
      },
      "source": [
        "## Model Building"
      ]
    },
    {
      "cell_type": "code",
      "metadata": {
        "id": "8qM073VxfSls",
        "colab_type": "code",
        "colab": {}
      },
      "source": [
        "# coding: utf-8\n",
        "# !/usr/bin/env python3\n",
        "import pandas as pd\n",
        "pd.set_option(\"display.max_columns\", None)\n",
        "import numpy as np\n",
        "import warnings\n",
        "warnings.filterwarnings(\"ignore\")\n",
        "import datetime\n",
        "from sklearn.metrics import mean_squared_error\n",
        "from sklearn.preprocessing import MinMaxScaler\n",
        "# from sklearn.externals import joblib\n",
        "import joblib\n",
        "import matplotlib.pyplot as plt\n",
        "from matplotlib.dates import DateFormatter, HourLocator\n",
        "import tensorflow as tf\n",
        "from tensorflow.keras.models import Sequential, model_from_json\n",
        "from tensorflow.keras.layers import LSTM, Dense, TimeDistributed, RepeatVector, ConvLSTM2D, Flatten\n",
        "from tensorflow.keras.callbacks import ModelCheckpoint, Callback\n",
        "from tensorflow.keras import optimizers"
      ],
      "execution_count": 0,
      "outputs": []
    },
    {
      "cell_type": "code",
      "metadata": {
        "id": "VosnwPJbflyC",
        "colab_type": "code",
        "colab": {
          "base_uri": "https://localhost:8080/",
          "height": 68
        },
        "outputId": "ef87091a-f9bc-4a99-9b2c-b8cca623c8a0"
      },
      "source": [
        "# load data, Instead of doing all the pre-processing, using the saved numpy arrays\n",
        "train_scaled = np.load(\"./hourly_models/train_scaled_72_to_48.npy\")\n",
        "eval_scaled = np.load(\"./hourly_models/eval_scaled_72_to_48.npy\")\n",
        "test_scaled = np.load(\"./hourly_models/test_scaled_72_to_48.npy\")\n",
        "print(\"Training scaled data shape: \", train_scaled.shape)\n",
        "print(\"Evaluation scaled data shape: \", eval_scaled.shape)\n",
        "print(\"Test scaled data shape: \", test_scaled.shape)"
      ],
      "execution_count": 10,
      "outputs": [
        {
          "output_type": "stream",
          "text": [
            "Training scaled data shape:  (33675, 8)\n",
            "Evaluation scaled data shape:  (792, 8)\n",
            "Test scaled data shape:  (120, 8)\n"
          ],
          "name": "stdout"
        }
      ]
    },
    {
      "cell_type": "markdown",
      "metadata": {
        "id": "ebOb5A41f4F3",
        "colab_type": "text"
      },
      "source": [
        "### Preparing Input & Output:"
      ]
    },
    {
      "cell_type": "code",
      "metadata": {
        "id": "-_rgLNO8fqQz",
        "colab_type": "code",
        "colab": {}
      },
      "source": [
        "# Using the same function from previous, later I will reshape the data\n",
        "def get_X_y(data, n_in, n_out):\n",
        "    X, y = list(), list()\n",
        "    in_start = 0\n",
        "    # step over the entire history one time step at a time\n",
        "    for _ in range(len(data)):\n",
        "        # define the end of the input sequence\n",
        "        in_end = in_start + n_in\n",
        "        out_end = in_end + n_out\n",
        "        # ensuring that we have enough data for this instance\n",
        "        if out_end <= len(data):\n",
        "            # need only 1 feature\n",
        "            x_input = data[in_start:in_end, :]\n",
        "            # it will give [samples, timestemps, features]\n",
        "            X.append(x_input)\n",
        "            # [samples, output]\n",
        "            y_output = data[in_end:out_end, 0]\n",
        "            y.append(y_output)\n",
        "        # move along one time step\n",
        "        in_start += 1\n",
        "    return np.array(X), np.array(y)"
      ],
      "execution_count": 0,
      "outputs": []
    },
    {
      "cell_type": "code",
      "metadata": {
        "id": "bmIK3NhDf9DD",
        "colab_type": "code",
        "colab": {
          "base_uri": "https://localhost:8080/",
          "height": 119
        },
        "outputId": "0eeb00cd-6077-4831-d769-44148caab150"
      },
      "source": [
        "# Process X and y\n",
        "n_input = 72\n",
        "n_output = 48\n",
        "X_train, y_train = get_X_y(data=train_scaled, n_in=n_input, n_out=n_output)\n",
        "X_eval, y_eval = get_X_y(data=eval_scaled, n_in=n_input, n_out=n_output)\n",
        "X_test, y_test = get_X_y(data=test_scaled, n_in=n_input, n_out=n_output)\n",
        "print(\"Train X shape: \", X_train.shape)\n",
        "print(\"Train y shape: \", y_train.shape)\n",
        "print(\"Evaluation X shape: \", X_eval.shape)\n",
        "print(\"Evaluation y shape: \", y_eval.shape)\n",
        "print(\"Test X shape: \", X_test.shape)\n",
        "print(\"Test y shape: \", y_test.shape)"
      ],
      "execution_count": 12,
      "outputs": [
        {
          "output_type": "stream",
          "text": [
            "Train X shape:  (33556, 72, 8)\n",
            "Train y shape:  (33556, 48)\n",
            "Evaluation X shape:  (673, 72, 8)\n",
            "Evaluation y shape:  (673, 48)\n",
            "Test X shape:  (1, 72, 8)\n",
            "Test y shape:  (1, 48)\n"
          ],
          "name": "stdout"
        }
      ]
    },
    {
      "cell_type": "markdown",
      "metadata": {
        "id": "GvXs7b2kgP-l",
        "colab_type": "text"
      },
      "source": [
        "### Reshape according to architecture"
      ]
    },
    {
      "cell_type": "code",
      "metadata": {
        "id": "VEmu_WfcgKP9",
        "colab_type": "code",
        "colab": {
          "base_uri": "https://localhost:8080/",
          "height": 85
        },
        "outputId": "cfb11b8a-4055-4951-dd1f-4a9ca81c27d9"
      },
      "source": [
        "# define  [n_samples, 3, 1, 24, 8]\n",
        "n_steps = 3\n",
        "n_rows = 1\n",
        "n_columns = 24\n",
        "n_features = 8\n",
        "X_train = X_train.reshape((X_train.shape[0], n_steps, n_rows, n_columns, n_features))\n",
        "y_train = y_train.reshape((y_train.shape[0], y_train.shape[1], 1))\n",
        "X_eval = X_eval.reshape((X_eval.shape[0], n_steps, n_rows, n_columns, n_features))\n",
        "X_test = X_test.reshape((X_test.shape[0], n_steps, n_rows, n_columns, n_features))\n",
        "print(\"Train X shape: \", X_train.shape)\n",
        "print(\"Train y shape: \", y_train.shape)\n",
        "print(\"Evaluation X shape: \", X_eval.shape)\n",
        "print(\"Test X shape: \", X_test.shape)"
      ],
      "execution_count": 18,
      "outputs": [
        {
          "output_type": "stream",
          "text": [
            "Train X shape:  (33556, 3, 1, 24, 8)\n",
            "Train y shape:  (33556, 48, 1)\n",
            "Evaluation X shape:  (673, 3, 1, 24, 8)\n",
            "Test X shape:  (1, 3, 1, 24, 8)\n"
          ],
          "name": "stdout"
        }
      ]
    },
    {
      "cell_type": "code",
      "metadata": {
        "id": "krNhaXKzhvrH",
        "colab_type": "code",
        "colab": {
          "base_uri": "https://localhost:8080/",
          "height": 1000
        },
        "outputId": "57947346-5336-4b13-f825-8715f1366a26"
      },
      "source": [
        "# seeding the random number generation\n",
        "seed = 101\n",
        "np.random.seed(seed)\n",
        "tf.set_random_seed(seed)\n",
        "# defining parameters\n",
        "learning_rate = 0.001\n",
        "epochs = 20\n",
        "batch_size = 64\n",
        "verbose = 2\n",
        "n_outputs = y_train.shape[1]\n",
        "\n",
        "# define model\n",
        "model = Sequential()\n",
        "# defining Convolution\n",
        "# I have 3 rows, but want the kernel to go through each row and look through 3 hours with stride 1\n",
        "# Want the output shoud also have same dimension so padding same\n",
        "model.add(ConvLSTM2D(filters=64, kernel_size=(1, 3) , activation=\"relu\", padding=\"same\", input_shape=(n_steps, n_rows, n_columns, n_features)))\n",
        "model.add(Flatten())\n",
        "# defining LSTM\n",
        "model.add(RepeatVector(n_outputs))\n",
        "model.add(LSTM(200, activation=\"relu\", return_sequences=True))\n",
        "model.add(TimeDistributed(Dense(100, activation=\"relu\")))\n",
        "model.add(TimeDistributed(Dense(1)))\n",
        "# create optimizer unit to define learning rate\n",
        "optmzr = optimizers.Adam(lr=learning_rate, clipnorm=1.0)\n",
        "# compile the model\n",
        "model.compile(loss=\"mse\", optimizer=optmzr,  metrics=[\"mse\"])\n",
        "tf.logging.set_verbosity(tf.logging.ERROR)\n",
        "\n",
        "# model checkpoint\n",
        "filepath=\"./hourly_models/model_6/weights_best.hdf5\"\n",
        "checkpoint = ModelCheckpoint(filepath, monitor=\"val_loss\", verbose=verbose, save_best_only=True, mode=\"min\")\n",
        "callbacks_list = [checkpoint]\n",
        "\n",
        "start = datetime.datetime.now()\n",
        "# Last time validation split was less, increasing (But here again by increasing we are reducing our training data)\n",
        "model.fit(X_train, y_train, validation_split=0.15, epochs=epochs, batch_size=batch_size, callbacks=callbacks_list, verbose=verbose)\n",
        "end = datetime.datetime.now()\n",
        "print(\"Model training started at: \", start, \" & ended at: \", end)"
      ],
      "execution_count": 19,
      "outputs": [
        {
          "output_type": "stream",
          "text": [
            "Train on 28522 samples, validate on 5034 samples\n",
            "Epoch 1/20\n",
            "\n",
            "Epoch 00001: val_loss improved from inf to 0.00871, saving model to ./hourly_models/model_6/weights_best.hdf5\n",
            "28522/28522 - 78s - loss: 0.0183 - mean_squared_error: 0.0183 - val_loss: 0.0087 - val_mean_squared_error: 0.0087\n",
            "Epoch 2/20\n",
            "\n",
            "Epoch 00002: val_loss improved from 0.00871 to 0.00779, saving model to ./hourly_models/model_6/weights_best.hdf5\n",
            "28522/28522 - 74s - loss: 0.0137 - mean_squared_error: 0.0137 - val_loss: 0.0078 - val_mean_squared_error: 0.0078\n",
            "Epoch 3/20\n",
            "\n",
            "Epoch 00003: val_loss did not improve from 0.00779\n",
            "28522/28522 - 73s - loss: 0.0127 - mean_squared_error: 0.0127 - val_loss: 0.0079 - val_mean_squared_error: 0.0079\n",
            "Epoch 4/20\n",
            "\n",
            "Epoch 00004: val_loss improved from 0.00779 to 0.00773, saving model to ./hourly_models/model_6/weights_best.hdf5\n",
            "28522/28522 - 75s - loss: 0.0122 - mean_squared_error: 0.0122 - val_loss: 0.0077 - val_mean_squared_error: 0.0077\n",
            "Epoch 5/20\n",
            "\n",
            "Epoch 00005: val_loss did not improve from 0.00773\n",
            "28522/28522 - 73s - loss: 0.0117 - mean_squared_error: 0.0117 - val_loss: 0.0078 - val_mean_squared_error: 0.0078\n",
            "Epoch 6/20\n",
            "\n",
            "Epoch 00006: val_loss improved from 0.00773 to 0.00770, saving model to ./hourly_models/model_6/weights_best.hdf5\n",
            "28522/28522 - 75s - loss: 0.0113 - mean_squared_error: 0.0113 - val_loss: 0.0077 - val_mean_squared_error: 0.0077\n",
            "Epoch 7/20\n",
            "\n",
            "Epoch 00007: val_loss improved from 0.00770 to 0.00769, saving model to ./hourly_models/model_6/weights_best.hdf5\n",
            "28522/28522 - 74s - loss: 0.0109 - mean_squared_error: 0.0109 - val_loss: 0.0077 - val_mean_squared_error: 0.0077\n",
            "Epoch 8/20\n",
            "\n",
            "Epoch 00008: val_loss did not improve from 0.00769\n",
            "28522/28522 - 74s - loss: 0.0106 - mean_squared_error: 0.0106 - val_loss: 0.0079 - val_mean_squared_error: 0.0079\n",
            "Epoch 9/20\n",
            "\n",
            "Epoch 00009: val_loss did not improve from 0.00769\n",
            "28522/28522 - 73s - loss: 0.0102 - mean_squared_error: 0.0102 - val_loss: 0.0078 - val_mean_squared_error: 0.0078\n",
            "Epoch 10/20\n",
            "\n",
            "Epoch 00010: val_loss did not improve from 0.00769\n",
            "28522/28522 - 73s - loss: 0.0098 - mean_squared_error: 0.0098 - val_loss: 0.0079 - val_mean_squared_error: 0.0079\n",
            "Epoch 11/20\n",
            "\n",
            "Epoch 00011: val_loss did not improve from 0.00769\n",
            "28522/28522 - 74s - loss: 0.0095 - mean_squared_error: 0.0095 - val_loss: 0.0082 - val_mean_squared_error: 0.0082\n",
            "Epoch 12/20\n",
            "\n",
            "Epoch 00012: val_loss did not improve from 0.00769\n",
            "28522/28522 - 73s - loss: 0.0092 - mean_squared_error: 0.0092 - val_loss: 0.0080 - val_mean_squared_error: 0.0080\n",
            "Epoch 13/20\n",
            "\n",
            "Epoch 00013: val_loss did not improve from 0.00769\n",
            "28522/28522 - 74s - loss: 0.0090 - mean_squared_error: 0.0090 - val_loss: 0.0081 - val_mean_squared_error: 0.0081\n",
            "Epoch 14/20\n",
            "\n",
            "Epoch 00014: val_loss did not improve from 0.00769\n",
            "28522/28522 - 74s - loss: 0.0087 - mean_squared_error: 0.0087 - val_loss: 0.0081 - val_mean_squared_error: 0.0081\n",
            "Epoch 15/20\n",
            "\n",
            "Epoch 00015: val_loss did not improve from 0.00769\n",
            "28522/28522 - 74s - loss: 0.0084 - mean_squared_error: 0.0084 - val_loss: 0.0083 - val_mean_squared_error: 0.0083\n",
            "Epoch 16/20\n",
            "\n",
            "Epoch 00016: val_loss did not improve from 0.00769\n",
            "28522/28522 - 73s - loss: 0.0082 - mean_squared_error: 0.0082 - val_loss: 0.0083 - val_mean_squared_error: 0.0083\n",
            "Epoch 17/20\n",
            "\n",
            "Epoch 00017: val_loss did not improve from 0.00769\n",
            "28522/28522 - 73s - loss: 0.0080 - mean_squared_error: 0.0080 - val_loss: 0.0084 - val_mean_squared_error: 0.0084\n",
            "Epoch 18/20\n",
            "\n",
            "Epoch 00018: val_loss did not improve from 0.00769\n",
            "28522/28522 - 73s - loss: 0.0077 - mean_squared_error: 0.0077 - val_loss: 0.0085 - val_mean_squared_error: 0.0085\n",
            "Epoch 19/20\n",
            "\n",
            "Epoch 00019: val_loss did not improve from 0.00769\n",
            "28522/28522 - 73s - loss: 0.0076 - mean_squared_error: 0.0076 - val_loss: 0.0086 - val_mean_squared_error: 0.0086\n",
            "Epoch 20/20\n",
            "\n",
            "Epoch 00020: val_loss did not improve from 0.00769\n",
            "28522/28522 - 73s - loss: 0.0074 - mean_squared_error: 0.0074 - val_loss: 0.0085 - val_mean_squared_error: 0.0085\n",
            "Model training started at:  2019-10-08 13:55:18.566855  & ended at:  2019-10-08 14:20:01.174410\n"
          ],
          "name": "stdout"
        }
      ]
    },
    {
      "cell_type": "code",
      "metadata": {
        "id": "34kOjpprkzjQ",
        "colab_type": "code",
        "colab": {
          "base_uri": "https://localhost:8080/",
          "height": 357
        },
        "outputId": "9ff45e3a-e296-411d-fb27-df05b09851c5"
      },
      "source": [
        "model.summary()"
      ],
      "execution_count": 20,
      "outputs": [
        {
          "output_type": "stream",
          "text": [
            "Model: \"sequential_4\"\n",
            "_________________________________________________________________\n",
            "Layer (type)                 Output Shape              Param #   \n",
            "=================================================================\n",
            "conv_lst_m2d_3 (ConvLSTM2D)  (None, 1, 24, 64)         55552     \n",
            "_________________________________________________________________\n",
            "flatten_3 (Flatten)          (None, 1536)              0         \n",
            "_________________________________________________________________\n",
            "repeat_vector_3 (RepeatVecto (None, 48, 1536)          0         \n",
            "_________________________________________________________________\n",
            "lstm_3 (LSTM)                (None, 48, 200)           1389600   \n",
            "_________________________________________________________________\n",
            "time_distributed_6 (TimeDist (None, 48, 100)           20100     \n",
            "_________________________________________________________________\n",
            "time_distributed_7 (TimeDist (None, 48, 1)             101       \n",
            "=================================================================\n",
            "Total params: 1,465,353\n",
            "Trainable params: 1,465,353\n",
            "Non-trainable params: 0\n",
            "_________________________________________________________________\n"
          ],
          "name": "stdout"
        }
      ]
    },
    {
      "cell_type": "code",
      "metadata": {
        "id": "lX93B1RLu0Sn",
        "colab_type": "code",
        "colab": {}
      },
      "source": [
        "# save model to JSON\n",
        "model_json = model.to_json()\n",
        "with open(\"./hourly_models/model_6/model.json\", \"w\") as json_file:\n",
        "    json_file.write(model_json)\n",
        "# serialize weights to HDF5\n",
        "model.save_weights(\"./hourly_models/model_6/last_weights.h5\")"
      ],
      "execution_count": 0,
      "outputs": []
    },
    {
      "cell_type": "code",
      "metadata": {
        "id": "8TYDcgK7u0N6",
        "colab_type": "code",
        "colab": {
          "base_uri": "https://localhost:8080/",
          "height": 295
        },
        "outputId": "9fe6dc2f-fef1-4cdc-b81d-e065074a59ee"
      },
      "source": [
        "plt.plot(model.history.history[\"loss\"])\n",
        "plt.plot(model.history.history[\"val_loss\"])\n",
        "plt.title(\"Training Loss\")\n",
        "plt.ylabel(\"mse_loss\")\n",
        "plt.xlabel(\"epoch\")\n",
        "plt.legend([\"train\", \"validation\"], loc='upper left');"
      ],
      "execution_count": 22,
      "outputs": [
        {
          "output_type": "display_data",
          "data": {
            "image/png": "[encoded data removed]",
            "text/plain": [
              "<Figure size 432x288 with 1 Axes>"
            ]
          },
          "metadata": {
            "tags": []
          }
        }
      ]
    },
    {
      "cell_type": "code",
      "metadata": {
        "id": "cB2UpyLHu0Lq",
        "colab_type": "code",
        "colab": {}
      },
      "source": [
        "# load best weights into the model\n",
        "model.load_weights(\"./hourly_models/model_6/weights_best.hdf5\")"
      ],
      "execution_count": 0,
      "outputs": []
    },
    {
      "cell_type": "code",
      "metadata": {
        "id": "p_GLO7Mlu0IP",
        "colab_type": "code",
        "colab": {
          "base_uri": "https://localhost:8080/",
          "height": 51
        },
        "outputId": "303f1788-c0a4-455a-9140-5907f2490469"
      },
      "source": [
        "predictions = []\n",
        "print(\"Start: \", datetime.datetime.now())\n",
        "for arr in X_eval:\n",
        "    # here array shape is (n_steps, rows, columns, n_features)\n",
        "    yhat = model.predict(arr.reshape(1, n_steps, n_rows, n_columns, n_features))\n",
        "    predictions.append(yhat)\n",
        "predictions = np.array(predictions)\n",
        "print(\"End: \", datetime.datetime.now())"
      ],
      "execution_count": 25,
      "outputs": [
        {
          "output_type": "stream",
          "text": [
            "Start:  2019-10-08 14:25:22.348316\n",
            "End:  2019-10-08 14:25:58.957204\n"
          ],
          "name": "stdout"
        }
      ]
    },
    {
      "cell_type": "code",
      "metadata": {
        "id": "BdMeUlNCu0GR",
        "colab_type": "code",
        "colab": {}
      },
      "source": [
        "# load the scalar\n",
        "scalar = joblib.load(\"./hourly_models/min_max_all_feat_72_to_48.pkl\")"
      ],
      "execution_count": 0,
      "outputs": []
    },
    {
      "cell_type": "code",
      "metadata": {
        "id": "aQAsOKlZu0Cr",
        "colab_type": "code",
        "colab": {}
      },
      "source": [
        "scores = list()\n",
        "# calculate an RMSE score for each hour\n",
        "# make the prediction shape as eval shape\n",
        "pred = predictions.reshape(predictions.shape[0], predictions.shape[2])\n",
        "#  0th index of scalar values will have details about global_active_power\n",
        "mult_range = scalar.data_range_[0]\n",
        "add_min = scalar.data_min_[0]\n",
        "for i in range(y_eval.shape[1]):\n",
        "    # convert to original scale, we have used MinMaxScalar\n",
        "    y_eval_inverse = y_eval[:, i] * mult_range + add_min\n",
        "    pred_inverse = pred[:, i] * mult_range + add_min\n",
        "    # calculate mse\n",
        "    mse = mean_squared_error(y_eval_inverse, pred_inverse)\n",
        "    # calculate rmse\n",
        "    rmse = np.sqrt(mse)\n",
        "    # store\n",
        "    scores.append(rmse)"
      ],
      "execution_count": 0,
      "outputs": []
    },
    {
      "cell_type": "code",
      "metadata": {
        "id": "uWNBnfBZu0AQ",
        "colab_type": "code",
        "colab": {
          "base_uri": "https://localhost:8080/",
          "height": 298
        },
        "outputId": "7fde48ba-d913-458c-8405-a6a79fc67b8c"
      },
      "source": [
        "hours = np.arange(1,49)\n",
        "plt.plot(hours, scores, marker='x', color=\"r\")\n",
        "plt.title(\"Hour wise RMSE extended for 48 hours\")\n",
        "plt.ylabel(\"RMSE global_active_power\")\n",
        "plt.ylabel(\"Prediction Hours\")"
      ],
      "execution_count": 28,
      "outputs": [
        {
          "output_type": "execute_result",
          "data": {
            "text/plain": [
              "Text(0, 0.5, 'Prediction Hours')"
            ]
          },
          "metadata": {
            "tags": []
          },
          "execution_count": 28
        },
        {
          "output_type": "display_data",
          "data": {
            "image/png": "[encoded data removed]",
            "text/plain": [
              "<Figure size 432x288 with 1 Axes>"
            ]
          },
          "metadata": {
            "tags": []
          }
        }
      ]
    },
    {
      "cell_type": "code",
      "metadata": {
        "id": "6-u9zQ14uz8u",
        "colab_type": "code",
        "colab": {
          "base_uri": "https://localhost:8080/",
          "height": 34
        },
        "outputId": "4d9b10aa-1aeb-4557-e1c9-164eeb688eae"
      },
      "source": [
        "# Checking overall RMSE\n",
        "mult_range = scalar.data_range_[0]\n",
        "add_min = scalar.data_min_[0]\n",
        "overall_mse = mean_squared_error(y_eval.flatten() * mult_range + add_min, pred.flatten() * mult_range + add_min)\n",
        "overall_rmse = np.sqrt(overall_mse)\n",
        "print(\"Overall RMSE for 1 months evaluation period is: {:.2f}\".format(overall_rmse))"
      ],
      "execution_count": 29,
      "outputs": [
        {
          "output_type": "stream",
          "text": [
            "Overall RMSE for 1 months evaluation period is: 44.43\n"
          ],
          "name": "stdout"
        }
      ]
    },
    {
      "cell_type": "markdown",
      "metadata": {
        "id": "nKS5Sp1tvquJ",
        "colab_type": "text"
      },
      "source": [
        "### Prediction"
      ]
    },
    {
      "cell_type": "code",
      "metadata": {
        "id": "9DYE4MYFuz08",
        "colab_type": "code",
        "colab": {
          "base_uri": "https://localhost:8080/",
          "height": 51
        },
        "outputId": "a06679ec-f55f-4ecc-a534-9ab83737a697"
      },
      "source": [
        "X_pred, y_pred = X_test, y_test\n",
        "print(\"Pred X shape: \", X_pred.shape)\n",
        "print(\"Pred y shape (in reality it won't be there): \", y_pred.shape)"
      ],
      "execution_count": 30,
      "outputs": [
        {
          "output_type": "stream",
          "text": [
            "Pred X shape:  (1, 3, 1, 24, 8)\n",
            "Pred y shape (in reality it won't be there):  (1, 48)\n"
          ],
          "name": "stdout"
        }
      ]
    },
    {
      "cell_type": "code",
      "metadata": {
        "id": "xKO3cfK0uzye",
        "colab_type": "code",
        "colab": {}
      },
      "source": [
        "# predict for next 48 hours\n",
        "predictions = []\n",
        "# looping so that we can have multiple prediction instances\n",
        "for arr in X_pred:\n",
        "    # here array shape is (n_steps, rows, columns, n_features)\n",
        "    yhat = model.predict(arr.reshape(1, n_steps, n_rows, n_columns, n_features))\n",
        "    predictions.append(yhat)\n",
        "predictions = np.array(predictions)"
      ],
      "execution_count": 0,
      "outputs": []
    },
    {
      "cell_type": "code",
      "metadata": {
        "id": "ynrGFnRguzt8",
        "colab_type": "code",
        "colab": {}
      },
      "source": [
        "# Convert to original scale\n",
        "mult_range = scalar.data_range_[0]\n",
        "add_min = scalar.data_min_[0]\n",
        "# just looping so that we can generate multiple prediction instance\n",
        "original_scale_pred = []\n",
        "for p in predictions:\n",
        "    inv_scale_pred = p.flatten() * mult_range + add_min\n",
        "    original_scale_pred.append(inv_scale_pred)"
      ],
      "execution_count": 0,
      "outputs": []
    },
    {
      "cell_type": "code",
      "metadata": {
        "id": "6pgjTN-cvxvx",
        "colab_type": "code",
        "colab": {}
      },
      "source": [
        "# Create a dataframe to share this (any other way)\n",
        "df = pd.DataFrame({\"local_time\": pd.date_range(start=\"2010-11-24 21:00:00\", end=\"2010-11-26 20:00:00\", freq=\"H\"), \n",
        "                   \"global_active_power\": original_scale_pred[0]})\n",
        "df.set_index(\"local_time\", inplace=True)"
      ],
      "execution_count": 0,
      "outputs": []
    },
    {
      "cell_type": "code",
      "metadata": {
        "id": "F2zYolgUvxsm",
        "colab_type": "code",
        "colab": {
          "base_uri": "https://localhost:8080/",
          "height": 235
        },
        "outputId": "c7b81232-c8d4-4d98-8f89-35342fabc6fd"
      },
      "source": [
        "df.head()"
      ],
      "execution_count": 34,
      "outputs": [
        {
          "output_type": "execute_result",
          "data": {
            "text/html": [
              "<div>\n",
              "<style scoped>\n",
              "    .dataframe tbody tr th:only-of-type {\n",
              "        vertical-align: middle;\n",
              "    }\n",
              "\n",
              "    .dataframe tbody tr th {\n",
              "        vertical-align: top;\n",
              "    }\n",
              "\n",
              "    .dataframe thead th {\n",
              "        text-align: right;\n",
              "    }\n",
              "</style>\n",
              "<table border=\"1\" class=\"dataframe\">\n",
              "  <thead>\n",
              "    <tr style=\"text-align: right;\">\n",
              "      <th></th>\n",
              "      <th>global_active_power</th>\n",
              "    </tr>\n",
              "    <tr>\n",
              "      <th>local_time</th>\n",
              "      <th></th>\n",
              "    </tr>\n",
              "  </thead>\n",
              "  <tbody>\n",
              "    <tr>\n",
              "      <th>2010-11-24 21:00:00</th>\n",
              "      <td>117.484703</td>\n",
              "    </tr>\n",
              "    <tr>\n",
              "      <th>2010-11-24 22:00:00</th>\n",
              "      <td>73.301262</td>\n",
              "    </tr>\n",
              "    <tr>\n",
              "      <th>2010-11-24 23:00:00</th>\n",
              "      <td>39.989979</td>\n",
              "    </tr>\n",
              "    <tr>\n",
              "      <th>2010-11-25 00:00:00</th>\n",
              "      <td>25.976334</td>\n",
              "    </tr>\n",
              "    <tr>\n",
              "      <th>2010-11-25 01:00:00</th>\n",
              "      <td>17.522011</td>\n",
              "    </tr>\n",
              "  </tbody>\n",
              "</table>\n",
              "</div>"
            ],
            "text/plain": [
              "                     global_active_power\n",
              "local_time                              \n",
              "2010-11-24 21:00:00           117.484703\n",
              "2010-11-24 22:00:00            73.301262\n",
              "2010-11-24 23:00:00            39.989979\n",
              "2010-11-25 00:00:00            25.976334\n",
              "2010-11-25 01:00:00            17.522011"
            ]
          },
          "metadata": {
            "tags": []
          },
          "execution_count": 34
        }
      ]
    },
    {
      "cell_type": "code",
      "metadata": {
        "id": "KYso56HtvxqC",
        "colab_type": "code",
        "colab": {
          "base_uri": "https://localhost:8080/",
          "height": 391
        },
        "outputId": "c8e0b3ec-fa5e-46df-96ff-69abfdb00a31"
      },
      "source": [
        "fig, ax = plt.subplots(figsize=(15,5))\n",
        "ax.plot(\"global_active_power\", data=df, marker=\"o\")\n",
        "ax.set(xlabel=\"local_time\", ylabel=\"Predicted Global Active Power (kw)\",\n",
        "       title=\"Next 48 hours hourly prediction\")\n",
        "ax.xaxis.set_major_formatter(DateFormatter(\"%y-%m-%d %H\"))\n",
        "ax.xaxis.set_minor_locator(HourLocator())\n",
        "ax.xaxis.set_minor_formatter(DateFormatter(\"%H\"))\n",
        "plt.xticks(rotation=45);"
      ],
      "execution_count": 35,
      "outputs": [
        {
          "output_type": "display_data",
          "data": {
            "image/png": "[encoded data removed]",
            "text/plain": [
              "<Figure size 1080x360 with 1 Axes>"
            ]
          },
          "metadata": {
            "tags": []
          }
        }
      ]
    },
    {
      "cell_type": "markdown",
      "metadata": {
        "id": "5Y-PJS5Vv627",
        "colab_type": "text"
      },
      "source": [
        "### Actual vs Prediction"
      ]
    },
    {
      "cell_type": "code",
      "metadata": {
        "id": "P2Ku7R1Kvxmp",
        "colab_type": "code",
        "colab": {}
      },
      "source": [
        "df[\"actual_global_active_power\"] = y_pred.flatten() * mult_range + add_min"
      ],
      "execution_count": 0,
      "outputs": []
    },
    {
      "cell_type": "code",
      "metadata": {
        "id": "ZfyzNTMzvxi6",
        "colab_type": "code",
        "colab": {
          "base_uri": "https://localhost:8080/",
          "height": 391
        },
        "outputId": "cfcb19dd-15af-4609-d675-f555ff9d50ab"
      },
      "source": [
        "fig, ax = plt.subplots(figsize=(15,5))\n",
        "ax.plot(\"global_active_power\", data=df, marker=\"o\")\n",
        "ax.plot(\"actual_global_active_power\", data=df, marker=\"x\")\n",
        "ax.set(xlabel=\"local_time\", ylabel=\"Global Active Power (kw)\",\n",
        "       title=\"Next 48 hours hourly prediction\")\n",
        "ax.xaxis.set_major_formatter(DateFormatter(\"%y-%m-%d %H\"))\n",
        "ax.xaxis.set_minor_locator(HourLocator())\n",
        "ax.xaxis.set_minor_formatter(DateFormatter(\"%H\"))\n",
        "plt.legend([\"predicted\", \"actual\"], loc='upper left')\n",
        "plt.xticks(rotation=45);"
      ],
      "execution_count": 37,
      "outputs": [
        {
          "output_type": "display_data",
          "data": {
            "image/png": "[encoded data removed]",
            "text/plain": [
              "<Figure size 1080x360 with 1 Axes>"
            ]
          },
          "metadata": {
            "tags": []
          }
        }
      ]
    },
    {
      "cell_type": "markdown",
      "metadata": {
        "id": "D1pB7T2RyJ8j",
        "colab_type": "text"
      },
      "source": [
        "### Conclusion:\n",
        "1. Deep Learning models are doing far better than ML models.\n",
        "2. Almost every model able to give RMSE less than 50.\n",
        "3. Interesting point is all models failed to predict the dip on 25th Nove 2011. This basically throws us to the conclusion that we need other kind of features which might be able to relate to that dip.\n",
        "4. Considering these models are not properly tuned with hyper-parameters, different optimizers, different convolution, with hand generated features (feature scaling), dropouts etc. still we are getting a satisfactory model compared to our hardworks.\n",
        "5. To achieve this with ML, we might have spent significantly 10x times."
      ]
    }
  ]
}