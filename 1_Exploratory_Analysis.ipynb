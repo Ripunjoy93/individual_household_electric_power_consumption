{
 "cells": [
  {
   "cell_type": "markdown",
   "metadata": {},
   "source": [
    "### Individual household electric power consumption data    \n",
    "**_Ripunjoy Gohain_**       \n",
    "ripunjoygohain79@gmail.com\n",
    "\n",
    "**Data Information:**     \n",
    "1. date: Date in format dd/mm/yyyy    \n",
    "2. time: time in format hh:mm:ss    \n",
    "3. global_active_power: household global minute-averaged active power (in kilowatt)    \n",
    "4. global_reactive_power: household global minute-averaged reactive power (in kilowatt)    \n",
    "5. voltage: minute-averaged voltage (in volt)    \n",
    "6. global_intensity: household global minute-averaged current intensity (in ampere)    \n",
    "7. sub_metering_1: energy sub-metering No. 1 (in watt-hour of active energy). It corresponds to the kitchen, containing mainly a dishwasher, an oven and a microwave (hot plates are not electric but gas powered).     \n",
    "8. sub_metering_2: energy sub-metering No. 2 (in watt-hour of active energy). It corresponds to the laundry room, containing a washing-machine, a tumble-drier, a refrigerator and a light.    \n",
    "9. sub_metering_3: energy sub-metering No. 3 (in watt-hour of active energy). It corresponds to an electric water-heater and an air-conditioner.    \n",
    "\n",
    "[click here to redirect to the url:](https://archive.ics.uci.edu/ml/datasets/individual+household+electric+power+consumption)"
   ]
  },
  {
   "cell_type": "code",
   "execution_count": 1,
   "metadata": {},
   "outputs": [],
   "source": [
    "import sys\n",
    "import pandas as pd\n",
    "import numpy as np\n",
    "pd.set_option(\"display.max_columns\", None)\n",
    "pd.set_option('float_format', '{:4f}'.format)"
   ]
  },
  {
   "cell_type": "code",
   "execution_count": 2,
   "metadata": {},
   "outputs": [
    {
     "name": "stdout",
     "output_type": "stream",
     "text": [
      "Python Version:  3.7.0 (v3.7.0:1bf9cc5093, Jun 27 2018, 04:59:51) [MSC v.1914 64 bit (AMD64)]\n",
      "Pandas Version:  0.23.3\n",
      "Numpy Version:  1.16.4\n"
     ]
    }
   ],
   "source": [
    "print(\"Python Version: \", sys.version)\n",
    "print(\"Pandas Version: \", pd.__version__)\n",
    "print(\"Numpy Version: \", np.__version__)"
   ]
  },
  {
   "cell_type": "code",
   "execution_count": 3,
   "metadata": {},
   "outputs": [],
   "source": [
    "# dataset is txt form, deliminated with \";\", reading the dataset variables as string so setting the low_memory to false\n",
    "df = pd.read_csv(\"./data/household_power_consumption.zip\", compression=\"zip\", sep=\";\", low_memory=False, header=0, \n",
    "                 infer_datetime_format=True, parse_dates={\"local_time\": [0, 1]}, index_col=[\"local_time\"])"
   ]
  },
  {
   "cell_type": "code",
   "execution_count": 4,
   "metadata": {},
   "outputs": [],
   "source": [
    "# converting the column headers to small letters\n",
    "df.columns = [x.lower() for x in df.columns]\n",
    "# missing values are represented as \"?\"\n",
    "df.replace(to_replace=\"?\", value=np.nan, inplace=True)\n",
    "# convert all values to float32\n",
    "df = df.astype(np.float32)"
   ]
  },
  {
   "cell_type": "code",
   "execution_count": 5,
   "metadata": {},
   "outputs": [
    {
     "data": {
      "text/html": [
       "<div>\n",
       "<style scoped>\n",
       "    .dataframe tbody tr th:only-of-type {\n",
       "        vertical-align: middle;\n",
       "    }\n",
       "\n",
       "    .dataframe tbody tr th {\n",
       "        vertical-align: top;\n",
       "    }\n",
       "\n",
       "    .dataframe thead th {\n",
       "        text-align: right;\n",
       "    }\n",
       "</style>\n",
       "<table border=\"1\" class=\"dataframe\">\n",
       "  <thead>\n",
       "    <tr style=\"text-align: right;\">\n",
       "      <th></th>\n",
       "      <th>global_active_power</th>\n",
       "      <th>global_reactive_power</th>\n",
       "      <th>voltage</th>\n",
       "      <th>global_intensity</th>\n",
       "      <th>sub_metering_1</th>\n",
       "      <th>sub_metering_2</th>\n",
       "      <th>sub_metering_3</th>\n",
       "    </tr>\n",
       "    <tr>\n",
       "      <th>local_time</th>\n",
       "      <th></th>\n",
       "      <th></th>\n",
       "      <th></th>\n",
       "      <th></th>\n",
       "      <th></th>\n",
       "      <th></th>\n",
       "      <th></th>\n",
       "    </tr>\n",
       "  </thead>\n",
       "  <tbody>\n",
       "    <tr>\n",
       "      <th>2006-12-16 17:24:00</th>\n",
       "      <td>4.216000</td>\n",
       "      <td>0.418000</td>\n",
       "      <td>234.839996</td>\n",
       "      <td>18.400000</td>\n",
       "      <td>0.000000</td>\n",
       "      <td>1.000000</td>\n",
       "      <td>17.000000</td>\n",
       "    </tr>\n",
       "    <tr>\n",
       "      <th>2006-12-16 17:25:00</th>\n",
       "      <td>5.360000</td>\n",
       "      <td>0.436000</td>\n",
       "      <td>233.630005</td>\n",
       "      <td>23.000000</td>\n",
       "      <td>0.000000</td>\n",
       "      <td>1.000000</td>\n",
       "      <td>16.000000</td>\n",
       "    </tr>\n",
       "    <tr>\n",
       "      <th>2006-12-16 17:26:00</th>\n",
       "      <td>5.374000</td>\n",
       "      <td>0.498000</td>\n",
       "      <td>233.289993</td>\n",
       "      <td>23.000000</td>\n",
       "      <td>0.000000</td>\n",
       "      <td>2.000000</td>\n",
       "      <td>17.000000</td>\n",
       "    </tr>\n",
       "    <tr>\n",
       "      <th>2006-12-16 17:27:00</th>\n",
       "      <td>5.388000</td>\n",
       "      <td>0.502000</td>\n",
       "      <td>233.740005</td>\n",
       "      <td>23.000000</td>\n",
       "      <td>0.000000</td>\n",
       "      <td>1.000000</td>\n",
       "      <td>17.000000</td>\n",
       "    </tr>\n",
       "    <tr>\n",
       "      <th>2006-12-16 17:28:00</th>\n",
       "      <td>3.666000</td>\n",
       "      <td>0.528000</td>\n",
       "      <td>235.679993</td>\n",
       "      <td>15.800000</td>\n",
       "      <td>0.000000</td>\n",
       "      <td>1.000000</td>\n",
       "      <td>17.000000</td>\n",
       "    </tr>\n",
       "    <tr>\n",
       "      <th>2006-12-16 17:29:00</th>\n",
       "      <td>3.520000</td>\n",
       "      <td>0.522000</td>\n",
       "      <td>235.020004</td>\n",
       "      <td>15.000000</td>\n",
       "      <td>0.000000</td>\n",
       "      <td>2.000000</td>\n",
       "      <td>17.000000</td>\n",
       "    </tr>\n",
       "    <tr>\n",
       "      <th>2006-12-16 17:30:00</th>\n",
       "      <td>3.702000</td>\n",
       "      <td>0.520000</td>\n",
       "      <td>235.089996</td>\n",
       "      <td>15.800000</td>\n",
       "      <td>0.000000</td>\n",
       "      <td>1.000000</td>\n",
       "      <td>17.000000</td>\n",
       "    </tr>\n",
       "    <tr>\n",
       "      <th>2006-12-16 17:31:00</th>\n",
       "      <td>3.700000</td>\n",
       "      <td>0.520000</td>\n",
       "      <td>235.220001</td>\n",
       "      <td>15.800000</td>\n",
       "      <td>0.000000</td>\n",
       "      <td>1.000000</td>\n",
       "      <td>17.000000</td>\n",
       "    </tr>\n",
       "    <tr>\n",
       "      <th>2006-12-16 17:32:00</th>\n",
       "      <td>3.668000</td>\n",
       "      <td>0.510000</td>\n",
       "      <td>233.990005</td>\n",
       "      <td>15.800000</td>\n",
       "      <td>0.000000</td>\n",
       "      <td>1.000000</td>\n",
       "      <td>17.000000</td>\n",
       "    </tr>\n",
       "    <tr>\n",
       "      <th>2006-12-16 17:33:00</th>\n",
       "      <td>3.662000</td>\n",
       "      <td>0.510000</td>\n",
       "      <td>233.860001</td>\n",
       "      <td>15.800000</td>\n",
       "      <td>0.000000</td>\n",
       "      <td>2.000000</td>\n",
       "      <td>16.000000</td>\n",
       "    </tr>\n",
       "  </tbody>\n",
       "</table>\n",
       "</div>"
      ],
      "text/plain": [
       "                     global_active_power  global_reactive_power    voltage  \\\n",
       "local_time                                                                   \n",
       "2006-12-16 17:24:00             4.216000               0.418000 234.839996   \n",
       "2006-12-16 17:25:00             5.360000               0.436000 233.630005   \n",
       "2006-12-16 17:26:00             5.374000               0.498000 233.289993   \n",
       "2006-12-16 17:27:00             5.388000               0.502000 233.740005   \n",
       "2006-12-16 17:28:00             3.666000               0.528000 235.679993   \n",
       "2006-12-16 17:29:00             3.520000               0.522000 235.020004   \n",
       "2006-12-16 17:30:00             3.702000               0.520000 235.089996   \n",
       "2006-12-16 17:31:00             3.700000               0.520000 235.220001   \n",
       "2006-12-16 17:32:00             3.668000               0.510000 233.990005   \n",
       "2006-12-16 17:33:00             3.662000               0.510000 233.860001   \n",
       "\n",
       "                     global_intensity  sub_metering_1  sub_metering_2  \\\n",
       "local_time                                                              \n",
       "2006-12-16 17:24:00         18.400000        0.000000        1.000000   \n",
       "2006-12-16 17:25:00         23.000000        0.000000        1.000000   \n",
       "2006-12-16 17:26:00         23.000000        0.000000        2.000000   \n",
       "2006-12-16 17:27:00         23.000000        0.000000        1.000000   \n",
       "2006-12-16 17:28:00         15.800000        0.000000        1.000000   \n",
       "2006-12-16 17:29:00         15.000000        0.000000        2.000000   \n",
       "2006-12-16 17:30:00         15.800000        0.000000        1.000000   \n",
       "2006-12-16 17:31:00         15.800000        0.000000        1.000000   \n",
       "2006-12-16 17:32:00         15.800000        0.000000        1.000000   \n",
       "2006-12-16 17:33:00         15.800000        0.000000        2.000000   \n",
       "\n",
       "                     sub_metering_3  \n",
       "local_time                           \n",
       "2006-12-16 17:24:00       17.000000  \n",
       "2006-12-16 17:25:00       16.000000  \n",
       "2006-12-16 17:26:00       17.000000  \n",
       "2006-12-16 17:27:00       17.000000  \n",
       "2006-12-16 17:28:00       17.000000  \n",
       "2006-12-16 17:29:00       17.000000  \n",
       "2006-12-16 17:30:00       17.000000  \n",
       "2006-12-16 17:31:00       17.000000  \n",
       "2006-12-16 17:32:00       17.000000  \n",
       "2006-12-16 17:33:00       16.000000  "
      ]
     },
     "execution_count": 5,
     "metadata": {},
     "output_type": "execute_result"
    }
   ],
   "source": [
    "df.head(10)"
   ]
  },
  {
   "cell_type": "code",
   "execution_count": 6,
   "metadata": {},
   "outputs": [
    {
     "name": "stdout",
     "output_type": "stream",
     "text": [
      "Shape of the data frame:  (2075259, 7)\n"
     ]
    }
   ],
   "source": [
    "print(\"Shape of the data frame: \", df.shape)"
   ]
  },
  {
   "cell_type": "code",
   "execution_count": 7,
   "metadata": {},
   "outputs": [
    {
     "name": "stdout",
     "output_type": "stream",
     "text": [
      "Data start time:  2006-12-16 17:24:00\n",
      "Data end time:  2010-11-26 21:02:00\n",
      "Total time period:  1441 days 03:38:00\n"
     ]
    }
   ],
   "source": [
    "print(\"Data start time: \", df.index.min())\n",
    "print(\"Data end time: \", df.index.max())\n",
    "print(\"Total time period: \", df.index.max()-df.index.min())"
   ]
  },
  {
   "cell_type": "code",
   "execution_count": 8,
   "metadata": {},
   "outputs": [
    {
     "name": "stdout",
     "output_type": "stream",
     "text": [
      "<class 'pandas.core.frame.DataFrame'>\n",
      "DatetimeIndex: 2075259 entries, 2006-12-16 17:24:00 to 2010-11-26 21:02:00\n",
      "Data columns (total 7 columns):\n",
      "global_active_power      float32\n",
      "global_reactive_power    float32\n",
      "voltage                  float32\n",
      "global_intensity         float32\n",
      "sub_metering_1           float32\n",
      "sub_metering_2           float32\n",
      "sub_metering_3           float32\n",
      "dtypes: float32(7)\n",
      "memory usage: 71.2 MB\n"
     ]
    }
   ],
   "source": [
    "df.info()"
   ]
  },
  {
   "cell_type": "code",
   "execution_count": 9,
   "metadata": {},
   "outputs": [
    {
     "data": {
      "text/html": [
       "<div>\n",
       "<style scoped>\n",
       "    .dataframe tbody tr th:only-of-type {\n",
       "        vertical-align: middle;\n",
       "    }\n",
       "\n",
       "    .dataframe tbody tr th {\n",
       "        vertical-align: top;\n",
       "    }\n",
       "\n",
       "    .dataframe thead th {\n",
       "        text-align: right;\n",
       "    }\n",
       "</style>\n",
       "<table border=\"1\" class=\"dataframe\">\n",
       "  <thead>\n",
       "    <tr style=\"text-align: right;\">\n",
       "      <th></th>\n",
       "      <th>global_active_power</th>\n",
       "      <th>global_reactive_power</th>\n",
       "      <th>voltage</th>\n",
       "      <th>global_intensity</th>\n",
       "      <th>sub_metering_1</th>\n",
       "      <th>sub_metering_2</th>\n",
       "      <th>sub_metering_3</th>\n",
       "    </tr>\n",
       "  </thead>\n",
       "  <tbody>\n",
       "    <tr>\n",
       "      <th>count</th>\n",
       "      <td>2049280.000000</td>\n",
       "      <td>2049280.000000</td>\n",
       "      <td>2049280.000000</td>\n",
       "      <td>2049280.000000</td>\n",
       "      <td>2049280.000000</td>\n",
       "      <td>2049280.000000</td>\n",
       "      <td>2049280.000000</td>\n",
       "    </tr>\n",
       "    <tr>\n",
       "      <th>mean</th>\n",
       "      <td>1.091615</td>\n",
       "      <td>0.123714</td>\n",
       "      <td>240.839859</td>\n",
       "      <td>4.627760</td>\n",
       "      <td>1.121923</td>\n",
       "      <td>1.298520</td>\n",
       "      <td>6.458447</td>\n",
       "    </tr>\n",
       "    <tr>\n",
       "      <th>std</th>\n",
       "      <td>1.057294</td>\n",
       "      <td>0.112722</td>\n",
       "      <td>3.239987</td>\n",
       "      <td>4.444396</td>\n",
       "      <td>6.153031</td>\n",
       "      <td>5.822026</td>\n",
       "      <td>8.437154</td>\n",
       "    </tr>\n",
       "    <tr>\n",
       "      <th>min</th>\n",
       "      <td>0.076000</td>\n",
       "      <td>0.000000</td>\n",
       "      <td>223.199997</td>\n",
       "      <td>0.200000</td>\n",
       "      <td>0.000000</td>\n",
       "      <td>0.000000</td>\n",
       "      <td>0.000000</td>\n",
       "    </tr>\n",
       "    <tr>\n",
       "      <th>25%</th>\n",
       "      <td>0.308000</td>\n",
       "      <td>0.048000</td>\n",
       "      <td>238.990005</td>\n",
       "      <td>1.400000</td>\n",
       "      <td>0.000000</td>\n",
       "      <td>0.000000</td>\n",
       "      <td>0.000000</td>\n",
       "    </tr>\n",
       "    <tr>\n",
       "      <th>50%</th>\n",
       "      <td>0.602000</td>\n",
       "      <td>0.100000</td>\n",
       "      <td>241.009995</td>\n",
       "      <td>2.600000</td>\n",
       "      <td>0.000000</td>\n",
       "      <td>0.000000</td>\n",
       "      <td>1.000000</td>\n",
       "    </tr>\n",
       "    <tr>\n",
       "      <th>75%</th>\n",
       "      <td>1.528000</td>\n",
       "      <td>0.194000</td>\n",
       "      <td>242.889999</td>\n",
       "      <td>6.400000</td>\n",
       "      <td>0.000000</td>\n",
       "      <td>1.000000</td>\n",
       "      <td>17.000000</td>\n",
       "    </tr>\n",
       "    <tr>\n",
       "      <th>max</th>\n",
       "      <td>11.122000</td>\n",
       "      <td>1.390000</td>\n",
       "      <td>254.149994</td>\n",
       "      <td>48.400002</td>\n",
       "      <td>88.000000</td>\n",
       "      <td>80.000000</td>\n",
       "      <td>31.000000</td>\n",
       "    </tr>\n",
       "  </tbody>\n",
       "</table>\n",
       "</div>"
      ],
      "text/plain": [
       "       global_active_power  global_reactive_power        voltage  \\\n",
       "count       2049280.000000         2049280.000000 2049280.000000   \n",
       "mean              1.091615               0.123714     240.839859   \n",
       "std               1.057294               0.112722       3.239987   \n",
       "min               0.076000               0.000000     223.199997   \n",
       "25%               0.308000               0.048000     238.990005   \n",
       "50%               0.602000               0.100000     241.009995   \n",
       "75%               1.528000               0.194000     242.889999   \n",
       "max              11.122000               1.390000     254.149994   \n",
       "\n",
       "       global_intensity  sub_metering_1  sub_metering_2  sub_metering_3  \n",
       "count    2049280.000000  2049280.000000  2049280.000000  2049280.000000  \n",
       "mean           4.627760        1.121923        1.298520        6.458447  \n",
       "std            4.444396        6.153031        5.822026        8.437154  \n",
       "min            0.200000        0.000000        0.000000        0.000000  \n",
       "25%            1.400000        0.000000        0.000000        0.000000  \n",
       "50%            2.600000        0.000000        0.000000        1.000000  \n",
       "75%            6.400000        0.000000        1.000000       17.000000  \n",
       "max           48.400002       88.000000       80.000000       31.000000  "
      ]
     },
     "execution_count": 9,
     "metadata": {},
     "output_type": "execute_result"
    }
   ],
   "source": [
    "df.describe()"
   ]
  },
  {
   "cell_type": "code",
   "execution_count": 10,
   "metadata": {},
   "outputs": [
    {
     "name": "stdout",
     "output_type": "stream",
     "text": [
      "Column wise missing values: \n"
     ]
    },
    {
     "data": {
      "text/plain": [
       "global_active_power      25979\n",
       "global_reactive_power    25979\n",
       "voltage                  25979\n",
       "global_intensity         25979\n",
       "sub_metering_1           25979\n",
       "sub_metering_2           25979\n",
       "sub_metering_3           25979\n",
       "dtype: int64"
      ]
     },
     "execution_count": 10,
     "metadata": {},
     "output_type": "execute_result"
    }
   ],
   "source": [
    "# Missing value statistics\n",
    "print(\"Column wise missing values: \")\n",
    "df.isna().sum()"
   ]
  },
  {
   "cell_type": "code",
   "execution_count": 11,
   "metadata": {},
   "outputs": [
    {
     "data": {
      "text/plain": [
       "(2049280, 7)"
      ]
     },
     "execution_count": 11,
     "metadata": {},
     "output_type": "execute_result"
    }
   ],
   "source": [
    "# If we drop row if all of the values are missing then remaining shape will be: Just calculating, not assigning to the dataframe\n",
    "df.dropna(axis=0, how=\"all\").shape"
   ]
  },
  {
   "cell_type": "code",
   "execution_count": 12,
   "metadata": {},
   "outputs": [
    {
     "data": {
      "text/plain": [
       "25979"
      ]
     },
     "execution_count": 12,
     "metadata": {},
     "output_type": "execute_result"
    }
   ],
   "source": [
    "# Let's check if this difference of dropping any is matching indidividual missing value count or not\n",
    "df.shape[0] - df.dropna(axis=0, how=\"any\").shape[0]"
   ]
  },
  {
   "cell_type": "code",
   "execution_count": 13,
   "metadata": {},
   "outputs": [
    {
     "name": "stdout",
     "output_type": "stream",
     "text": [
      "Missing values percentage: 1.25 %\n"
     ]
    }
   ],
   "source": [
    "# From above, as it's matching we can say that, if there if one tag is missing, then all other tags are missing, missing value\n",
    "# is not may not from some specific sensor but feels like communication errot\n",
    "print(\"Missing values percentage: {:.2f} %\".format((df.shape[0] - df.dropna(axis=0, how=\"any\").shape[0]) * 100 / df.shape[0]))"
   ]
  },
  {
   "cell_type": "code",
   "execution_count": 14,
   "metadata": {},
   "outputs": [],
   "source": [
    "# let's check if missing values are from random timestamps or it occurs for longer time interval\n",
    "missing_stat = df.dropna().index.to_series().diff().dropna().dt.total_seconds().div(60)"
   ]
  },
  {
   "cell_type": "code",
   "execution_count": 15,
   "metadata": {},
   "outputs": [
    {
     "data": {
      "text/plain": [
       "count   2049279.000000\n",
       "mean          1.012677\n",
       "std           7.624718\n",
       "min           1.000000\n",
       "25%           1.000000\n",
       "50%           1.000000\n",
       "75%           1.000000\n",
       "max        7227.000000\n",
       "Name: local_time, dtype: float64"
      ]
     },
     "execution_count": 15,
     "metadata": {},
     "output_type": "execute_result"
    }
   ],
   "source": [
    "# Here actually we are calculating time difference, so diff 1 minutes means no missing value\n",
    "# 2 means, 1 missing value before some particular time stamp, slly 10 means 9 missing values before that particular time\n",
    "missing_stat.describe()"
   ]
  },
  {
   "cell_type": "code",
   "execution_count": 16,
   "metadata": {},
   "outputs": [
    {
     "name": "stdout",
     "output_type": "stream",
     "text": [
      "Count of missing timestamps instances:  (71,)\n"
     ]
    },
    {
     "data": {
      "text/plain": [
       "local_time\n",
       "2010-08-22 21:28:00   7227.000000\n",
       "2010-09-28 19:13:00   5238.000000\n",
       "2007-04-30 14:24:00   3724.000000\n",
       "2009-06-15 07:35:00   3306.000000\n",
       "2010-01-14 19:02:00   3130.000000\n",
       "2010-03-21 13:39:00   2028.000000\n",
       "2009-08-13 19:51:00    892.000000\n",
       "2007-07-15 18:12:00     84.000000\n",
       "2008-12-10 11:58:00     71.000000\n",
       "2007-07-15 19:08:00     48.000000\n",
       "Name: local_time, dtype: float64"
      ]
     },
     "execution_count": 16,
     "metadata": {},
     "output_type": "execute_result"
    }
   ],
   "source": [
    "print(\"Count of missing timestamps instances: \", missing_stat[missing_stat >= 2].shape)\n",
    "missing_stat[missing_stat >= 2].sort_values(ascending=False).head(10)"
   ]
  },
  {
   "cell_type": "code",
   "execution_count": 17,
   "metadata": {},
   "outputs": [],
   "source": [
    "missing_stat[missing_stat >= 2].plot(figsize=(10,5), title=\"Missing values time range\");"
   ]
  },
  {
   "cell_type": "code",
   "execution_count": 18,
   "metadata": {},
   "outputs": [
    {
     "name": "stdout",
     "output_type": "stream",
     "text": [
      "Consecutive missing values can go upto: 5.02 days\n"
     ]
    }
   ],
   "source": [
    "print(\"Consecutive missing values can go upto: {:.2f} days\".format((missing_stat.max() - 1) / (60*24)))"
   ]
  },
  {
   "cell_type": "markdown",
   "metadata": {},
   "source": [
    "### Ways to fill missing values\n",
    "1. When missing values are coming for few minutes (say 10, 20 minutes), Linearly interpolating the values will make sense as we don't expect very drastic change in over few minutes.\n",
    "2. When it is in hours, we might need to look for previous few days that particular time as well as nearby times can come up with an strategy.\n",
    "3. In our case it is going for days (5 days). It is little difficult to fill those values, anything can happen in those 5 days. Strategies can be followed such:\n",
    "    1. Looks for that particular weekday and time in last 30-60 days and fill the values with aggregated values from lookup time horizon.\n",
    "    2. As we have multiple years data, look for those particular date time over years (might not work much well, year to year this can change, when houshold buys new devices expectations are that consumptions will change).\n",
    "4. We can't apply methods like filling missing values by looking on the other values and trying to fit some models (say knn, regression) here. Because when 1 parameter is missing, other parameters are also missing.\n",
    "\n",
    "**Due to time constraints, I am not going to experiment with these methods. We need to create a fuzzy logic based on the period of missing values**\n",
    "_To keep it simple, I will try to just fill the values by looking previous days same time power consumption. For longer time periods (like 5 days), It will just repeat for all the days. Basically the data will be filled up with last available time stamps data_"
   ]
  },
  {
   "cell_type": "code",
   "execution_count": 19,
   "metadata": {},
   "outputs": [],
   "source": [
    "def fill_missing_values_simple(dataFrame):\n",
    "    \"\"\"\n",
    "    Input: dataFrame\n",
    "    Simple approach to fill missing values\n",
    "    If today some value is missing, look for yesterdays same time data and fill it up with that\n",
    "    Output: dataFrame\n",
    "    \"\"\"\n",
    "    one_day_minutes = 60 * 24\n",
    "    for row in range(dataFrame.values.shape[0]):\n",
    "        for col in range(dataFrame.values.shape[1]):\n",
    "            if np.isnan(dataFrame.values[row, col]):\n",
    "                dataFrame.values[row, col] = dataFrame.values[row - one_day_minutes, col]\n",
    "    return dataFrame"
   ]
  },
  {
   "cell_type": "code",
   "execution_count": null,
   "metadata": {},
   "outputs": [],
   "source": [
    "df = fill_missing_values_simple(dataFrame=df)"
   ]
  },
  {
   "cell_type": "code",
   "execution_count": null,
   "metadata": {},
   "outputs": [],
   "source": [
    "df.shape"
   ]
  },
  {
   "cell_type": "code",
   "execution_count": null,
   "metadata": {},
   "outputs": [],
   "source": [
    "# Verify if missing values are being filled\n",
    "df.isna().sum()"
   ]
  },
  {
   "cell_type": "code",
   "execution_count": null,
   "metadata": {},
   "outputs": [],
   "source": [
    "df.head()"
   ]
  },
  {
   "cell_type": "code",
   "execution_count": null,
   "metadata": {},
   "outputs": [],
   "source": [
    "[x for x in df.columns if \"metering\" in x]"
   ]
  },
  {
   "cell_type": "code",
   "execution_count": null,
   "metadata": {},
   "outputs": [],
   "source": [
    "# global_active_power is in kw, sub metering is in wH\n",
    "# We will get other part energy being consumed by converting global_active_power to energy and subtracting all other sub metering energy\n",
    "df['sub_metering_other'] = (df.global_active_power * 1000 / 60) - (df[[x for x in df.columns if \"metering\" in x]].sum(axis=1))"
   ]
  },
  {
   "cell_type": "code",
   "execution_count": null,
   "metadata": {},
   "outputs": [],
   "source": [
    "df.sub_metering_other.describe()"
   ]
  },
  {
   "cell_type": "code",
   "execution_count": null,
   "metadata": {},
   "outputs": [],
   "source": [
    "df[df.sub_metering_other<0].shape"
   ]
  },
  {
   "cell_type": "markdown",
   "metadata": {},
   "source": [
    "### Above observation is an interesting observation\n",
    "We expected that global_active_power (converted to energy) should be equal or lesser than all 3 energy meters combined readings.\n",
    "But here the negative values indicating that which is not true. And this is very unlikely. Though 1K records out of 2 million records is very less, we may be able to treat this as outliers or further extend the analysis to understand this. It may be because of fauly sensor readings.     \n",
    "**For the time being, we will change this negative value to ZERO**     \n",
    "_If time permits, we will try to understand this particular scenario in detail._"
   ]
  },
  {
   "cell_type": "code",
   "execution_count": null,
   "metadata": {},
   "outputs": [],
   "source": [
    "df.loc[df.sub_metering_other<0, \"sub_metering_other\"] = 0"
   ]
  },
  {
   "cell_type": "code",
   "execution_count": null,
   "metadata": {},
   "outputs": [],
   "source": [
    "df.describe()"
   ]
  },
  {
   "cell_type": "code",
   "execution_count": null,
   "metadata": {},
   "outputs": [],
   "source": [
    "# Saving the dataframe for later use\n",
    "df.to_csv(\"./data/cleaned_household_power_consumption.csv\")"
   ]
  },
  {
   "cell_type": "code",
   "execution_count": null,
   "metadata": {},
   "outputs": [],
   "source": []
  }
 ],
 "metadata": {
  "kernelspec": {
   "display_name": "Python 3",
   "language": "python",
   "name": "python3"
  },
  "language_info": {
   "codemirror_mode": {
    "name": "ipython",
    "version": 3
   },
   "file_extension": ".py",
   "mimetype": "text/x-python",
   "name": "python",
   "nbconvert_exporter": "python",
   "pygments_lexer": "ipython3",
   "version": "3.7.0"
  }
 },
 "nbformat": 4,
 "nbformat_minor": 2
}
