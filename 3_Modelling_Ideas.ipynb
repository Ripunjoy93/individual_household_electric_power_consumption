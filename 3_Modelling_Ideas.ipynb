{
 "cells": [
  {
   "cell_type": "markdown",
   "metadata": {},
   "source": [
    "## List of different models that we can try \n",
    "\n",
    "### Broad view\n",
    "1. **Models can be granular in minutely, hourly, daily, weekly etc.**    \n",
    "2. **It can be single step prediction: given recent history predict the next step.**    \n",
    "3. **It can be multi-step prediction: given recent history predict a sequence of next few steps.**    \n",
    "4. **Models can be univariate: use same sequence of variable to predict.**\n",
    "5. **Also, models can be multivariate: use sequence of other dependent variable + the variable itself to predict the dependent variable**"
   ]
  },
  {
   "cell_type": "markdown",
   "metadata": {},
   "source": [
    "### Ways to model and give forecast\n",
    "1. We can use classical time series models like (AR, MA, ARMA, ARIMA, SARIMA, SARIMAX etc.). But these models are very time consuming and we need to manually test and figure out lots of parameters.\n",
    "2. We can convert time series model in Machine Learning Model by carefully choosing features and lag variables carefully. Any regression kind of model we can learn/train on to understand the relationship. Here we can use feed forward fully connected deeplearning model architecture also to train our models.\n",
    "3. For point 2, if we need to do multistep forecasting. Then our work becomes little more harder. We can build direct models for each forecast lead time. Or we can use a single recursive model to forecast multiple lead times recursively. Recursive model works good for short few time stamps.\n",
    "4. Deep Learning architecture specially designed for sequence modelling can be used. Basically RNN type of models, or models inspired by RNN architecture. Best suited deep learning models are LSTM models for time series. We can use variations of LSTM based on our design, univariate to vector output (Vanila LSTM), encoder-decoder (for univariate and multivariate both), CNN-LSTM, ConvLSTM etc."
   ]
  },
  {
   "cell_type": "markdown",
   "metadata": {},
   "source": [
    "### According to our business need (explanability is needed or only interested in the output) we can try out and choose models."
   ]
  }
 ],
 "metadata": {
  "kernelspec": {
   "display_name": "Python 3",
   "language": "python",
   "name": "python3"
  },
  "language_info": {
   "codemirror_mode": {
    "name": "ipython",
    "version": 3
   },
   "file_extension": ".py",
   "mimetype": "text/x-python",
   "name": "python",
   "nbconvert_exporter": "python",
   "pygments_lexer": "ipython3",
   "version": "3.7.0"
  }
 },
 "nbformat": 4,
 "nbformat_minor": 2
}
