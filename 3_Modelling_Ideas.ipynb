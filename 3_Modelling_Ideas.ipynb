{
 "cells": [
  {
   "cell_type": "markdown",
   "metadata": {},
   "source": [
    "## List of different models that we can try \n",
    "\n",
    "### Broad view\n",
    "1. **Models can be granular in minutely, hourly, daily, weekly etc.**    \n",
    "2. **It can be single step prediction: given recent history predict the next step.**    \n",
    "3. **It can be multi-step prediction: given recent history predict a sequence of next few steps.**    \n",
    "4. **Models can be univariate: use same sequence of variable to predict.**\n",
    "5. **Also, models can be multivariate: use sequence of other dependent variable + the variable itself to predict the dependent variable**"
   ]
  },
  {
   "cell_type": "code",
   "execution_count": null,
   "metadata": {},
   "outputs": [],
   "source": []
  }
 ],
 "metadata": {
  "kernelspec": {
   "display_name": "Python 3",
   "language": "python",
   "name": "python3"
  },
  "language_info": {
   "codemirror_mode": {
    "name": "ipython",
    "version": 3
   },
   "file_extension": ".py",
   "mimetype": "text/x-python",
   "name": "python",
   "nbconvert_exporter": "python",
   "pygments_lexer": "ipython3",
   "version": "3.7.0"
  }
 },
 "nbformat": 4,
 "nbformat_minor": 2
}
