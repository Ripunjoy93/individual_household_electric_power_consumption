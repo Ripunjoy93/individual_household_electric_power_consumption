{
 "cells": [
  {
   "cell_type": "markdown",
   "metadata": {},
   "source": [
    "## LSTM model using univariate data to vector output\n",
    "**Going to aggregate the data into hourly basis**"
   ]
  },
  {
   "cell_type": "code",
   "execution_count": 1,
   "metadata": {},
   "outputs": [],
   "source": [
    "# coding: utf-8\n",
    "# !/usr/bin/env python3\n",
    "import pandas as pd\n",
    "pd.set_option(\"display.max_columns\", None)\n",
    "import numpy as np\n",
    "import warnings\n",
    "warnings.filterwarnings(\"ignore\")\n",
    "import datetime\n",
    "from sklearn.metrics import mean_squared_error\n",
    "from sklearn.preprocessing import MinMaxScaler\n",
    "from sklearn.externals import joblib\n",
    "import matplotlib.pyplot as plt\n",
    "from tensorflow.keras.models import Sequential\n",
    "from tensorflow.keras.layers import LSTM, Dense\n",
    "from tensorflow.keras import optimizers\n",
    "import tensorflow as tf"
   ]
  },
  {
   "cell_type": "code",
   "execution_count": 2,
   "metadata": {},
   "outputs": [],
   "source": [
    "# read dataset, if file is not available run: 1_Exploratory_Analylis.ipynb\n",
    "df = pd.read_csv(\"./data/cleaned_household_power_consumption.csv\", infer_datetime_format=True, parse_dates=[\"local_time\"],\n",
    "                index_col=[\"local_time\"], dtype=np.float32)\n",
    "# Just to be safer, data is already sorted\n",
    "df.sort_index(inplace=True)"
   ]
  },
  {
   "cell_type": "code",
   "execution_count": 3,
   "metadata": {},
   "outputs": [
    {
     "name": "stdout",
     "output_type": "stream",
     "text": [
      "Data Range:  2006-12-16 17:24:00  to  2010-11-26 21:02:00\n"
     ]
    }
   ],
   "source": [
    "print(\"Data Range: \", df.index.min(), \" to \", df.index.max())"
   ]
  },
  {
   "cell_type": "markdown",
   "metadata": {},
   "source": [
    "**Not in scope:**    \n",
    "As power is instantaneous reading, we will convert power to energy, and will predict the energy consumption in hours.\n",
    "Ideally global_active_power is in kw, sub meters are in watt-hours, need convert this power to energy also the unit to watt-hour, not kw-hour.     \n",
    "_**But just to showcase how models can be build, we won't go much into physics and aggregate accordingly, rather will just keep power as power and energy as energy for now**_"
   ]
  },
  {
   "cell_type": "code",
   "execution_count": 4,
   "metadata": {},
   "outputs": [],
   "source": [
    "df = df.resample(\"H\").sum()"
   ]
  },
  {
   "cell_type": "code",
   "execution_count": 5,
   "metadata": {},
   "outputs": [
    {
     "data": {
      "text/html": [
       "<div>\n",
       "<style scoped>\n",
       "    .dataframe tbody tr th:only-of-type {\n",
       "        vertical-align: middle;\n",
       "    }\n",
       "\n",
       "    .dataframe tbody tr th {\n",
       "        vertical-align: top;\n",
       "    }\n",
       "\n",
       "    .dataframe thead th {\n",
       "        text-align: right;\n",
       "    }\n",
       "</style>\n",
       "<table border=\"1\" class=\"dataframe\">\n",
       "  <thead>\n",
       "    <tr style=\"text-align: right;\">\n",
       "      <th></th>\n",
       "      <th>global_active_power</th>\n",
       "      <th>global_reactive_power</th>\n",
       "      <th>voltage</th>\n",
       "      <th>global_intensity</th>\n",
       "      <th>sub_metering_1</th>\n",
       "      <th>sub_metering_2</th>\n",
       "      <th>sub_metering_3</th>\n",
       "      <th>sub_metering_other</th>\n",
       "    </tr>\n",
       "    <tr>\n",
       "      <th>local_time</th>\n",
       "      <th></th>\n",
       "      <th></th>\n",
       "      <th></th>\n",
       "      <th></th>\n",
       "      <th></th>\n",
       "      <th></th>\n",
       "      <th></th>\n",
       "      <th></th>\n",
       "    </tr>\n",
       "  </thead>\n",
       "  <tbody>\n",
       "    <tr>\n",
       "      <th>2006-12-16 17:00:00</th>\n",
       "      <td>152.024002</td>\n",
       "      <td>8.243999</td>\n",
       "      <td>8447.179688</td>\n",
       "      <td>651.599976</td>\n",
       "      <td>0.0</td>\n",
       "      <td>19.0</td>\n",
       "      <td>607.0</td>\n",
       "      <td>1907.733398</td>\n",
       "    </tr>\n",
       "    <tr>\n",
       "      <th>2006-12-16 18:00:00</th>\n",
       "      <td>217.932007</td>\n",
       "      <td>4.802000</td>\n",
       "      <td>14074.809570</td>\n",
       "      <td>936.000000</td>\n",
       "      <td>0.0</td>\n",
       "      <td>403.0</td>\n",
       "      <td>1012.0</td>\n",
       "      <td>2217.199951</td>\n",
       "    </tr>\n",
       "    <tr>\n",
       "      <th>2006-12-16 19:00:00</th>\n",
       "      <td>204.013992</td>\n",
       "      <td>5.114000</td>\n",
       "      <td>13993.950195</td>\n",
       "      <td>870.200012</td>\n",
       "      <td>0.0</td>\n",
       "      <td>86.0</td>\n",
       "      <td>1001.0</td>\n",
       "      <td>2313.233398</td>\n",
       "    </tr>\n",
       "    <tr>\n",
       "      <th>2006-12-16 20:00:00</th>\n",
       "      <td>196.113998</td>\n",
       "      <td>4.506000</td>\n",
       "      <td>14044.290039</td>\n",
       "      <td>835.000000</td>\n",
       "      <td>0.0</td>\n",
       "      <td>0.0</td>\n",
       "      <td>1007.0</td>\n",
       "      <td>2261.566650</td>\n",
       "    </tr>\n",
       "    <tr>\n",
       "      <th>2006-12-16 21:00:00</th>\n",
       "      <td>183.388000</td>\n",
       "      <td>4.600000</td>\n",
       "      <td>14229.519531</td>\n",
       "      <td>782.799988</td>\n",
       "      <td>0.0</td>\n",
       "      <td>25.0</td>\n",
       "      <td>1033.0</td>\n",
       "      <td>1998.466675</td>\n",
       "    </tr>\n",
       "  </tbody>\n",
       "</table>\n",
       "</div>"
      ],
      "text/plain": [
       "                     global_active_power  global_reactive_power       voltage  \\\n",
       "local_time                                                                      \n",
       "2006-12-16 17:00:00           152.024002               8.243999   8447.179688   \n",
       "2006-12-16 18:00:00           217.932007               4.802000  14074.809570   \n",
       "2006-12-16 19:00:00           204.013992               5.114000  13993.950195   \n",
       "2006-12-16 20:00:00           196.113998               4.506000  14044.290039   \n",
       "2006-12-16 21:00:00           183.388000               4.600000  14229.519531   \n",
       "\n",
       "                     global_intensity  sub_metering_1  sub_metering_2  \\\n",
       "local_time                                                              \n",
       "2006-12-16 17:00:00        651.599976             0.0            19.0   \n",
       "2006-12-16 18:00:00        936.000000             0.0           403.0   \n",
       "2006-12-16 19:00:00        870.200012             0.0            86.0   \n",
       "2006-12-16 20:00:00        835.000000             0.0             0.0   \n",
       "2006-12-16 21:00:00        782.799988             0.0            25.0   \n",
       "\n",
       "                     sub_metering_3  sub_metering_other  \n",
       "local_time                                               \n",
       "2006-12-16 17:00:00           607.0         1907.733398  \n",
       "2006-12-16 18:00:00          1012.0         2217.199951  \n",
       "2006-12-16 19:00:00          1001.0         2313.233398  \n",
       "2006-12-16 20:00:00          1007.0         2261.566650  \n",
       "2006-12-16 21:00:00          1033.0         1998.466675  "
      ]
     },
     "execution_count": 5,
     "metadata": {},
     "output_type": "execute_result"
    }
   ],
   "source": [
    "df.head()"
   ]
  },
  {
   "cell_type": "markdown",
   "metadata": {},
   "source": [
    "**As we can see the first and last records don't have all the minutes, moreover the last records have only 2 minutes of data. So, I will get rid of this two records**"
   ]
  },
  {
   "cell_type": "code",
   "execution_count": 6,
   "metadata": {},
   "outputs": [],
   "source": [
    "df = df[~df.index.isin([\"2006-12-16 17:00:00\", \"2010-11-26 21:00:00\"])]"
   ]
  },
  {
   "cell_type": "code",
   "execution_count": 7,
   "metadata": {},
   "outputs": [
    {
     "data": {
      "text/plain": [
       "(34587, 8)"
      ]
     },
     "execution_count": 7,
     "metadata": {},
     "output_type": "execute_result"
    }
   ],
   "source": [
    "df.shape"
   ]
  },
  {
   "cell_type": "code",
   "execution_count": 8,
   "metadata": {},
   "outputs": [
    {
     "name": "stdout",
     "output_type": "stream",
     "text": [
      "Data Range:  2006-12-16 18:00:00  to  2010-11-26 20:00:00\n"
     ]
    }
   ],
   "source": [
    "print(\"Data Range: \", df.index.min(), \" to \", df.index.max())"
   ]
  },
  {
   "cell_type": "markdown",
   "metadata": {},
   "source": [
    "### Strategies for hourly prediction (next 48 hours)\n",
    "1. We will use sequence of **global_active_power** values to predict **global_active_power** itself. It's an univariate model.\n",
    "2. We need to provide multi-step time forecast (asking for minutely forecast for 2 days ie. 2 * 24 data points). Data start and end is not from begining hour of the first day also not till end hour of last day.\n",
    "3. For new prediction purpose, we will give 2 days prediction. That is 2010-11-24 21:00:00 to 2010-11-24 20:00:00.\n",
    "4. Model can be trained using prior few days/hours data (here equivalent hours). We will start with using prior 2 days data (48 hours data) to train the model. It can be extended to any days, say 3, 4, 5 days. or if we look through hours, say 72, 100, 120 hours prior.\n",
    "5. We will split the data into 3 sets (train, evaluate, test). And it will be in time series. And we will create a distict boundaries that no set can see the data from other set (be it the input sequence to train the model). We will keep last 48 + number of data in training as train set (if we don't do this, data will overlap). Here for test data, now we have 96 data points (considering, training with 48 data points). We will evaluate our model with 30 days (720 hours), so will keep next last 32 days data (768 hours). And remaining data points we will use for training our data."
   ]
  },
  {
   "cell_type": "markdown",
   "metadata": {},
   "source": [
    "### Train, Evaluate & Test split of univariate data:\n",
    "**(I am not creating functions now, once we are clear and confident about our steps we can wrap different building blocks as functions)**"
   ]
  },
  {
   "cell_type": "code",
   "execution_count": 9,
   "metadata": {},
   "outputs": [
    {
     "name": "stdout",
     "output_type": "stream",
     "text": [
      "Training data shape:  (33723, 8)\n",
      "Evaluation data shape:  (768, 8)\n",
      "Test data shape:  (96, 8)\n"
     ]
    }
   ],
   "source": [
    "n_input = 2 * 24\n",
    "n_output = 2 * 24\n",
    "test_index_start = n_input + n_output\n",
    "# 30 evaluation days\n",
    "eval_days = 30\n",
    "eval_index_start = n_input + eval_days * 24 + test_index_start\n",
    "values = df.values\n",
    "train, evaluate, test = values[:-eval_index_start], values[-eval_index_start:-test_index_start], values[-test_index_start:]\n",
    "print(\"Training data shape: \", train.shape)\n",
    "print(\"Evaluation data shape: \", evaluate.shape)\n",
    "print(\"Test data shape: \", test.shape)"
   ]
  },
  {
   "cell_type": "markdown",
   "metadata": {},
   "source": [
    "**We are getting evaluation and test data as mentioned in our startegy**    \n",
    "Note: Still we have 8 features, we need only 1 feature (global_active_power in index 0) to build our univariate model"
   ]
  },
  {
   "cell_type": "markdown",
   "metadata": {},
   "source": [
    "### Pre-processing:     \n",
    "(I am not trying to make a pipeline here. Later while productionizing the model pipeline will make more sense).   \n",
    "**Missing values imputation is already done, here I will to scale the data**    \n",
    "Note: We can experiment with and without scaling, but for simplicity and faster learning will scale the features through out the project.\n",
    "_I am going to use same strategy for multi-variate approach also as well as for different set of moddels. So, I will be saving the fitted scalar with all these 8 features for later use, though here I am using only 1 feature._"
   ]
  },
  {
   "cell_type": "code",
   "execution_count": 10,
   "metadata": {},
   "outputs": [
    {
     "name": "stdout",
     "output_type": "stream",
     "text": [
      "Training scaled data shape:  (33723, 8)\n",
      "Evaluation scaled data shape:  (768, 8)\n",
      "Test scaled data shape:  (96, 8)\n"
     ]
    }
   ],
   "source": [
    "scalar = MinMaxScaler()\n",
    "train_scaled = scalar.fit_transform(X=train)\n",
    "eval_scaled = scalar.transform(X=evaluate)\n",
    "test_scaled = scalar.transform(X=test)\n",
    "print(\"Training scaled data shape: \", train_scaled.shape)\n",
    "print(\"Evaluation scaled data shape: \", eval_scaled.shape)\n",
    "print(\"Test scaled data shape: \", test_scaled.shape)"
   ]
  },
  {
   "cell_type": "code",
   "execution_count": 11,
   "metadata": {},
   "outputs": [
    {
     "data": {
      "text/plain": [
       "['./hourly_models/min_max_all_feat_48_to_48.pkl']"
      ]
     },
     "execution_count": 11,
     "metadata": {},
     "output_type": "execute_result"
    }
   ],
   "source": [
    "# Saving this object for later use\n",
    "joblib.dump(scalar, \"./hourly_models/min_max_all_feat_48_to_48.pkl\")"
   ]
  },
  {
   "cell_type": "code",
   "execution_count": 12,
   "metadata": {},
   "outputs": [],
   "source": [
    "# Saving train, eval, test for later use\n",
    "np.save(\"./hourly_models/train_scaled_48_to_48.npy\", train_scaled)\n",
    "np.save(\"./hourly_models/eval_scaled_48_to_48.npy\", eval_scaled)\n",
    "np.save(\"./hourly_models/test_scaled_48_to_48.npy\", test_scaled)"
   ]
  },
  {
   "cell_type": "code",
   "execution_count": 13,
   "metadata": {},
   "outputs": [
    {
     "name": "stdout",
     "output_type": "stream",
     "text": [
      "Variable             Type            Data/Info\n",
      "----------------------------------------------\n",
      "Dense                type            <class 'tensorflow.python<...>keras.layers.core.Dense'>\n",
      "LSTM                 type            <class 'tensorflow.python<...>s.layers.recurrent.LSTM'>\n",
      "MinMaxScaler         type            <class 'sklearn.preprocessing.data.MinMaxScaler'>\n",
      "Sequential           type            <class 'tensorflow.python<...>e.sequential.Sequential'>\n",
      "datetime             module          <module 'datetime' from '<...>hon37\\\\lib\\\\datetime.py'>\n",
      "df                   DataFrame                            glob<...>n[34587 rows x 8 columns]\n",
      "eval_days            int             30\n",
      "eval_index_start     int             864\n",
      "eval_scaled          ndarray         768x8: 6144 elems, type `float32`, 24576 bytes\n",
      "evaluate             ndarray         768x8: 6144 elems, type `float32`, 24576 bytes\n",
      "joblib               module          <module 'sklearn.external<...>ls\\\\joblib\\\\__init__.py'>\n",
      "mean_squared_error   function        <function mean_squared_er<...>or at 0x0000028245DD7D08>\n",
      "n_input              int             48\n",
      "n_output             int             48\n",
      "np                   module          <module 'numpy' from 'c:\\<...>ges\\\\numpy\\\\__init__.py'>\n",
      "optimizers           module          <module 'tensorflow._api.<...>optimizers\\\\__init__.py'>\n",
      "pd                   module          <module 'pandas' from 'c:<...>es\\\\pandas\\\\__init__.py'>\n",
      "plt                  module          <module 'matplotlib.pyplo<...>\\\\matplotlib\\\\pyplot.py'>\n",
      "scalar               MinMaxScaler    MinMaxScaler(copy=True, feature_range=(0, 1))\n",
      "test                 ndarray         96x8: 768 elems, type `float32`, 3072 bytes\n",
      "test_index_start     int             96\n",
      "test_scaled          ndarray         96x8: 768 elems, type `float32`, 3072 bytes\n",
      "tf                   module          <module 'tensorflow' from<...>tensorflow\\\\__init__.py'>\n",
      "train                ndarray         33723x8: 269784 elems, type `float32`, 1079136 bytes (1.029144287109375 Mb)\n",
      "train_scaled         ndarray         33723x8: 269784 elems, type `float32`, 1079136 bytes (1.029144287109375 Mb)\n",
      "values               ndarray         34587x8: 276696 elems, type `float32`, 1106784 bytes (1.055511474609375 Mb)\n",
      "warnings             module          <module 'warnings' from '<...>hon37\\\\lib\\\\warnings.py'>\n"
     ]
    }
   ],
   "source": [
    "# Check the available variables and free up memory\n",
    "%whos"
   ]
  },
  {
   "cell_type": "code",
   "execution_count": 14,
   "metadata": {},
   "outputs": [
    {
     "name": "stdout",
     "output_type": "stream",
     "text": [
      "memory % used: 53.0\n"
     ]
    }
   ],
   "source": [
    "import psutil\n",
    "print('memory % used:', psutil.virtual_memory()[2])"
   ]
  },
  {
   "cell_type": "code",
   "execution_count": 15,
   "metadata": {},
   "outputs": [],
   "source": [
    "# deleting variables no longer required\n",
    "del df, eval_days, eval_index_start, evaluate, test, test_index_start, train, values"
   ]
  },
  {
   "cell_type": "markdown",
   "metadata": {},
   "source": [
    "### Preparing Input & Output dimensions"
   ]
  },
  {
   "cell_type": "code",
   "execution_count": 16,
   "metadata": {},
   "outputs": [],
   "source": [
    "def get_X_y(data, n_in, n_out=48):\n",
    "    X, y = list(), list()\n",
    "    in_start = 0\n",
    "    # step over the entire history one time step at a time\n",
    "    for _ in range(len(data)):\n",
    "        # define the end of the input sequence\n",
    "        in_end = in_start + n_input\n",
    "        out_end = in_end + n_out\n",
    "        # ensuring that we have enough data for this instance\n",
    "        if out_end <= len(data):\n",
    "            # need only 1 feature\n",
    "            x_input = data[in_start:in_end, 0]\n",
    "            # reshaping [timestemps, features]\n",
    "            x_input = x_input.reshape((len(x_input), 1))\n",
    "            # it will give [samples, timestemps, features]\n",
    "            X.append(x_input)\n",
    "            # [samples, output]\n",
    "            y.append(data[in_end:out_end, 0])\n",
    "        # move along one time step\n",
    "        in_start += 1\n",
    "    return np.array(X), np.array(y)"
   ]
  },
  {
   "cell_type": "code",
   "execution_count": 17,
   "metadata": {},
   "outputs": [
    {
     "name": "stdout",
     "output_type": "stream",
     "text": [
      "Train X shape:  (33628, 48, 1)\n",
      "Train y shape:  (33628, 48)\n",
      "Evaluation X shape:  (673, 48, 1)\n",
      "Evaluation y shape:  (673, 48)\n",
      "Test X shape:  (1, 48, 1)\n",
      "Test y shape:  (1, 48)\n"
     ]
    }
   ],
   "source": [
    "X_train, y_train = get_X_y(data=train_scaled, n_in=n_input, n_out=n_output)\n",
    "X_eval, y_eval = get_X_y(data=eval_scaled, n_in=n_input, n_out=n_output)\n",
    "X_test, y_test = get_X_y(data=test_scaled, n_in=n_input, n_out=n_output)\n",
    "print(\"Train X shape: \", X_train.shape)\n",
    "print(\"Train y shape: \", y_train.shape)\n",
    "print(\"Evaluation X shape: \", X_eval.shape)\n",
    "print(\"Evaluation y shape: \", y_eval.shape)\n",
    "print(\"Test X shape: \", X_test.shape)\n",
    "print(\"Test y shape: \", y_test.shape)"
   ]
  },
  {
   "cell_type": "code",
   "execution_count": 18,
   "metadata": {},
   "outputs": [
    {
     "name": "stdout",
     "output_type": "stream",
     "text": [
      "Train percent: 98.04 %\n",
      "Evaluation percent: 1.96 %\n",
      "Test percent: 0.00 %\n"
     ]
    }
   ],
   "source": [
    "total_samples = X_train.shape[0] + X_eval.shape[0] + X_test.shape[0]\n",
    "print(\"Train percent: {:.2f} %\".format(X_train.shape[0]*100/total_samples))\n",
    "print(\"Evaluation percent: {:.2f} %\".format(X_eval.shape[0]*100/total_samples))\n",
    "print(\"Test percent: {:.2f} %\".format(X_test.shape[0]*100/total_samples))"
   ]
  },
  {
   "cell_type": "markdown",
   "metadata": {},
   "source": [
    "### Define and build models"
   ]
  },
  {
   "cell_type": "code",
   "execution_count": 19,
   "metadata": {},
   "outputs": [
    {
     "name": "stdout",
     "output_type": "stream",
     "text": [
      "WARNING:tensorflow:From c:\\users\\ripunjoy gohain\\appdata\\local\\programs\\python\\python37\\lib\\site-packages\\tensorflow\\python\\ops\\resource_variable_ops.py:435: colocate_with (from tensorflow.python.framework.ops) is deprecated and will be removed in a future version.\n",
      "Instructions for updating:\n",
      "Colocations handled automatically by placer.\n",
      "WARNING:tensorflow:From c:\\users\\ripunjoy gohain\\appdata\\local\\programs\\python\\python37\\lib\\site-packages\\tensorflow\\python\\keras\\utils\\losses_utils.py:170: to_float (from tensorflow.python.ops.math_ops) is deprecated and will be removed in a future version.\n",
      "Instructions for updating:\n",
      "Use tf.cast instead.\n",
      "Training Started at:  2019-10-06 15:37:47.959423\n",
      "Epoch 1/50\n",
      " - 86s - loss: 0.0144\n",
      "Epoch 2/50\n",
      " - 80s - loss: 0.0133\n",
      "Epoch 3/50\n",
      " - 80s - loss: 0.0130\n",
      "Epoch 4/50\n",
      " - 83s - loss: 0.0127\n",
      "Epoch 5/50\n",
      " - 78s - loss: 0.0125\n",
      "Epoch 6/50\n",
      " - 79s - loss: 0.0123\n",
      "Epoch 7/50\n",
      " - 79s - loss: 0.0120\n",
      "Epoch 8/50\n",
      " - 80s - loss: 0.0116\n",
      "Epoch 9/50\n",
      " - 78s - loss: 0.0113\n",
      "Epoch 10/50\n",
      " - 78s - loss: 0.0110\n",
      "Epoch 11/50\n",
      " - 78s - loss: 0.0106\n",
      "Epoch 12/50\n",
      " - 78s - loss: 0.0103\n",
      "Epoch 13/50\n",
      " - 78s - loss: 0.0100\n",
      "Epoch 14/50\n",
      " - 77s - loss: 0.0097\n",
      "Epoch 15/50\n",
      " - 78s - loss: 0.0105\n",
      "Epoch 16/50\n",
      " - 79s - loss: 0.0139\n",
      "Epoch 17/50\n",
      " - 78s - loss: 0.0130\n",
      "Epoch 18/50\n",
      " - 78s - loss: 0.0127\n",
      "Epoch 19/50\n",
      " - 77s - loss: 0.0198\n",
      "Epoch 20/50\n",
      " - 78s - loss: 0.0243\n",
      "Epoch 21/50\n",
      " - 77s - loss: 0.0228\n",
      "Epoch 22/50\n",
      " - 77s - loss: 0.0219\n",
      "Epoch 23/50\n",
      " - 76s - loss: 0.0200\n",
      "Epoch 24/50\n",
      " - 79s - loss: 0.0197\n",
      "Epoch 25/50\n",
      " - 78s - loss: 0.0194\n",
      "Epoch 26/50\n",
      " - 79s - loss: 0.0197\n",
      "Epoch 27/50\n",
      " - 79s - loss: 0.0205\n",
      "Epoch 28/50\n",
      " - 78s - loss: 0.0194\n",
      "Epoch 29/50\n",
      " - 77s - loss: 0.0193\n",
      "Epoch 30/50\n",
      " - 82s - loss: 0.0193\n",
      "Epoch 31/50\n",
      " - 80s - loss: 0.0193\n",
      "Epoch 32/50\n",
      " - 78s - loss: 0.0193\n",
      "Epoch 33/50\n",
      " - 78s - loss: 0.0193\n",
      "Epoch 34/50\n",
      " - 79s - loss: 0.0193\n",
      "Epoch 35/50\n",
      " - 79s - loss: 0.0192\n",
      "Epoch 36/50\n",
      " - 78s - loss: 0.0192\n",
      "Epoch 37/50\n",
      " - 76s - loss: 0.0191\n",
      "Epoch 38/50\n",
      " - 79s - loss: 0.0189\n",
      "Epoch 39/50\n",
      " - 79s - loss: 0.0189\n",
      "Epoch 40/50\n",
      " - 77s - loss: 0.0185\n",
      "Epoch 41/50\n",
      " - 79s - loss: 0.0184\n",
      "Epoch 42/50\n",
      " - 87s - loss: 0.0180\n",
      "Epoch 43/50\n",
      " - 91s - loss: 0.0181\n",
      "Epoch 44/50\n",
      " - 97s - loss: 0.0180\n",
      "Epoch 45/50\n",
      " - 84s - loss: 0.0169\n",
      "Epoch 46/50\n",
      " - 84s - loss: 0.0164\n",
      "Epoch 47/50\n",
      " - 86s - loss: 0.0161\n",
      "Epoch 48/50\n",
      " - 100s - loss: 0.0159\n",
      "Epoch 49/50\n",
      " - 102s - loss: 0.0158\n",
      "Epoch 50/50\n",
      " - 107s - loss: 0.0157\n",
      "Training Ended at:  2019-10-06 16:45:32.219433\n"
     ]
    }
   ],
   "source": [
    "# seeding the random number generation\n",
    "seed = 101\n",
    "np.random.seed(seed)\n",
    "tf.set_random_seed(seed)\n",
    "# defining parameters\n",
    "learning_rate = 0.01\n",
    "epochs = 50\n",
    "batch_size = 16\n",
    "verbose = 2\n",
    "n_timesteps, n_features, n_outputs = X_train.shape[1], X_train.shape[2], y_train.shape[1]\n",
    "\n",
    "# define model\n",
    "model = Sequential()\n",
    "# This network is taking time: so getting rid of 1 dense layer\n",
    "# model.add(LSTM(200, activation=\"tanh\", input_shape=(n_timesteps, n_features)))\n",
    "# model.add(Dense(100, activation=\"relu\"))\n",
    "# LSTM with 100 neurons in the first visible layer\n",
    "model.add(LSTM(100, activation=\"tanh\", input_shape=(n_timesteps, n_features)))\n",
    "model.add(Dense(n_outputs))\n",
    "# create optimizer unit to define learning rate\n",
    "optmzr = optimizers.Adam(lr=learning_rate)\n",
    "model.compile(loss=\"mse\", optimizer=optmzr)\n",
    "# don't want to see the tensorflow warnings\n",
    "tf.logging.set_verbosity(tf.logging.ERROR)\n",
    "# fit network\n",
    "print(\"Training Started at: \", datetime.datetime.now())\n",
    "model.fit(X_train, y_train, epochs=epochs, batch_size=batch_size, verbose=verbose)\n",
    "print(\"Training Ended at: \", datetime.datetime.now())"
   ]
  },
  {
   "cell_type": "markdown",
   "metadata": {},
   "source": [
    "### We can see that training took approximately 70 minutes. I have a CPU with i5 processor with 16 gb RAM. No GPU.   \n",
    "**For faster processing, will try to use Google Colab**"
   ]
  },
  {
   "cell_type": "code",
   "execution_count": 91,
   "metadata": {},
   "outputs": [],
   "source": [
    "# Saving the model and learned weights\n",
    "# save model to JSON\n",
    "model_json = model.to_json()\n",
    "with open(\"./hourly_models/model_1/model.json\", \"w\") as json_file:\n",
    "    json_file.write(model_json)\n",
    "# serialize weights to HDF5\n",
    "model.save_weights(\"./hourly_models/model_1/model.h5\")"
   ]
  },
  {
   "cell_type": "markdown",
   "metadata": {},
   "source": [
    "### In above we didn't perform few steps like:\n",
    "1. Using validation split and saving it to history to check model performance.\n",
    "2. Checkpointing the best models.\n",
    "**I will include these things in later models**"
   ]
  },
  {
   "cell_type": "code",
   "execution_count": 92,
   "metadata": {},
   "outputs": [
    {
     "data": {
      "text/plain": [
       "dict_keys(['loss'])"
      ]
     },
     "execution_count": 92,
     "metadata": {},
     "output_type": "execute_result"
    }
   ],
   "source": [
    "# only available part is training loss because of previously mentioned issues\n",
    "model.history.history.keys()"
   ]
  },
  {
   "cell_type": "code",
   "execution_count": 93,
   "metadata": {},
   "outputs": [
    {
     "data": {
      "image/png": "[encoded data removed]",
      "text/plain": [
       "<Figure size 432x288 with 1 Axes>"
      ]
     },
     "metadata": {},
     "output_type": "display_data"
    }
   ],
   "source": [
    "plt.plot(model.history.history[\"loss\"])\n",
    "plt.title(\"Training Loss\")\n",
    "plt.ylabel(\"mse_loss\")\n",
    "plt.xlabel(\"epoch\")\n",
    "plt.legend([\"train\"], loc='upper left');"
   ]
  },
  {
   "cell_type": "markdown",
   "metadata": {},
   "source": [
    "### As we see, the loss was decreasing (less than 0.01) initial few epoch and then started raising and later it was coming back.\n",
    "**Possibilities**\n",
    "1. May be because of learning rate model went to some other region and struggling hard to move out from that region.\n",
    "2. I should have saved the best model to use later.\n",
    "3. Early stopping might help.\n",
    "4. Need to try with other combinations and hyper parameter tunings."
   ]
  },
  {
   "cell_type": "markdown",
   "metadata": {},
   "source": [
    "#### Loss with evaluate dataset"
   ]
  },
  {
   "cell_type": "code",
   "execution_count": 94,
   "metadata": {},
   "outputs": [
    {
     "name": "stdout",
     "output_type": "stream",
     "text": [
      "673/673 [==============================] - 0s 288us/sample - loss: 0.0156\n"
     ]
    },
    {
     "data": {
      "text/plain": [
       "0.015584676107184139"
      ]
     },
     "execution_count": 94,
     "metadata": {},
     "output_type": "execute_result"
    }
   ],
   "source": [
    "model.evaluate(X_eval, y_eval)"
   ]
  },
  {
   "cell_type": "markdown",
   "metadata": {},
   "source": [
    "#### Checking the actual forecast from the evaluate dataset"
   ]
  },
  {
   "cell_type": "code",
   "execution_count": 95,
   "metadata": {},
   "outputs": [
    {
     "data": {
      "text/plain": [
       "(673, 48, 1)"
      ]
     },
     "execution_count": 95,
     "metadata": {},
     "output_type": "execute_result"
    }
   ],
   "source": [
    "X_eval.shape"
   ]
  },
  {
   "cell_type": "code",
   "execution_count": 96,
   "metadata": {},
   "outputs": [],
   "source": [
    "predictions = []\n",
    "for arr in X_eval:\n",
    "    # here array shape is (n_input, 1)\n",
    "    yhat = model.predict(arr.reshape(1, n_input, 1))\n",
    "    predictions.append(yhat)\n",
    "predictions = np.array(predictions)"
   ]
  },
  {
   "cell_type": "code",
   "execution_count": 97,
   "metadata": {},
   "outputs": [
    {
     "data": {
      "text/plain": [
       "(673, 1, 48)"
      ]
     },
     "execution_count": 97,
     "metadata": {},
     "output_type": "execute_result"
    }
   ],
   "source": [
    "predictions.shape"
   ]
  },
  {
   "cell_type": "code",
   "execution_count": 98,
   "metadata": {},
   "outputs": [
    {
     "data": {
      "text/plain": [
       "(673, 48)"
      ]
     },
     "execution_count": 98,
     "metadata": {},
     "output_type": "execute_result"
    }
   ],
   "source": [
    "y_eval.shape"
   ]
  },
  {
   "cell_type": "code",
   "execution_count": 99,
   "metadata": {},
   "outputs": [],
   "source": [
    "# we can check how far they lie\n",
    "scores = list()\n",
    "# calculate an RMSE score for each hour\n",
    "# make the prediction shape as eval shape\n",
    "pred = predictions.reshape(predictions.shape[0], predictions.shape[2])\n",
    "#  0th index of scalar values will have details about global_active_power\n",
    "mult_range = scalar.data_range_[0]\n",
    "add_min = scalar.data_min_[0]\n",
    "for i in range(y_eval.shape[1]):\n",
    "    # convert to original scale, we have used MinMaxScalar\n",
    "    y_eval_inverse = y_eval[:, i] * mult_range + add_min\n",
    "    pred_inverse = pred[:, i] * mult_range + add_min\n",
    "    # calculate mse\n",
    "    mse = mean_squared_error(y_eval_inverse, pred_inverse)\n",
    "    # calculate rmse\n",
    "    rmse = np.sqrt(mse)\n",
    "    # store\n",
    "    scores.append(rmse)"
   ]
  },
  {
   "cell_type": "code",
   "execution_count": 100,
   "metadata": {},
   "outputs": [
    {
     "data": {
      "text/plain": [
       "Text(0,0.5,'Prediction Hours')"
      ]
     },
     "execution_count": 100,
     "metadata": {},
     "output_type": "execute_result"
    },
    {
     "data": {
      "image/png": "[encoded data removed]",
      "text/plain": [
       "<Figure size 432x288 with 1 Axes>"
      ]
     },
     "metadata": {},
     "output_type": "display_data"
    }
   ],
   "source": [
    "hours = np.arange(1,49)\n",
    "plt.plot(hours, scores, marker='x', color=\"r\")\n",
    "plt.title(\"Hour wise RMSE extended for 48 hours\")\n",
    "plt.ylabel(\"RMSE global_active_power\")\n",
    "plt.ylabel(\"Prediction Hours\")"
   ]
  },
  {
   "cell_type": "markdown",
   "metadata": {},
   "source": [
    "### Though we don't have the best model, we can see that very short-term prediction is better compared to long term predictions."
   ]
  },
  {
   "cell_type": "code",
   "execution_count": 101,
   "metadata": {},
   "outputs": [
    {
     "name": "stdout",
     "output_type": "stream",
     "text": [
      "Overall RMSE for 1 months evaluation period is: 48.21\n"
     ]
    }
   ],
   "source": [
    "# Checking overall RMSE\n",
    "mult_range = scalar.data_range_[0]\n",
    "add_min = scalar.data_min_[0]\n",
    "overall_mse = mean_squared_error(y_eval.flatten() * mult_range + add_min, pred.flatten() * mult_range + add_min)\n",
    "overall_rmse = np.sqrt(overall_mse)\n",
    "print(\"Overall RMSE for 1 months evaluation period is: {:.2f}\".format(overall_rmse))"
   ]
  }
 ],
 "metadata": {
  "kernelspec": {
   "display_name": "Python 3",
   "language": "python",
   "name": "python3"
  },
  "language_info": {
   "codemirror_mode": {
    "name": "ipython",
    "version": 3
   },
   "file_extension": ".py",
   "mimetype": "text/x-python",
   "name": "python",
   "nbconvert_exporter": "python",
   "pygments_lexer": "ipython3",
   "version": "3.7.0"
  }
 },
 "nbformat": 4,
 "nbformat_minor": 2
}
